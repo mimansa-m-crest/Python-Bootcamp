{
 "cells": [
  {
   "cell_type": "code",
   "execution_count": 1,
   "id": "76f6856d-a3e8-4fb0-a348-f063418a935e",
   "metadata": {},
   "outputs": [],
   "source": [
    "# def keyword\n",
    "\n",
    "def say_hello():      # say_hello is a function defined\n",
    "    print('hello')\n",
    "    print('how')\n",
    "    print('are')\n",
    "    print('you?')"
   ]
  },
  {
   "cell_type": "code",
   "execution_count": 2,
   "id": "2c72e85e-05b2-4524-83a9-35173b8d6ad9",
   "metadata": {},
   "outputs": [
    {
     "name": "stdout",
     "output_type": "stream",
     "text": [
      "hello\n",
      "how\n",
      "are\n",
      "you?\n"
     ]
    }
   ],
   "source": [
    "say_hello()"
   ]
  },
  {
   "cell_type": "code",
   "execution_count": 3,
   "id": "05708048-bf7a-4932-a17e-5c62c3e92e41",
   "metadata": {},
   "outputs": [],
   "source": [
    "def add_num():\n",
    "    print(a+b)\n",
    "    return(a+b)  # return is the output it will return "
   ]
  },
  {
   "cell_type": "code",
   "execution_count": 7,
   "id": "46332d06-dd2a-418c-b40d-a62825dfc4f3",
   "metadata": {},
   "outputs": [
    {
     "name": "stdout",
     "output_type": "stream",
     "text": [
      "30\n"
     ]
    }
   ],
   "source": [
    "result = print(10+20)"
   ]
  },
  {
   "cell_type": "code",
   "execution_count": 10,
   "id": "c5a9417d-5dee-4731-b5c1-601890157f55",
   "metadata": {},
   "outputs": [],
   "source": [
    "def check_even(num):\n",
    "    if num%2 == 0:\n",
    "        return True\n",
    "    else:\n",
    "        return False\n",
    "    \n",
    "    "
   ]
  },
  {
   "cell_type": "code",
   "execution_count": 9,
   "id": "3f07491c-19a5-4dd1-b17a-049f3d98171b",
   "metadata": {},
   "outputs": [
    {
     "data": {
      "text/plain": [
       "True"
      ]
     },
     "execution_count": 9,
     "metadata": {},
     "output_type": "execute_result"
    }
   ],
   "source": [
    "check_even(20)"
   ]
  },
  {
   "cell_type": "code",
   "execution_count": 12,
   "id": "0f162ffd-4f9f-4673-976e-a86f85b020a8",
   "metadata": {},
   "outputs": [
    {
     "data": {
      "text/plain": [
       "False"
      ]
     },
     "execution_count": 12,
     "metadata": {},
     "output_type": "execute_result"
    }
   ],
   "source": [
    "check_even(21)"
   ]
  },
  {
   "cell_type": "code",
   "execution_count": 13,
   "id": "5c5965b5-1cfd-4582-9bc9-675807b28218",
   "metadata": {},
   "outputs": [],
   "source": [
    "def check_even_list(num_list):\n",
    "    for num in num_list:\n",
    "        if num%2 == 0:\n",
    "            return True\n",
    "        else:\n",
    "            return False"
   ]
  },
  {
   "cell_type": "code",
   "execution_count": 17,
   "id": "cb7840cb-3266-4745-94ef-3e1afa79baed",
   "metadata": {},
   "outputs": [
    {
     "data": {
      "text/plain": [
       "False"
      ]
     },
     "execution_count": 17,
     "metadata": {},
     "output_type": "execute_result"
    }
   ],
   "source": [
    "check_even_list([1,4,6])"
   ]
  },
  {
   "cell_type": "code",
   "execution_count": 22,
   "id": "6c1e94fd-4557-45a7-ac15-dbaac9369592",
   "metadata": {},
   "outputs": [],
   "source": [
    "def check_even_list(num_list):\n",
    "\n",
    "    even_num = []\n",
    "    for num in num_list:\n",
    "        if num%2 == 0:\n",
    "            even_num.append(num)\n",
    "        \n",
    "    return even_num"
   ]
  },
  {
   "cell_type": "code",
   "execution_count": 23,
   "id": "d8785941-59c2-4a33-9a2f-0e0437ad252f",
   "metadata": {},
   "outputs": [
    {
     "data": {
      "text/plain": [
       "[4, 6]"
      ]
     },
     "execution_count": 23,
     "metadata": {},
     "output_type": "execute_result"
    }
   ],
   "source": [
    "check_even_list([1,4,6])"
   ]
  },
  {
   "cell_type": "code",
   "execution_count": 24,
   "id": "d1d9db70-da7e-4116-ab5c-0574bddcaea0",
   "metadata": {},
   "outputs": [],
   "source": [
    "stock_prices = (['APPL', 400], ['META', 500], ['GOOG', 300])"
   ]
  },
  {
   "cell_type": "code",
   "execution_count": 25,
   "id": "e4d908ce-1406-4aae-bd22-37b94fd2a43c",
   "metadata": {},
   "outputs": [
    {
     "name": "stdout",
     "output_type": "stream",
     "text": [
      "['APPL', 400]\n",
      "['META', 500]\n",
      "['GOOG', 300]\n"
     ]
    }
   ],
   "source": [
    "for item in stock_prices:\n",
    "    print(item)"
   ]
  },
  {
   "cell_type": "code",
   "execution_count": 26,
   "id": "4fad6982-bc70-415d-86dc-b1666d598b91",
   "metadata": {},
   "outputs": [],
   "source": [
    "work_hours = (['Ami', 50], ['dani', 60], ['mim', 40])"
   ]
  },
  {
   "cell_type": "code",
   "execution_count": 32,
   "id": "92657f16-99ab-4f2b-ba4e-3d6a492499f1",
   "metadata": {},
   "outputs": [],
   "source": [
    "def check_employee(work_hours):\n",
    "\n",
    "    current_max = 20\n",
    "    employee_of_the_month = ''\n",
    "\n",
    "    for employee,hours in work_hours:\n",
    "       if hours > current_max:\n",
    "           current_max = hours\n",
    "           employee_of_the_month = employee\n",
    "    return (employee_of_the_month, current_max)    "
   ]
  },
  {
   "cell_type": "code",
   "execution_count": 33,
   "id": "bd8cb8dc-7dc7-4e38-889e-6908cf774754",
   "metadata": {},
   "outputs": [
    {
     "data": {
      "text/plain": [
       "('dani', 60)"
      ]
     },
     "execution_count": 33,
     "metadata": {},
     "output_type": "execute_result"
    }
   ],
   "source": [
    "check_employee(work_hours)"
   ]
  },
  {
   "cell_type": "markdown",
   "id": "e31cbc0a-151b-401b-8b0c-0c1bdbfa9b17",
   "metadata": {},
   "source": [
    "# Game challenge"
   ]
  },
  {
   "cell_type": "code",
   "execution_count": 69,
   "id": "f63c98f2-79c2-4603-ba9b-c8a2ad95827f",
   "metadata": {},
   "outputs": [],
   "source": [
    "example = [1,2,3,4,5,6,7]"
   ]
  },
  {
   "cell_type": "code",
   "execution_count": 70,
   "id": "9e99e59b-e0dd-4bb6-87f6-42878fe93df1",
   "metadata": {},
   "outputs": [],
   "source": [
    "from random import shuffle"
   ]
  },
  {
   "cell_type": "code",
   "execution_count": 71,
   "id": "881e2fba-03cd-41cc-beae-210f2794acbf",
   "metadata": {},
   "outputs": [],
   "source": [
    "result = shuffle(example)"
   ]
  },
  {
   "cell_type": "code",
   "execution_count": 72,
   "id": "9a577aa7-5efc-44bd-b436-7e19fa2b53c1",
   "metadata": {},
   "outputs": [],
   "source": [
    "result"
   ]
  },
  {
   "cell_type": "code",
   "execution_count": 73,
   "id": "315d2287-6ad6-4e23-bb6f-2927ae831702",
   "metadata": {},
   "outputs": [],
   "source": [
    "def shuffle_list(mylist):\n",
    "    shuffle(mylist)\n",
    "    return mylist"
   ]
  },
  {
   "cell_type": "code",
   "execution_count": 74,
   "id": "bafe9e9e-1825-4c9f-99d4-05b954dc1429",
   "metadata": {},
   "outputs": [],
   "source": [
    "result = shuffle_list(example)\n"
   ]
  },
  {
   "cell_type": "code",
   "execution_count": 75,
   "id": "5366fc68-de63-4644-90fb-a63a2c2231ef",
   "metadata": {},
   "outputs": [
    {
     "data": {
      "text/plain": [
       "[1, 7, 2, 5, 4, 3, 6]"
      ]
     },
     "execution_count": 75,
     "metadata": {},
     "output_type": "execute_result"
    }
   ],
   "source": [
    "result"
   ]
  },
  {
   "cell_type": "code",
   "execution_count": 76,
   "id": "50f25930-fb3f-4bd5-bdc3-55fb60dbb0fd",
   "metadata": {},
   "outputs": [],
   "source": [
    "mylist =['','O','']"
   ]
  },
  {
   "cell_type": "code",
   "execution_count": 78,
   "id": "1d1b4d10-fbb2-4973-94ba-fe3ac140ac6a",
   "metadata": {},
   "outputs": [
    {
     "data": {
      "text/plain": [
       "['O', '', '']"
      ]
     },
     "execution_count": 78,
     "metadata": {},
     "output_type": "execute_result"
    }
   ],
   "source": [
    "shuffle_list(mylist)"
   ]
  },
  {
   "cell_type": "code",
   "execution_count": 83,
   "id": "8ccc362a-7a13-4555-85d1-f6265f10d387",
   "metadata": {},
   "outputs": [],
   "source": [
    "def player_guess():\n",
    "\n",
    "    guess = ''\n",
    "\n",
    "    while guess not in ['0','1','2']:\n",
    "         guess = input(\"Pick a number : 0,1,2\")\n",
    "    return int(guess)"
   ]
  },
  {
   "cell_type": "code",
   "execution_count": 84,
   "id": "f9e54d22-7cd2-4831-9218-65e78c431338",
   "metadata": {},
   "outputs": [
    {
     "name": "stdin",
     "output_type": "stream",
     "text": [
      "Pick a number : 0,1,2 4\n",
      "Pick a number : 0,1,2 2\n"
     ]
    },
    {
     "data": {
      "text/plain": [
       "2"
      ]
     },
     "execution_count": 84,
     "metadata": {},
     "output_type": "execute_result"
    }
   ],
   "source": [
    "player_guess()\n"
   ]
  },
  {
   "cell_type": "code",
   "execution_count": 86,
   "id": "0ab99a61-d972-4759-b40d-b74533a7bd77",
   "metadata": {},
   "outputs": [],
   "source": [
    "def check_guess(mylist,guess):\n",
    "    if mylist[guess] == 'O':\n",
    "        print(\"Correct\")\n",
    "    else:\n",
    "        print(\"Wrong\")\n",
    "        print(mylist)\n",
    "    \n",
    "    "
   ]
  },
  {
   "cell_type": "code",
   "execution_count": 88,
   "id": "35428bb7-6656-45ba-9bc4-435257de7e95",
   "metadata": {},
   "outputs": [
    {
     "name": "stdin",
     "output_type": "stream",
     "text": [
      "Pick a number : 0,1,2 3\n",
      "Pick a number : 0,1,2 2\n"
     ]
    },
    {
     "name": "stdout",
     "output_type": "stream",
     "text": [
      "Correct\n"
     ]
    }
   ],
   "source": [
    "mylist = ['','O','']\n",
    "\n",
    "mixed_list =shuffle_list(mylist)\n",
    "\n",
    "guess = player_guess()\n",
    "\n",
    "check_guess(mixed_list,guess)"
   ]
  },
  {
   "cell_type": "markdown",
   "id": "8c5fb61f-cf59-4330-8292-21d465e3b0ba",
   "metadata": {},
   "source": [
    "# Args and Kwargs"
   ]
  },
  {
   "cell_type": "code",
   "execution_count": 90,
   "id": "e031f98a-3468-4f08-9bdf-df39e81e637c",
   "metadata": {},
   "outputs": [],
   "source": [
    "def myfunc(*args,**kwargs):\n",
    "    print(args)\n",
    "    print(kwargs)\n",
    "    print('I would like to order {} {}' .format(args[0], kwargs['food']))\n",
    "    "
   ]
  },
  {
   "cell_type": "code",
   "execution_count": 91,
   "id": "396ce095-3832-476d-ae7d-ae30b466bcdb",
   "metadata": {},
   "outputs": [
    {
     "name": "stdout",
     "output_type": "stream",
     "text": [
      "(10, 20, 15)\n",
      "{'fruit': 'orange', 'food': 'Rajma Chawal'}\n",
      "I would like to order 10 Rajma Chawal\n"
     ]
    }
   ],
   "source": [
    "myfunc(10,20,15, fruit = 'orange', food = 'Rajma Chawal')      # args returns numbers/words and kwargs returns dictionaries"
   ]
  },
  {
   "cell_type": "markdown",
   "id": "e0781a1b-ee6e-4f85-be66-dba726f2961d",
   "metadata": {},
   "source": [
    "# Assessment Test"
   ]
  },
  {
   "cell_type": "code",
   "execution_count": 92,
   "id": "3ce78fb2-5cf1-43c8-ab88-e4c177788d3c",
   "metadata": {},
   "outputs": [],
   "source": [
    "def lesser_even_num(a,b):\n",
    "    if a%2== 0 and b%2==0:\n",
    "        return min(a,b)\n",
    "    else:\n",
    "        return max(a,b)"
   ]
  },
  {
   "cell_type": "code",
   "execution_count": 93,
   "id": "5858d39d-e3e6-46dd-9968-57b7310d784a",
   "metadata": {},
   "outputs": [
    {
     "data": {
      "text/plain": [
       "2"
      ]
     },
     "execution_count": 93,
     "metadata": {},
     "output_type": "execute_result"
    }
   ],
   "source": [
    "lesser_even_num(2,4)"
   ]
  },
  {
   "cell_type": "code",
   "execution_count": 98,
   "id": "f55aedbb-ae42-4661-bffd-f65afa935580",
   "metadata": {},
   "outputs": [],
   "source": [
    "wordlist = ['levelhead llama', 'crazy kangaroo']\n",
    "\n",
    "def animal_crackers(text):\n",
    "    wordlist = text.split()\n",
    "    return wordlist[0][0]==wordlist[1][0]"
   ]
  },
  {
   "cell_type": "code",
   "execution_count": 99,
   "id": "0f9933cc-a231-4acc-b107-d88f877481a1",
   "metadata": {},
   "outputs": [
    {
     "data": {
      "text/plain": [
       "True"
      ]
     },
     "execution_count": 99,
     "metadata": {},
     "output_type": "execute_result"
    }
   ],
   "source": [
    "animal_crackers('levelhead llama')"
   ]
  },
  {
   "cell_type": "code",
   "execution_count": 105,
   "id": "2da74081-1af5-4437-8162-37ab7a919267",
   "metadata": {},
   "outputs": [],
   "source": [
    "def make_twenty(num1,num2):\n",
    "     if (num1+num2)==20 or num1==20 or num2==20:\n",
    "         return True\n",
    "     else:\n",
    "       return False\n",
    "    "
   ]
  },
  {
   "cell_type": "code",
   "execution_count": 106,
   "id": "f0ade2dd-1fc4-4d95-86fa-fbb311802397",
   "metadata": {},
   "outputs": [
    {
     "data": {
      "text/plain": [
       "True"
      ]
     },
     "execution_count": 106,
     "metadata": {},
     "output_type": "execute_result"
    }
   ],
   "source": [
    "make_twenty(10,20)"
   ]
  },
  {
   "cell_type": "code",
   "execution_count": 107,
   "id": "8c9cf860-b5da-49d4-90f9-3051e9c672ce",
   "metadata": {},
   "outputs": [],
   "source": [
    "def old_macdonald(name):\n",
    "    if len(name)>3:\n",
    "        return name[:3].capitalize() + name[3:].capitalize()\n",
    "    else:\n",
    "        print('name is too short')"
   ]
  },
  {
   "cell_type": "code",
   "execution_count": 111,
   "id": "4b532c56-b64a-414d-8c1d-854b5c27200f",
   "metadata": {},
   "outputs": [
    {
     "data": {
      "text/plain": [
       "'MacDonald'"
      ]
     },
     "execution_count": 111,
     "metadata": {},
     "output_type": "execute_result"
    }
   ],
   "source": [
    "old_macdonald('macdonald')"
   ]
  },
  {
   "cell_type": "code",
   "execution_count": 112,
   "id": "23a03959-0825-4c66-bde1-b4c880bc0f13",
   "metadata": {},
   "outputs": [],
   "source": [
    "def reverse_string(text):\n",
    "    return ' '.join(text.split()[::-1])"
   ]
  },
  {
   "cell_type": "code",
   "execution_count": 113,
   "id": "fbdc4e26-b7f0-4db9-a373-7a0af4a23bcc",
   "metadata": {},
   "outputs": [
    {
     "data": {
      "text/plain": [
       "'you are how'"
      ]
     },
     "execution_count": 113,
     "metadata": {},
     "output_type": "execute_result"
    }
   ],
   "source": [
    "reverse_string('how are you')"
   ]
  },
  {
   "cell_type": "code",
   "execution_count": 114,
   "id": "3e276436-3d70-4677-8f49-f0ac9f58c98c",
   "metadata": {},
   "outputs": [],
   "source": [
    "def almost_there(n):\n",
    "    return (abs(100 - n) <= 10) or (abs(200 - n) <= 10)"
   ]
  },
  {
   "cell_type": "code",
   "execution_count": 116,
   "id": "7c572d3b-0324-4e7e-b863-7624d100d2b0",
   "metadata": {},
   "outputs": [
    {
     "data": {
      "text/plain": [
       "True"
      ]
     },
     "execution_count": 116,
     "metadata": {},
     "output_type": "execute_result"
    }
   ],
   "source": [
    "almost_there(110)"
   ]
  },
  {
   "cell_type": "code",
   "execution_count": 117,
   "id": "61074028-36a5-457c-aa73-ec39a472f9c7",
   "metadata": {},
   "outputs": [],
   "source": [
    "def paper_doll(text):\n",
    "    result = ''\n",
    "\n",
    "    for char in text:\n",
    "        result = result + char*3\n",
    "        return result\n",
    "        "
   ]
  },
  {
   "cell_type": "code",
   "execution_count": 119,
   "id": "d635cb62-34eb-4c55-a89c-bcead42721ea",
   "metadata": {},
   "outputs": [
    {
     "data": {
      "text/plain": [
       "'hhh'"
      ]
     },
     "execution_count": 119,
     "metadata": {},
     "output_type": "execute_result"
    }
   ],
   "source": [
    "paper_doll('hello')"
   ]
  },
  {
   "cell_type": "code",
   "execution_count": 124,
   "id": "1bbaad86-9b12-4ffb-ae9f-dab66788b50b",
   "metadata": {},
   "outputs": [],
   "source": [
    "def blackjack(a,b,c):\n",
    "    if sum((a,b,c))<=21:\n",
    "        return sum((a,b,c))\n",
    "    elif sum((a,b,c)) > 21 and 11 in (a,b,c):\n",
    "        return sum((a,b,c)) - 10\n",
    "    else:\n",
    "        return 'BUST'"
   ]
  },
  {
   "cell_type": "code",
   "execution_count": 125,
   "id": "d17ba557-164b-4e93-a894-91263d5bcb78",
   "metadata": {},
   "outputs": [
    {
     "data": {
      "text/plain": [
       "14"
      ]
     },
     "execution_count": 125,
     "metadata": {},
     "output_type": "execute_result"
    }
   ],
   "source": [
    "blackjack(2,3,9)"
   ]
  },
  {
   "cell_type": "code",
   "execution_count": 126,
   "id": "3cbdc592-50c9-4365-938b-88a48c3f7e06",
   "metadata": {},
   "outputs": [],
   "source": [
    "def spy_game(nums):                \n",
    "\n",
    "    code = [0,0,7,'x']\n",
    "\n",
    "    for num in nums:\n",
    "        if num == code[0]:\n",
    "            code.pop(0)\n",
    "    return len(code) == 1\n",
    "    "
   ]
  },
  {
   "cell_type": "code",
   "execution_count": 127,
   "id": "9f26fe07-2473-4e7e-8493-9254a7be9020",
   "metadata": {},
   "outputs": [
    {
     "data": {
      "text/plain": [
       "True"
      ]
     },
     "execution_count": 127,
     "metadata": {},
     "output_type": "execute_result"
    }
   ],
   "source": [
    "spy_game([1,3,4,0,4,0,6,7,8])"
   ]
  },
  {
   "cell_type": "code",
   "execution_count": 131,
   "id": "2d0792d6-00c2-4595-94c1-200c74403c05",
   "metadata": {},
   "outputs": [],
   "source": [
    "def count_primes(num):\n",
    "\n",
    "    if num < 2:\n",
    "        return 0\n",
    "\n",
    "    primes = [2]\n",
    "\n",
    "    for x in range(3, num+ 1, 2):\n",
    "        if all (x % p != 0 for p in primes):\n",
    "            primes.append(x)\n",
    "\n",
    "    return len(primes)\n",
    "\n",
    "    "
   ]
  },
  {
   "cell_type": "code",
   "execution_count": 132,
   "id": "854c5253-d52b-42a3-951d-34dbfa0ad683",
   "metadata": {},
   "outputs": [
    {
     "data": {
      "text/plain": [
       "4"
      ]
     },
     "execution_count": 132,
     "metadata": {},
     "output_type": "execute_result"
    }
   ],
   "source": [
    "count_primes(10)"
   ]
  },
  {
   "cell_type": "code",
   "execution_count": 133,
   "id": "15757a95-248c-498c-9b69-3ed9534aa38a",
   "metadata": {},
   "outputs": [
    {
     "name": "stdout",
     "output_type": "stream",
     "text": [
      "['HELLO', 'WORLD']\n"
     ]
    }
   ],
   "source": [
    "words = ['hello', 'world']\n",
    "uppercased = list(map(str.upper, words))\n",
    "print(uppercased) \n"
   ]
  },
  {
   "cell_type": "code",
   "execution_count": 135,
   "id": "765c8241-d55d-4d64-af9a-ef7b4ecd70e3",
   "metadata": {},
   "outputs": [
    {
     "name": "stdout",
     "output_type": "stream",
     "text": [
      "25\n"
     ]
    }
   ],
   "source": [
    "square = lambda x: x ** 2\n",
    "print(square(5)) \n",
    "\n",
    "def square(x):\n",
    "    return x ** 2\n",
    "\n",
    "\n",
    "# lamda is used to define a unknown function\n",
    "# both are same\n"
   ]
  },
  {
   "cell_type": "code",
   "execution_count": 137,
   "id": "257af4e5-e4b7-4521-bd26-8fdb65019d49",
   "metadata": {},
   "outputs": [
    {
     "name": "stdout",
     "output_type": "stream",
     "text": [
      "[2, 4, 6]\n"
     ]
    }
   ],
   "source": [
    "nums = [1, 2, 3, 4, 5, 6]\n",
    "evens = list(filter(lambda x: x % 2 == 0, nums))\n",
    "print(evens)\n"
   ]
  }
 ],
 "metadata": {
  "kernelspec": {
   "display_name": "Python 3 (ipykernel)",
   "language": "python",
   "name": "python3"
  },
  "language_info": {
   "codemirror_mode": {
    "name": "ipython",
    "version": 3
   },
   "file_extension": ".py",
   "mimetype": "text/x-python",
   "name": "python",
   "nbconvert_exporter": "python",
   "pygments_lexer": "ipython3",
   "version": "3.13.5"
  }
 },
 "nbformat": 4,
 "nbformat_minor": 5
}
