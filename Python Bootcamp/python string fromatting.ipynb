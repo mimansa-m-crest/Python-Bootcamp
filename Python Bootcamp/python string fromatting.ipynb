{
 "cells": [
  {
   "cell_type": "markdown",
   "id": "58258d2c-5e6c-4b2b-9ccc-7f1f2a14d692",
   "metadata": {},
   "source": [
    "String Formatting"
   ]
  },
  {
   "cell_type": "markdown",
   "id": "2e31902e-c1bd-4771-b1b4-769885f1d32f",
   "metadata": {},
   "source": [
    ".format() method"
   ]
  },
  {
   "cell_type": "markdown",
   "id": "0d19ae5e-2441-4c77-9781-3a40f0792f53",
   "metadata": {},
   "source": [
    "syntax:\n",
    "\n",
    "('string then {}'.format('something'))\n"
   ]
  },
  {
   "cell_type": "code",
   "execution_count": 3,
   "id": "1cde91f9-6b3c-4cbf-9656-f14c5849c5d4",
   "metadata": {},
   "outputs": [
    {
     "name": "stdout",
     "output_type": "stream",
     "text": [
      "this is a string inserted\n"
     ]
    }
   ],
   "source": [
    "# for example\n",
    "\n",
    "print('this is a string {}'.format('inserted'))\n",
    "      "
   ]
  },
  {
   "cell_type": "code",
   "execution_count": 5,
   "id": "c793145b-b7b4-43fe-b346-cb6e253ef9bb",
   "metadata": {},
   "outputs": [
    {
     "name": "stdout",
     "output_type": "stream",
     "text": [
      "the fox is clever\n"
     ]
    }
   ],
   "source": [
    "print( 'the {} {} {}' . format('fox', 'is', 'clever'))"
   ]
  },
  {
   "cell_type": "code",
   "execution_count": 6,
   "id": "5e39ec4b-4e14-4164-8565-cd6f28df6159",
   "metadata": {},
   "outputs": [
    {
     "name": "stdout",
     "output_type": "stream",
     "text": [
      "the fox fox fox\n"
     ]
    }
   ],
   "source": [
    "print('the {0} {0} {0}' . format('fox', 'is', 'clever'))"
   ]
  },
  {
   "cell_type": "code",
   "execution_count": 7,
   "id": "67b402e2-1e78-4184-afbf-fb1d5c899545",
   "metadata": {},
   "outputs": [
    {
     "name": "stdout",
     "output_type": "stream",
     "text": [
      "the fox is clever\n"
     ]
    }
   ],
   "source": [
    "print('the {f} {g} {h}' . format(f='fox',g= 'is', h='clever'))"
   ]
  },
  {
   "cell_type": "markdown",
   "id": "689d7c19-2810-4514-9a2c-c33e984ef367",
   "metadata": {},
   "source": [
    "Lists"
   ]
  },
  {
   "cell_type": "code",
   "execution_count": 8,
   "id": "1e49e239-4344-4b08-bbdc-31f379bc6275",
   "metadata": {},
   "outputs": [
    {
     "data": {
      "text/plain": [
       "[1, 2, 3, 4, 5]"
      ]
     },
     "execution_count": 8,
     "metadata": {},
     "output_type": "execute_result"
    }
   ],
   "source": [
    "list = [1,2,3,4,5]\n",
    "list"
   ]
  },
  {
   "cell_type": "code",
   "execution_count": 11,
   "id": "c13675d1-2e31-43ef-bcb8-9ff3025b5344",
   "metadata": {},
   "outputs": [
    {
     "data": {
      "text/plain": [
       "['hi', 2, 3, 4, 5]"
      ]
     },
     "execution_count": 11,
     "metadata": {},
     "output_type": "execute_result"
    }
   ],
   "source": [
    "list[0]= 'hi'\n",
    "list"
   ]
  },
  {
   "cell_type": "code",
   "execution_count": 13,
   "id": "b47f59d4-81cd-486f-97ed-d168d815ce01",
   "metadata": {},
   "outputs": [
    {
     "data": {
      "text/plain": [
       "['hi', 2, 3, 4, 5, '6', '6']"
      ]
     },
     "execution_count": 13,
     "metadata": {},
     "output_type": "execute_result"
    }
   ],
   "source": [
    "list.append('6')\n",
    "list"
   ]
  },
  {
   "cell_type": "code",
   "execution_count": 14,
   "id": "c07c01be-30f3-450e-b54a-56a0622816fa",
   "metadata": {},
   "outputs": [
    {
     "data": {
      "text/plain": [
       "['hi', 2, 3, 4, 5, '6']"
      ]
     },
     "execution_count": 14,
     "metadata": {},
     "output_type": "execute_result"
    }
   ],
   "source": [
    "list.pop()\n",
    "list"
   ]
  },
  {
   "cell_type": "code",
   "execution_count": 18,
   "id": "4b0ae2bb-b71e-4c82-bd54-23d11869fc32",
   "metadata": {},
   "outputs": [
    {
     "data": {
      "text/plain": [
       "['3', '3', '4', '5', '7', '8', '9']"
      ]
     },
     "execution_count": 18,
     "metadata": {},
     "output_type": "execute_result"
    }
   ],
   "source": [
    "list1 = ['3','9','5','8','3','4','7']\n",
    "list1.sort()\n",
    "list1"
   ]
  },
  {
   "cell_type": "markdown",
   "id": "f6c990ea-e7de-4015-aa72-602cf4857698",
   "metadata": {},
   "source": [
    "Dictionaries"
   ]
  },
  {
   "cell_type": "code",
   "execution_count": 20,
   "id": "0abb6a3d-828d-4ec5-92ec-ef32ea574a6b",
   "metadata": {},
   "outputs": [
    {
     "data": {
      "text/plain": [
       "{'key': 1}"
      ]
     },
     "execution_count": 20,
     "metadata": {},
     "output_type": "execute_result"
    }
   ],
   "source": [
    "d= {'key': 1}\n",
    "d"
   ]
  },
  {
   "cell_type": "code",
   "execution_count": 26,
   "id": "43b0e4cc-4d6b-4437-b66d-fd81812eb81a",
   "metadata": {},
   "outputs": [
    {
     "data": {
      "text/plain": [
       "'2'"
      ]
     },
     "execution_count": 26,
     "metadata": {},
     "output_type": "execute_result"
    }
   ],
   "source": [
    "m= {'key1' : ['1', '2', '3']}\n",
    "m['key1'][1]\n"
   ]
  },
  {
   "cell_type": "code",
   "execution_count": 31,
   "id": "4d8724f1-e004-4879-a3f6-85fd6f6adc63",
   "metadata": {},
   "outputs": [
    {
     "data": {
      "text/plain": [
       "dict_keys(['key1'])"
      ]
     },
     "execution_count": 31,
     "metadata": {},
     "output_type": "execute_result"
    }
   ],
   "source": [
    "m.keys()\n"
   ]
  },
  {
   "cell_type": "code",
   "execution_count": 32,
   "id": "8299cf3e-8ea7-43a9-b897-b55db5d27ccd",
   "metadata": {},
   "outputs": [
    {
     "data": {
      "text/plain": [
       "dict_items([('key', 1)])"
      ]
     },
     "execution_count": 32,
     "metadata": {},
     "output_type": "execute_result"
    }
   ],
   "source": [
    "d.items()"
   ]
  },
  {
   "cell_type": "markdown",
   "id": "b02f126e-0427-404c-8e08-38d3985bf479",
   "metadata": {},
   "source": [
    "Sets"
   ]
  },
  {
   "cell_type": "code",
   "execution_count": 35,
   "id": "165e2866-69ea-4ebb-8756-5071cbace52c",
   "metadata": {},
   "outputs": [
    {
     "data": {
      "text/plain": [
       "{1}"
      ]
     },
     "execution_count": 35,
     "metadata": {},
     "output_type": "execute_result"
    }
   ],
   "source": [
    "myset = set()\n",
    "myset.add(1)\n",
    "myset"
   ]
  },
  {
   "cell_type": "code",
   "execution_count": 36,
   "id": "1dfbfd6c-161f-42f7-b67d-6f7ecda8ff2c",
   "metadata": {},
   "outputs": [
    {
     "data": {
      "text/plain": [
       "{1, 2, 3, 4}"
      ]
     },
     "execution_count": 36,
     "metadata": {},
     "output_type": "execute_result"
    }
   ],
   "source": [
    "list = [1,1,2,2,2,3,3,3,4]\n",
    "set(list)"
   ]
  },
  {
   "cell_type": "markdown",
   "id": "96b45498-f340-4382-85ae-0a24ec92d1c1",
   "metadata": {},
   "source": [
    "txt files basics"
   ]
  },
  {
   "cell_type": "code",
   "execution_count": 37,
   "id": "2d638f38-dccc-47bf-a61a-ceeb27e90480",
   "metadata": {},
   "outputs": [
    {
     "name": "stdout",
     "output_type": "stream",
     "text": [
      "Writing myfile.txt\n"
     ]
    }
   ],
   "source": [
    "%%writefile myfile.txt\n",
    "hi, this is the first module of python. Next module is OOP. have a good day."
   ]
  },
  {
   "cell_type": "code",
   "execution_count": 38,
   "id": "acf0b552-478f-45bb-b0d3-61da60eb9d90",
   "metadata": {},
   "outputs": [
    {
     "data": {
      "text/plain": [
       "'C:\\\\Users\\\\MimanshaMehta'"
      ]
     },
     "execution_count": 38,
     "metadata": {},
     "output_type": "execute_result"
    }
   ],
   "source": [
    "pwd"
   ]
  },
  {
   "cell_type": "code",
   "execution_count": 44,
   "id": "e7bf77d6-8dae-4609-94f6-dcac37acafee",
   "metadata": {},
   "outputs": [],
   "source": [
    "myfile = open('myfile.txt')"
   ]
  },
  {
   "cell_type": "code",
   "execution_count": 45,
   "id": "4f67ee4d-1cd8-431d-8b7f-da59ca7426fd",
   "metadata": {},
   "outputs": [
    {
     "data": {
      "text/plain": [
       "'hi, this is the first module of python. Next module is OOP. have a good day.\\n'"
      ]
     },
     "execution_count": 45,
     "metadata": {},
     "output_type": "execute_result"
    }
   ],
   "source": [
    "# to read the file, first open it\n",
    "\n",
    "myfile.read()"
   ]
  },
  {
   "cell_type": "code",
   "execution_count": 46,
   "id": "efc8d230-1a52-4475-affd-36a3fdf2f65b",
   "metadata": {},
   "outputs": [
    {
     "data": {
      "text/plain": [
       "''"
      ]
     },
     "execution_count": 46,
     "metadata": {},
     "output_type": "execute_result"
    }
   ],
   "source": [
    "myfile.read()"
   ]
  },
  {
   "cell_type": "code",
   "execution_count": 47,
   "id": "f20b2d53-4c08-4b86-a6c1-eca00f65c448",
   "metadata": {},
   "outputs": [
    {
     "data": {
      "text/plain": [
       "0"
      ]
     },
     "execution_count": 47,
     "metadata": {},
     "output_type": "execute_result"
    }
   ],
   "source": [
    "# to make the file read again, seek(0) reset it.\n",
    "myfile.seek(0)"
   ]
  },
  {
   "cell_type": "code",
   "execution_count": 48,
   "id": "e99f0a47-3e2f-4ef1-be0f-82d87a1ffa59",
   "metadata": {},
   "outputs": [
    {
     "data": {
      "text/plain": [
       "'hi, this is the first module of python. Next module is OOP. have a good day.\\n'"
      ]
     },
     "execution_count": 48,
     "metadata": {},
     "output_type": "execute_result"
    }
   ],
   "source": [
    "myfile.read()"
   ]
  },
  {
   "cell_type": "markdown",
   "id": "5b197974-da93-4565-a805-eb6a2750275e",
   "metadata": {},
   "source": [
    "# Another way to open,read and write in files"
   ]
  },
  {
   "cell_type": "code",
   "execution_count": 49,
   "id": "4b009d7f-4bd4-43b1-ac1a-b6596cbacd7c",
   "metadata": {},
   "outputs": [
    {
     "name": "stdout",
     "output_type": "stream",
     "text": [
      "hi, this is the first module of python. Next module is OOP. have a good day.\n",
      "\n"
     ]
    }
   ],
   "source": [
    "with open('myfile.txt', mode = 'r') as f:\n",
    "    print(f.read())"
   ]
  },
  {
   "cell_type": "code",
   "execution_count": 50,
   "id": "bc4629e2-41e4-4a2d-99b6-b87eb840785f",
   "metadata": {},
   "outputs": [],
   "source": [
    "with open ('myfile.txt', mode = 'a') as f:     # a is for append\n",
    "    f.write('bye')\n",
    "    "
   ]
  },
  {
   "cell_type": "code",
   "execution_count": 51,
   "id": "c1dcdb56-fa86-4d9b-9601-8d1d254ad3a8",
   "metadata": {},
   "outputs": [
    {
     "name": "stdout",
     "output_type": "stream",
     "text": [
      "hi, this is the first module of python. Next module is OOP. have a good day.\n",
      "bye\n"
     ]
    }
   ],
   "source": [
    "with open('myfile.txt', mode = 'r') as f:\n",
    "    print(f.read())"
   ]
  },
  {
   "cell_type": "code",
   "execution_count": 54,
   "id": "4502c616-7cc0-4bab-9b0f-ca178f7ba804",
   "metadata": {},
   "outputs": [
    {
     "data": {
      "text/plain": [
       "'hello'"
      ]
     },
     "execution_count": 54,
     "metadata": {},
     "output_type": "execute_result"
    }
   ],
   "source": [
    "# Exercises\n",
    "d = {'simple_key':'hello'}\n",
    "d['simple_key']"
   ]
  },
  {
   "cell_type": "code",
   "execution_count": null,
   "id": "45fde73f-b74a-4ae5-96e2-344d1329a2ef",
   "metadata": {},
   "outputs": [],
   "source": []
  }
 ],
 "metadata": {
  "kernelspec": {
   "display_name": "Python 3 (ipykernel)",
   "language": "python",
   "name": "python3"
  },
  "language_info": {
   "codemirror_mode": {
    "name": "ipython",
    "version": 3
   },
   "file_extension": ".py",
   "mimetype": "text/x-python",
   "name": "python",
   "nbconvert_exporter": "python",
   "pygments_lexer": "ipython3",
   "version": "3.13.5"
  }
 },
 "nbformat": 4,
 "nbformat_minor": 5
}
