{
 "cells": [
  {
   "cell_type": "code",
   "execution_count": 9,
   "id": "03a5a3d2-ccf9-44b0-a527-4361e45f932b",
   "metadata": {},
   "outputs": [
    {
     "name": "stdout",
     "output_type": "stream",
     "text": [
      "Belgium\n"
     ]
    }
   ],
   "source": [
    "name = 'Hungary'\n",
    "if Country is name:\n",
    "   print(\"Belgium\")\n",
    "else:\n",
    "    print(\" error\")"
   ]
  },
  {
   "cell_type": "code",
   "execution_count": 16,
   "id": "246fc6ec-f640-48ca-bce8-f0389fe1038b",
   "metadata": {},
   "outputs": [
    {
     "name": "stdout",
     "output_type": "stream",
     "text": [
      "full\n"
     ]
    }
   ],
   "source": [
    "name = 'sammy'\n",
    "hungry = True\n",
    "if name is False:\n",
    "   print('feed me')\n",
    "else:\n",
    "   print('full')\n"
   ]
  },
  {
   "cell_type": "code",
   "execution_count": 17,
   "id": "f9869e0f-c27b-4a6c-90c8-c4f91c7e823d",
   "metadata": {},
   "outputs": [
    {
     "name": "stdout",
     "output_type": "stream",
     "text": [
      "1\n",
      "2\n",
      "3\n",
      "4\n",
      "5\n",
      "6\n",
      "7\n"
     ]
    }
   ],
   "source": [
    "my_list = [1,2,3,4,5,6,7]\n",
    "for num in my_list:\n",
    "    print(num)"
   ]
  },
  {
   "cell_type": "code",
   "execution_count": 19,
   "id": "8ae79261-2a64-4e3b-b037-9aa1ebf5984f",
   "metadata": {},
   "outputs": [
    {
     "name": "stdout",
     "output_type": "stream",
     "text": [
      "1\n",
      "3\n",
      "6\n",
      "10\n",
      "15\n",
      "21\n",
      "28\n"
     ]
    }
   ],
   "source": [
    "list_sum = 0\n",
    "for num in my_list:\n",
    "    list_sum += num\n",
    "    print(list_sum)"
   ]
  },
  {
   "cell_type": "code",
   "execution_count": 21,
   "id": "4b8f1650-c390-47a6-8abe-660923e00772",
   "metadata": {},
   "outputs": [
    {
     "data": {
      "text/plain": [
       "3"
      ]
     },
     "execution_count": 21,
     "metadata": {},
     "output_type": "execute_result"
    }
   ],
   "source": [
    "list = [(1,2),(3,4),(5,6)]\n",
    "len(list)"
   ]
  },
  {
   "cell_type": "code",
   "execution_count": 24,
   "id": "39213c6c-957c-4b95-9dff-88b97e4d4b08",
   "metadata": {},
   "outputs": [
    {
     "name": "stdout",
     "output_type": "stream",
     "text": [
      "1 2\n",
      "3 4\n",
      "5 6\n"
     ]
    }
   ],
   "source": [
    "for a,b in list:\n",
    "    print(a,b) #or print(a) or print(b)"
   ]
  },
  {
   "cell_type": "code",
   "execution_count": 26,
   "id": "56417d59-80e7-439e-8712-31fa781d9974",
   "metadata": {},
   "outputs": [
    {
     "name": "stdout",
     "output_type": "stream",
     "text": [
      "the value of x is 0\n",
      "the value of x is 1\n",
      "the value of x is 2\n",
      "the value of x is 3\n",
      "the value of x is 4\n",
      "error\n"
     ]
    }
   ],
   "source": [
    "x = 0 \n",
    "while x < 5 :\n",
    "    print(f'the value of x is {x}')\n",
    "    x +=1\n",
    "else:\n",
    "    print ('error')  # if x = 40 , then it will print error"
   ]
  },
  {
   "cell_type": "code",
   "execution_count": 30,
   "id": "e60f74e2-8f5e-43a8-a0cf-f809f676983f",
   "metadata": {},
   "outputs": [
    {
     "name": "stdout",
     "output_type": "stream",
     "text": [
      "1\n",
      "3\n",
      "4\n",
      "5\n"
     ]
    }
   ],
   "source": [
    "list = [1,2,3,4,5]\n",
    "for num in list:\n",
    "    if num == 2:\n",
    "      continue\n",
    "    print(num)"
   ]
  },
  {
   "cell_type": "code",
   "execution_count": 34,
   "id": "635d841a-d585-4f6e-84f1-05a99b8c878e",
   "metadata": {},
   "outputs": [
    {
     "name": "stdout",
     "output_type": "stream",
     "text": [
      "1\n",
      "2\n"
     ]
    }
   ],
   "source": [
    "list = [1,2,3,4,5,6]\n",
    "for num in list:\n",
    "    if num == 3 :\n",
    "        break\n",
    "    print(num)  # pass statement doesnt do anything "
   ]
  },
  {
   "cell_type": "code",
   "execution_count": 36,
   "id": "069550cb-c20b-4057-ba91-cc555de236b1",
   "metadata": {},
   "outputs": [
    {
     "name": "stdout",
     "output_type": "stream",
     "text": [
      "0\n",
      "1\n",
      "2\n",
      "3\n",
      "4\n",
      "5\n",
      "6\n",
      "7\n",
      "8\n",
      "9\n"
     ]
    }
   ],
   "source": [
    "for num in range(10):\n",
    "    print(num)"
   ]
  },
  {
   "cell_type": "code",
   "execution_count": 37,
   "id": "6da63ff2-fe44-4efe-97e6-2ef388bcb7ec",
   "metadata": {},
   "outputs": [
    {
     "name": "stdout",
     "output_type": "stream",
     "text": [
      "2\n",
      "5\n",
      "8\n",
      "11\n",
      "14\n",
      "17\n"
     ]
    }
   ],
   "source": [
    "for num in range(2,20,3):\n",
    "    print (num)\n"
   ]
  },
  {
   "cell_type": "code",
   "execution_count": 38,
   "id": "3fba0fda-f005-4338-87f1-46907b352c9c",
   "metadata": {},
   "outputs": [
    {
     "name": "stdout",
     "output_type": "stream",
     "text": [
      "(0, 'a')\n",
      "(1, 'b')\n",
      "(2, 'c')\n",
      "(3, 'd')\n",
      "(4, 'e')\n",
      "(5, 'f')\n",
      "(6, 'g')\n",
      "(7, 'h')\n",
      "(8, 'i')\n",
      "(9, 'j')\n",
      "(10, 'k')\n",
      "(11, 'l')\n",
      "(12, 'm')\n"
     ]
    }
   ],
   "source": [
    "word = 'abcdefghijklm'\n",
    "\n",
    "for item in enumerate(word):    # enumerate = iterates over a list and keeps track of index pos\n",
    "    print(item)"
   ]
  },
  {
   "cell_type": "code",
   "execution_count": 39,
   "id": "2af58d70-bd0a-426a-817d-77f8521fd815",
   "metadata": {},
   "outputs": [
    {
     "name": "stdout",
     "output_type": "stream",
     "text": [
      "(1, 5)\n",
      "(2, 6)\n",
      "(3, 7)\n",
      "(4, 8)\n"
     ]
    }
   ],
   "source": [
    "list1 = [1,2,3,4]\n",
    "list2 = [5,6,7,8]\n",
    "\n",
    "for item in zip(list1, list2):    # zip = pairs elements\n",
    "    print(item)\n"
   ]
  },
  {
   "cell_type": "code",
   "execution_count": 49,
   "id": "e9b8eb01-56b1-4fbd-959c-95be08e25545",
   "metadata": {},
   "outputs": [
    {
     "data": {
      "text/plain": [
       "[8, 2, 5, 6, 3, 4, 7, 1, 9]"
      ]
     },
     "execution_count": 49,
     "metadata": {},
     "output_type": "execute_result"
    }
   ],
   "source": [
    "from random import shuffle\n",
    "mylist = [1,2,3,4,5,6,7,8,9]\n",
    "random_list = shuffle(mylist)\n",
    "mylist"
   ]
  },
  {
   "cell_type": "code",
   "execution_count": 52,
   "id": "03ab919d-e364-4703-b932-56ef94d2f163",
   "metadata": {},
   "outputs": [
    {
     "name": "stdin",
     "output_type": "stream",
     "text": [
      "enter your name: mimansa\n"
     ]
    }
   ],
   "source": [
    "result = input(\"enter your name:\")"
   ]
  },
  {
   "cell_type": "code",
   "execution_count": 53,
   "id": "01579fdc-3264-40d0-99ce-629b1acb9790",
   "metadata": {},
   "outputs": [
    {
     "data": {
      "text/plain": [
       "'mimansa'"
      ]
     },
     "execution_count": 53,
     "metadata": {},
     "output_type": "execute_result"
    }
   ],
   "source": [
    "result"
   ]
  },
  {
   "cell_type": "code",
   "execution_count": 56,
   "id": "d91eaed7-8ed6-4864-a26d-f0a5a291a7ec",
   "metadata": {},
   "outputs": [],
   "source": [
    "string = 'hello'\n",
    "list = []\n",
    "for letter in string:\n",
    "    list.append(letter)     # append = used with lists to add items in the list"
   ]
  },
  {
   "cell_type": "code",
   "execution_count": 57,
   "id": "b0760e61-a401-4c85-a6ab-b6627a67f437",
   "metadata": {},
   "outputs": [
    {
     "data": {
      "text/plain": [
       "['h', 'e', 'l', 'l', 'o']"
      ]
     },
     "execution_count": 57,
     "metadata": {},
     "output_type": "execute_result"
    }
   ],
   "source": [
    "list"
   ]
  },
  {
   "cell_type": "code",
   "execution_count": 58,
   "id": "40b2f7d3-e72e-4603-b1a1-c791f0e8ef47",
   "metadata": {},
   "outputs": [
    {
     "data": {
      "text/plain": [
       "['w', 'o', 'r', 'd']"
      ]
     },
     "execution_count": 58,
     "metadata": {},
     "output_type": "execute_result"
    }
   ],
   "source": [
    "mylist = [x for x in 'word']\n",
    "mylist"
   ]
  },
  {
   "cell_type": "code",
   "execution_count": 59,
   "id": "4950ae1e-e1c5-42f6-8cfa-c2f51261e38c",
   "metadata": {},
   "outputs": [
    {
     "data": {
      "text/plain": [
       "[0, 1, 2, 3, 4, 5, 6, 7, 8, 9]"
      ]
     },
     "execution_count": 59,
     "metadata": {},
     "output_type": "execute_result"
    }
   ],
   "source": [
    "mylist = [x for x in range(0,10)]\n",
    "mylist"
   ]
  },
  {
   "cell_type": "code",
   "execution_count": 61,
   "id": "0f4594fe-2501-4b33-b01a-dc2bf5cdf24d",
   "metadata": {},
   "outputs": [
    {
     "data": {
      "text/plain": [
       "[0, 4, 16, 36, 64]"
      ]
     },
     "execution_count": 61,
     "metadata": {},
     "output_type": "execute_result"
    }
   ],
   "source": [
    "mylist = [x**2 for x in range(0,10) if x%2 == 0]\n",
    "mylist"
   ]
  },
  {
   "cell_type": "code",
   "execution_count": 64,
   "id": "22ae82df-bfdb-4ff6-8891-536a434637db",
   "metadata": {},
   "outputs": [],
   "source": [
    "celsius = [25,30,40,38,35,45]\n",
    "farenheit = []\n",
    "for temp in celsius:\n",
    "    farenheit.append((9/5)*temp + 32)\n",
    "    "
   ]
  },
  {
   "cell_type": "code",
   "execution_count": 65,
   "id": "51c4d922-e2e3-411f-b004-fcb5765d250c",
   "metadata": {},
   "outputs": [
    {
     "data": {
      "text/plain": [
       "[77.0, 86.0, 104.0, 100.4, 95.0, 113.0]"
      ]
     },
     "execution_count": 65,
     "metadata": {},
     "output_type": "execute_result"
    }
   ],
   "source": [
    "farenheit"
   ]
  },
  {
   "cell_type": "code",
   "execution_count": 68,
   "id": "57f39a87-0d69-4bff-b035-deabf51ad99e",
   "metadata": {},
   "outputs": [
    {
     "data": {
      "text/plain": [
       "[0, 'odd', 2, 'odd', 4, 'odd', 6, 'odd', 8, 'odd']"
      ]
     },
     "execution_count": 68,
     "metadata": {},
     "output_type": "execute_result"
    }
   ],
   "source": [
    "result = [x if x%2==0 else 'odd' for x in range(0,10)]\n",
    "result"
   ]
  },
  {
   "cell_type": "code",
   "execution_count": 71,
   "id": "e353f1df-4598-4030-891d-38c477f6b0f2",
   "metadata": {},
   "outputs": [],
   "source": [
    "mylist = []\n",
    "for x in [1,2,3]:\n",
    "    for y in [2,4,6]:\n",
    "     mylist.append(x*y)"
   ]
  },
  {
   "cell_type": "code",
   "execution_count": 72,
   "id": "6e9edc32-4a34-4012-8401-4f03bba701b9",
   "metadata": {},
   "outputs": [
    {
     "data": {
      "text/plain": [
       "[2, 4, 6, 4, 8, 12, 6, 12, 18]"
      ]
     },
     "execution_count": 72,
     "metadata": {},
     "output_type": "execute_result"
    }
   ],
   "source": [
    "mylist"
   ]
  },
  {
   "cell_type": "code",
   "execution_count": 73,
   "id": "49021f2d-77a8-4f88-ade4-e94aeef1cea1",
   "metadata": {},
   "outputs": [
    {
     "data": {
      "text/plain": [
       "[3, 4, 5, 6, 8, 10, 9, 12, 15]"
      ]
     },
     "execution_count": 73,
     "metadata": {},
     "output_type": "execute_result"
    }
   ],
   "source": [
    "list = [x*y for x in [1,2,3] for y in [3,4,5]]\n",
    "list"
   ]
  },
  {
   "cell_type": "markdown",
   "id": "212644bf-c782-4224-a969-25cb7326512f",
   "metadata": {},
   "source": [
    "# Assessment Test"
   ]
  },
  {
   "cell_type": "code",
   "execution_count": 80,
   "id": "f75655d7-480d-41b0-b4b7-60def3a46a95",
   "metadata": {},
   "outputs": [
    {
     "name": "stdout",
     "output_type": "stream",
     "text": [
      "start\n",
      "s\n",
      "sentence\n"
     ]
    }
   ],
   "source": [
    "st = 'Print only the words that start with s in this sentence'\n",
    "\n",
    "for word in st.split():\n",
    "    if word[0] == 's':\n",
    "     print(word)"
   ]
  },
  {
   "cell_type": "code",
   "execution_count": 82,
   "id": "739b419c-e8e1-41ea-932e-02e0caf29280",
   "metadata": {},
   "outputs": [
    {
     "name": "stdout",
     "output_type": "stream",
     "text": [
      "0\n",
      "2\n",
      "4\n",
      "6\n",
      "8\n",
      "10\n"
     ]
    }
   ],
   "source": [
    "for num in range(0,11,2):\n",
    "    print(num)"
   ]
  },
  {
   "cell_type": "code",
   "execution_count": 85,
   "id": "27c672b4-ac67-48bb-b40e-0f32379b723b",
   "metadata": {},
   "outputs": [
    {
     "data": {
      "text/plain": [
       "[3, 6, 9, 12, 15, 18, 21, 24, 27, 30, 33, 36, 39, 42, 45, 48]"
      ]
     },
     "execution_count": 85,
     "metadata": {},
     "output_type": "execute_result"
    }
   ],
   "source": [
    "mylist = [x for x in range(1,50) if x%3 == 0]\n",
    "mylist"
   ]
  },
  {
   "cell_type": "code",
   "execution_count": 96,
   "id": "9ecef3fb-0d1f-4fa7-ab30-1df74cad1d6f",
   "metadata": {},
   "outputs": [
    {
     "name": "stdout",
     "output_type": "stream",
     "text": [
      "word-has even no of letters\n",
      "in-has even no of letters\n",
      "this-has even no of letters\n",
      "sentence-has even no of letters\n",
      "that-has even no of letters\n",
      "an-has even no of letters\n",
      "even-has even no of letters\n",
      "number-has even no of letters\n",
      "of-has even no of letters\n"
     ]
    }
   ],
   "source": [
    "st = 'Print every word in this sentence that has an even number of letters'\n",
    "\n",
    "for word in st.split():\n",
    "    if len(word)%2 == 0:\n",
    "        print(word  +  '-has even no of letters')"
   ]
  },
  {
   "cell_type": "code",
   "execution_count": 97,
   "id": "0e35bbed-06c2-46fb-aeff-bfe9ab86f3b2",
   "metadata": {},
   "outputs": [
    {
     "name": "stdout",
     "output_type": "stream",
     "text": [
      "fizzbuzz\n",
      "fuzz\n",
      "buzz\n",
      "fuzz\n",
      "fuzz\n",
      "buzz\n",
      "fuzz\n",
      "fizzbuzz\n",
      "fuzz\n",
      "buzz\n",
      "fuzz\n",
      "fuzz\n",
      "buzz\n",
      "fuzz\n",
      "fizzbuzz\n",
      "fuzz\n",
      "buzz\n",
      "fuzz\n",
      "fuzz\n",
      "buzz\n",
      "fuzz\n",
      "fizzbuzz\n",
      "fuzz\n",
      "buzz\n",
      "fuzz\n",
      "fuzz\n",
      "buzz\n",
      "fuzz\n",
      "fizzbuzz\n",
      "fuzz\n",
      "buzz\n",
      "fuzz\n",
      "fuzz\n",
      "buzz\n",
      "fuzz\n",
      "fizzbuzz\n",
      "fuzz\n",
      "buzz\n",
      "fuzz\n",
      "fuzz\n",
      "buzz\n",
      "fuzz\n",
      "fizzbuzz\n",
      "fuzz\n",
      "buzz\n",
      "fuzz\n",
      "fuzz\n",
      "buzz\n"
     ]
    }
   ],
   "source": [
    "for num in range(0,101):\n",
    "    if num%3 == 0 and num%5 ==0:\n",
    "        print('fizzbuzz')\n",
    "    elif num% 5 == 0:\n",
    "        print('buzz')\n",
    "    elif num% 3 == 0:\n",
    "        print('fuzz')"
   ]
  },
  {
   "cell_type": "code",
   "execution_count": 101,
   "id": "07e9645a-7e59-45e8-aed0-830154eb760c",
   "metadata": {},
   "outputs": [
    {
     "data": {
      "text/plain": [
       "['C', 'a', 'l', 'o', 't', 'f', 'l', 'o', 'e', 'w', 'i', 't', 's']"
      ]
     },
     "execution_count": 101,
     "metadata": {},
     "output_type": "execute_result"
    }
   ],
   "source": [
    "st = 'Create a list of the first letters of every word in this string'\n",
    "\n",
    "mylist = [x[0] for x in st.split() ]\n",
    "mylist"
   ]
  },
  {
   "cell_type": "markdown",
   "id": "bd99323a-a351-43dd-9d53-0182b7c1a193",
   "metadata": {},
   "source": [
    "# Guessing Game"
   ]
  },
  {
   "cell_type": "code",
   "execution_count": 103,
   "id": "d7462215-6ed2-4d37-80e2-a85a8063e63a",
   "metadata": {},
   "outputs": [
    {
     "name": "stdout",
     "output_type": "stream",
     "text": [
      "WELCOME TO THE GUESSING GAME!\n",
      "I'm thinking of a number between 1 and 100.\n",
      "If your guess is more than 10 away from my number, I'll tell you you're COLD\n",
      "If your guess is within 10 of my number, I'll tell you you're WARM\n",
      "If your guess is farther than your most recent guess, I'll say you're getting COLDER\n",
      "If your guess is closer than your most recent guess, I'll say you're getting WARMER\n",
      "LET'S PLAY!\n"
     ]
    }
   ],
   "source": [
    "import random\n",
    "num = random.randint(1,100)\n",
    "\n",
    "#rules\n",
    "print(\"WELCOME TO THE GUESSING GAME!\")\n",
    "print(\"I'm thinking of a number between 1 and 100.\")\n",
    "print(\"If your guess is more than 10 away from my number, I'll tell you you're COLD\")\n",
    "print(\"If your guess is within 10 of my number, I'll tell you you're WARM\")\n",
    "print(\"If your guess is farther than your most recent guess, I'll say you're getting COLDER\")\n",
    "print(\"If your guess is closer than your most recent guess, I'll say you're getting WARMER\")\n",
    "print(\"LET'S PLAY!\")"
   ]
  },
  {
   "cell_type": "code",
   "execution_count": 116,
   "id": "dddb46f1-24de-42cb-92dd-f8a4cbb2c572",
   "metadata": {},
   "outputs": [
    {
     "name": "stdin",
     "output_type": "stream",
     "text": [
      "I m thinking of a number 1 between to 100 20\n"
     ]
    },
    {
     "name": "stdout",
     "output_type": "stream",
     "text": [
      "COLD!\n"
     ]
    },
    {
     "name": "stdin",
     "output_type": "stream",
     "text": [
      "I m thinking of a number 1 between to 100 20\n"
     ]
    },
    {
     "name": "stdout",
     "output_type": "stream",
     "text": [
      "COLDER!\n"
     ]
    },
    {
     "name": "stdin",
     "output_type": "stream",
     "text": [
      "I m thinking of a number 1 between to 100 30\n"
     ]
    },
    {
     "name": "stdout",
     "output_type": "stream",
     "text": [
      "WARMER!\n"
     ]
    },
    {
     "name": "stdin",
     "output_type": "stream",
     "text": [
      "I m thinking of a number 1 between to 100 25\n"
     ]
    },
    {
     "name": "stdout",
     "output_type": "stream",
     "text": [
      "COLDER!\n"
     ]
    },
    {
     "name": "stdin",
     "output_type": "stream",
     "text": [
      "I m thinking of a number 1 between to 100 28\n"
     ]
    },
    {
     "name": "stdout",
     "output_type": "stream",
     "text": [
      "WARMER!\n"
     ]
    },
    {
     "name": "stdin",
     "output_type": "stream",
     "text": [
      "I m thinking of a number 1 between to 100 27\n"
     ]
    },
    {
     "name": "stdout",
     "output_type": "stream",
     "text": [
      "COLDER!\n"
     ]
    },
    {
     "name": "stdin",
     "output_type": "stream",
     "text": [
      "I m thinking of a number 1 between to 100 29\n"
     ]
    },
    {
     "name": "stdout",
     "output_type": "stream",
     "text": [
      "WARMER!\n"
     ]
    },
    {
     "name": "stdin",
     "output_type": "stream",
     "text": [
      "I m thinking of a number 1 between to 100 25\n"
     ]
    },
    {
     "name": "stdout",
     "output_type": "stream",
     "text": [
      "COLDER!\n"
     ]
    },
    {
     "name": "stdin",
     "output_type": "stream",
     "text": [
      "I m thinking of a number 1 between to 100 30\n"
     ]
    },
    {
     "name": "stdout",
     "output_type": "stream",
     "text": [
      "WARMER!\n"
     ]
    },
    {
     "name": "stdin",
     "output_type": "stream",
     "text": [
      "I m thinking of a number 1 between to 100 31\n"
     ]
    },
    {
     "name": "stdout",
     "output_type": "stream",
     "text": [
      "WARMER!\n"
     ]
    },
    {
     "name": "stdin",
     "output_type": "stream",
     "text": [
      "I m thinking of a number 1 between to 100 32\n"
     ]
    },
    {
     "name": "stdout",
     "output_type": "stream",
     "text": [
      "WARMER!\n"
     ]
    },
    {
     "name": "stdin",
     "output_type": "stream",
     "text": [
      "I m thinking of a number 1 between to 100 33\n"
     ]
    },
    {
     "name": "stdout",
     "output_type": "stream",
     "text": [
      "WARMER!\n"
     ]
    },
    {
     "name": "stdin",
     "output_type": "stream",
     "text": [
      "I m thinking of a number 1 between to 100 34\n"
     ]
    },
    {
     "name": "stdout",
     "output_type": "stream",
     "text": [
      "WARMER!\n"
     ]
    },
    {
     "name": "stdin",
     "output_type": "stream",
     "text": [
      "I m thinking of a number 1 between to 100 35\n"
     ]
    },
    {
     "name": "stdout",
     "output_type": "stream",
     "text": [
      "WARMER!\n"
     ]
    },
    {
     "name": "stdin",
     "output_type": "stream",
     "text": [
      "I m thinking of a number 1 between to 100 38\n"
     ]
    },
    {
     "name": "stdout",
     "output_type": "stream",
     "text": [
      "WARMER!\n"
     ]
    },
    {
     "name": "stdin",
     "output_type": "stream",
     "text": [
      "I m thinking of a number 1 between to 100 39\n"
     ]
    },
    {
     "name": "stdout",
     "output_type": "stream",
     "text": [
      "WARMER!\n"
     ]
    },
    {
     "name": "stdin",
     "output_type": "stream",
     "text": [
      "I m thinking of a number 1 between to 100 40\n"
     ]
    },
    {
     "name": "stdout",
     "output_type": "stream",
     "text": [
      "WARMER!\n"
     ]
    },
    {
     "name": "stdin",
     "output_type": "stream",
     "text": [
      "I m thinking of a number 1 between to 100 45\n"
     ]
    },
    {
     "name": "stdout",
     "output_type": "stream",
     "text": [
      "WARMER!\n"
     ]
    },
    {
     "name": "stdin",
     "output_type": "stream",
     "text": [
      "I m thinking of a number 1 between to 100 50\n"
     ]
    },
    {
     "name": "stdout",
     "output_type": "stream",
     "text": [
      "WARMER!\n"
     ]
    },
    {
     "name": "stdin",
     "output_type": "stream",
     "text": [
      "I m thinking of a number 1 between to 100 55\n"
     ]
    },
    {
     "name": "stdout",
     "output_type": "stream",
     "text": [
      "WARMER!\n"
     ]
    },
    {
     "name": "stdin",
     "output_type": "stream",
     "text": [
      "I m thinking of a number 1 between to 100 60\n"
     ]
    },
    {
     "name": "stdout",
     "output_type": "stream",
     "text": [
      "WARMER!\n"
     ]
    },
    {
     "name": "stdin",
     "output_type": "stream",
     "text": [
      "I m thinking of a number 1 between to 100 65\n"
     ]
    },
    {
     "name": "stdout",
     "output_type": "stream",
     "text": [
      "COLDER!\n"
     ]
    },
    {
     "name": "stdin",
     "output_type": "stream",
     "text": [
      "I m thinking of a number 1 between to 100 61\n"
     ]
    },
    {
     "name": "stdout",
     "output_type": "stream",
     "text": [
      "you guessed it correct\n"
     ]
    }
   ],
   "source": [
    "### guesses = []\n",
    "\n",
    "while True:\n",
    "    guess = int(input(\"I m thinking of a number 1 between to 100\"))\n",
    "    if guess < 1 or  guess > 100:\n",
    "        print(\"Out of bounds. try again.\")\n",
    "        continue\n",
    "\n",
    "    guesses.append(guess)\n",
    "\n",
    "    if guess == num:\n",
    "        print(\"you guessed it correct\")\n",
    "        break\n",
    "    \n",
    "\n",
    "    if len(guesses) == 1:  \n",
    "        if abs(num-guess) <= 10:     #abs is absolute value. here it means how far your guess is from the target number\n",
    "            print('WARM!')\n",
    "        else:\n",
    "            print('COLD!')\n",
    "   \n",
    "    else:\n",
    "        if abs(num-guess) < abs(num-guesses[-2]):\n",
    "            print('WARMER!')\n",
    "        else:\n",
    "            print('COLDER!')\n",
    "\n",
    "    "
   ]
  },
  {
   "cell_type": "code",
   "execution_count": null,
   "id": "7de5b059-5537-4250-a120-f9a5ea7b76c1",
   "metadata": {},
   "outputs": [],
   "source": []
  }
 ],
 "metadata": {
  "kernelspec": {
   "display_name": "Python 3 (ipykernel)",
   "language": "python",
   "name": "python3"
  },
  "language_info": {
   "codemirror_mode": {
    "name": "ipython",
    "version": 3
   },
   "file_extension": ".py",
   "mimetype": "text/x-python",
   "name": "python",
   "nbconvert_exporter": "python",
   "pygments_lexer": "ipython3",
   "version": "3.13.5"
  }
 },
 "nbformat": 4,
 "nbformat_minor": 5
}
