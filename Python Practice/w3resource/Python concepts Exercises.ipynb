{
 "cells": [
  {
   "cell_type": "markdown",
   "id": "9a6a80aa-24d2-42ff-b49d-8e32daea8c25",
   "metadata": {},
   "source": [
    "#  Unit Test for file existence checker"
   ]
  },
  {
   "cell_type": "code",
   "execution_count": 1,
   "id": "8e39fcea-a95f-467a-a925-9c2278031144",
   "metadata": {},
   "outputs": [],
   "source": [
    "import os\n",
    "import unittest\n",
    "import tempfile"
   ]
  },
  {
   "cell_type": "code",
   "execution_count": 6,
   "id": "d0176545-896a-41b8-91ac-8d65885512f9",
   "metadata": {},
   "outputs": [
    {
     "name": "stderr",
     "output_type": "stream",
     "text": [
      "test_nonexistentfile (__main__.testfile_exists.test_nonexistentfile) ... ok\n",
      "testexistingfile (__main__.testfile_exists.testexistingfile) ... ok\n",
      "\n",
      "----------------------------------------------------------------------\n",
      "Ran 2 tests in 0.012s\n",
      "\n",
      "OK\n"
     ]
    },
    {
     "data": {
      "text/plain": [
       "<unittest.main.TestProgram at 0x230360cbce0>"
      ]
     },
     "execution_count": 6,
     "metadata": {},
     "output_type": "execute_result"
    }
   ],
   "source": [
    "def file_exists(directory, filename):\n",
    "    file_path = os.path.join(directory, filename)\n",
    "    return os.path.exists(file_path)\n",
    "\n",
    "class testfile_exists(unittest.TestCase):\n",
    "    def setUp(self):\n",
    "        \n",
    "        self.test_dir = tempfile.TemporaryDirectory()\n",
    "        self.directory = self.test_dir.name\n",
    "\n",
    "        \n",
    "        self.existing_filename = \"test1.txt\"\n",
    "        existing_file_path = os.path.join(self.directory, self.existing_filename)\n",
    "        with open(existing_file_path, 'w') as f:\n",
    "            f.write(\"Temporary file content\")\n",
    "\n",
    "    def tearDown(self):\n",
    "       \n",
    "        self.test_dir.cleanup()\n",
    "\n",
    "    def testexistingfile(self):\n",
    "        self.assertTrue(\n",
    "            file_exists(self.directory, self.existing_filename),\n",
    "            \"the file doesnt exists in the directory\"\n",
    "        )\n",
    "\n",
    "    def test_nonexistentfile(self):\n",
    "        self.assertFalse(\n",
    "            file_exists(self.directory, 'test2.txt'),\n",
    "            \"the file exists unxpectedly in the directory\"\n",
    "        )\n",
    "\n",
    "\n",
    "unittest.main(argv=[''], verbosity=2, exit=False)\n"
   ]
  },
  {
   "cell_type": "markdown",
   "id": "6e6259b6-a9b2-47b0-aed3-dbc3acab31a2",
   "metadata": {},
   "source": []
  },
  {
   "cell_type": "markdown",
   "id": "5ce70e54-7dec-4d6e-97a1-7ebf69026b05",
   "metadata": {},
   "source": [
    "#  Handle Index error in List"
   ]
  },
  {
   "cell_type": "code",
   "execution_count": 10,
   "id": "ab6b1024-28a0-4ee9-a925-325bd57404f8",
   "metadata": {},
   "outputs": [
    {
     "name": "stdin",
     "output_type": "stream",
     "text": [
      "Input the index:  6\n"
     ]
    },
    {
     "name": "stdout",
     "output_type": "stream",
     "text": [
      "Result: 7\n"
     ]
    }
   ],
   "source": [
    "def test_index(data, index):\n",
    "    try:\n",
    "        \n",
    "        result = data[index]\n",
    "    \n",
    "        print(\"Result:\", result)\n",
    "        \n",
    "    except IndexError:\n",
    "        \n",
    "        print(\"Error: Index out of range.\")\n",
    "\n",
    "\n",
    "nums = [1, 2, 3, 4, 5, 6, 7]\n",
    "\n",
    "index = int(input(\"Input the index: \"))\n",
    "test_index(nums, index)"
   ]
  },
  {
   "cell_type": "markdown",
   "id": "51e19c6d-73c1-4c8b-b260-654a8ef91003",
   "metadata": {},
   "source": []
  },
  {
   "cell_type": "markdown",
   "id": "836a5e01-74d7-4d33-a3af-f4ea7fcffa5c",
   "metadata": {},
   "source": [
    "#  Implement a Decorator to validate function arguments"
   ]
  },
  {
   "cell_type": "code",
   "execution_count": 12,
   "id": "d25e11cb-ad29-43a1-a985-147aea05ccb0",
   "metadata": {},
   "outputs": [
    {
     "name": "stdout",
     "output_type": "stream",
     "text": [
      "125\n"
     ]
    },
    {
     "ename": "ValueError",
     "evalue": "Argument must be positive",
     "output_type": "error",
     "traceback": [
      "\u001b[1;31m---------------------------------------------------------------------------\u001b[0m",
      "\u001b[1;31mValueError\u001b[0m                                Traceback (most recent call last)",
      "Cell \u001b[1;32mIn[12], line 16\u001b[0m\n\u001b[0;32m     13\u001b[0m     \u001b[38;5;28;01mreturn\u001b[39;00m x \u001b[38;5;241m*\u001b[39m\u001b[38;5;241m*\u001b[39m \u001b[38;5;241m3\u001b[39m\n\u001b[0;32m     15\u001b[0m \u001b[38;5;28mprint\u001b[39m(calculate_cube(\u001b[38;5;241m5\u001b[39m))   \n\u001b[1;32m---> 16\u001b[0m \u001b[38;5;28mprint\u001b[39m(calculate_cube(\u001b[38;5;241m-\u001b[39m\u001b[38;5;241m2\u001b[39m))\n",
      "Cell \u001b[1;32mIn[12], line 7\u001b[0m, in \u001b[0;36monly_positive_args.<locals>.wrapper\u001b[1;34m(x)\u001b[0m\n\u001b[0;32m      5\u001b[0m     \u001b[38;5;28;01mreturn\u001b[39;00m func(x)\n\u001b[0;32m      6\u001b[0m \u001b[38;5;28;01melse\u001b[39;00m:\n\u001b[1;32m----> 7\u001b[0m     \u001b[38;5;28;01mraise\u001b[39;00m \u001b[38;5;167;01mValueError\u001b[39;00m(\u001b[38;5;124m\"\u001b[39m\u001b[38;5;124mArgument must be positive\u001b[39m\u001b[38;5;124m\"\u001b[39m)\n",
      "\u001b[1;31mValueError\u001b[0m: Argument must be positive"
     ]
    }
   ],
   "source": [
    "def only_positive_args(func):\n",
    "    \n",
    "    def wrapper(x):\n",
    "        if x > 0:\n",
    "            return func(x)\n",
    "        else:\n",
    "            raise ValueError(\"Argument must be positive\")\n",
    "    return wrapper\n",
    "\n",
    "\n",
    "@only_positive_args\n",
    "def calculate_cube(x):\n",
    "    return x ** 3\n",
    "\n",
    "print(calculate_cube(5))   \n",
    "print(calculate_cube(-2))  \n"
   ]
  },
  {
   "cell_type": "markdown",
   "id": "52cf8277-6420-4c1c-a97e-318f7720bc0c",
   "metadata": {},
   "source": []
  },
  {
   "cell_type": "code",
   "execution_count": null,
   "id": "50fde2d1-dff4-4220-bcb3-3217a71b03a1",
   "metadata": {},
   "outputs": [],
   "source": []
  }
 ],
 "metadata": {
  "kernelspec": {
   "display_name": "Python 3 (ipykernel)",
   "language": "python",
   "name": "python3"
  },
  "language_info": {
   "codemirror_mode": {
    "name": "ipython",
    "version": 3
   },
   "file_extension": ".py",
   "mimetype": "text/x-python",
   "name": "python",
   "nbconvert_exporter": "python",
   "pygments_lexer": "ipython3",
   "version": "3.13.5"
  }
 },
 "nbformat": 4,
 "nbformat_minor": 5
}
