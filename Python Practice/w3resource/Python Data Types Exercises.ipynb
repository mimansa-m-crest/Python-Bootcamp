{
 "cells": [
  {
   "cell_type": "markdown",
   "id": "a36db2c1-df4e-4c62-bd73-c8c06a839be1",
   "metadata": {},
   "source": [
    "# Find occurrences of the 10 most common words in a text"
   ]
  },
  {
   "cell_type": "code",
   "execution_count": 1,
   "id": "4c800b14-80cf-48bb-b226-3ae09f19cc7d",
   "metadata": {},
   "outputs": [
    {
     "name": "stdout",
     "output_type": "stream",
     "text": [
      "[('Python', 6), ('the', 6), ('and', 5), ('We', 2), ('with', 2), ('The', 1), ('Software', 1), ('Foundation', 1), ('PSF', 1), ('is', 1)]\n"
     ]
    }
   ],
   "source": [
    "\n",
    "from collections import Counter\n",
    "\n",
    "import re\n",
    "\n",
    "\n",
    "text = \"\"\"The Python Software Foundation (PSF) is a 501(c)(3) non-profit \n",
    "corporation that holds the intellectual property rights behind\n",
    "the Python programming language. We manage the open source licensing \n",
    "for Python version 2.1 and later and own and protect the trademarks \n",
    "associated with Python. We also run the North American PyCon conference \n",
    "annually, support other Python conferences around the world, and \n",
    "fund Python related development with our grants program and by funding \n",
    "special projects.\"\"\"\n",
    "\n",
    "\n",
    "words = re.findall('\\w+', text)\n",
    "\n",
    "\n",
    "print(Counter(words).most_common(10)) \n"
   ]
  },
  {
   "cell_type": "markdown",
   "id": "71495223-a897-4598-aa35-711e19b9f5bf",
   "metadata": {},
   "source": []
  },
  {
   "cell_type": "markdown",
   "id": "b237615c-5010-4a4d-ae42-9eeaa510f229",
   "metadata": {},
   "source": [
    "# Create a new JSON file from an existing JSON file"
   ]
  },
  {
   "cell_type": "code",
   "execution_count": 4,
   "id": "d3d8ed91-d447-49f8-ad5e-fddbb36c3f54",
   "metadata": {},
   "outputs": [],
   "source": [
    "import json\n",
    "\n",
    "with open('states.json') as f:\n",
    "  state_data= json.load(f)\n",
    "\n",
    "for state in state_data['states']:\n",
    "  del state['area_codes']\n",
    "\n",
    "with open('new_states.json', 'w') as f:\n",
    "  json.dump(state_data, f, indent=2)  "
   ]
  },
  {
   "cell_type": "markdown",
   "id": "b3c75526-3e52-409a-a5d9-b25bdc9502c2",
   "metadata": {},
   "source": []
  },
  {
   "cell_type": "markdown",
   "id": "46d007a0-d6e2-48e4-b9c7-3fd246583829",
   "metadata": {},
   "source": [
    "# Check if an array contains any duplicate elements"
   ]
  },
  {
   "cell_type": "code",
   "execution_count": 7,
   "id": "3f4430c7-6961-404a-9b17-ff5490eb50f5",
   "metadata": {},
   "outputs": [
    {
     "name": "stdout",
     "output_type": "stream",
     "text": [
      "False\n",
      "True\n",
      "True\n"
     ]
    }
   ],
   "source": [
    "def test_duplicate(array_nums):\n",
    "    nums_set = set(array_nums)    \n",
    "    return len(array_nums) != len(nums_set) \n",
    "\n",
    "    \n",
    "print(test_duplicate([1,2,3,4,5]))\n",
    "print(test_duplicate([1,2,3,4, 4]))\n",
    "print(test_duplicate([1,1,2,2,3,3,4,4,5]))\n"
   ]
  },
  {
   "cell_type": "markdown",
   "id": "ec3a195c-87e8-4fce-8909-3db2be8bb038",
   "metadata": {},
   "source": []
  },
  {
   "cell_type": "markdown",
   "id": "6cc7d0f9-1dc4-4ae1-bf95-d695bc1c6788",
   "metadata": {},
   "source": [
    "# Create an Enum object and show a member name and value"
   ]
  },
  {
   "cell_type": "code",
   "execution_count": 10,
   "id": "a1ded861-06cf-4933-97ee-972fda535aef",
   "metadata": {},
   "outputs": [
    {
     "name": "stdout",
     "output_type": "stream",
     "text": [
      "\n",
      "Member name: Albania\n",
      "Member value: 355\n"
     ]
    }
   ],
   "source": [
    "from enum import Enum\n",
    "\n",
    "class Country(Enum):\n",
    "    Afghanistan = 93\n",
    "    Albania = 355\n",
    "    Algeria = 213\n",
    "    Andorra = 376\n",
    "    Angola = 244\n",
    "    Antarctica = 672\n",
    "    \n",
    "print('\\nMember name: {}'.format(Country.Albania.name))\n",
    "print('Member value: {}'.format(Country.Albania.value))\n"
   ]
  },
  {
   "cell_type": "markdown",
   "id": "4b7e797b-9ee3-48e7-b2d4-a1ad736bf60e",
   "metadata": {},
   "source": []
  },
  {
   "cell_type": "code",
   "execution_count": null,
   "id": "fa3ec1a0-da92-4511-bbd2-bcb46022a470",
   "metadata": {},
   "outputs": [],
   "source": []
  }
 ],
 "metadata": {
  "kernelspec": {
   "display_name": "Python 3 (ipykernel)",
   "language": "python",
   "name": "python3"
  },
  "language_info": {
   "codemirror_mode": {
    "name": "ipython",
    "version": 3
   },
   "file_extension": ".py",
   "mimetype": "text/x-python",
   "name": "python",
   "nbconvert_exporter": "python",
   "pygments_lexer": "ipython3",
   "version": "3.13.5"
  }
 },
 "nbformat": 4,
 "nbformat_minor": 5
}
