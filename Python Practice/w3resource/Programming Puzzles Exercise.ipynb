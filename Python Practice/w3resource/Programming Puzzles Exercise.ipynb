{
 "cells": [
  {
   "cell_type": "markdown",
   "id": "e172e0fc-8d50-4d7f-b9aa-60a7e19fc397",
   "metadata": {},
   "source": [
    "# Longest string in list"
   ]
  },
  {
   "cell_type": "code",
   "execution_count": 1,
   "id": "85d4974f-f191-4c6d-895b-e7c2079e7556",
   "metadata": {},
   "outputs": [
    {
     "name": "stdout",
     "output_type": "stream",
     "text": [
      "Original strings:\n",
      "['cat', 'car', 'fear', 'center']\n",
      "Longest string in the list:\n",
      "center\n",
      "\n",
      "Original strings:\n",
      "['cat', 'dog', 'shatter', 'donut', 'at', 'todo', '']\n",
      "Longest string in the list:\n",
      "shatter\n"
     ]
    }
   ],
   "source": [
    "def test(words):\n",
    "    \n",
    "    return max(words, key=len)\n",
    "\n",
    "\n",
    "strs = ['cat', 'car', 'fear', 'center']\n",
    "\n",
    "print(\"Original strings:\")\n",
    "print(strs)\n",
    "\n",
    "print(\"Longest string in the list:\")\n",
    "\n",
    "\n",
    "print(test(strs))\n",
    "\n",
    "# Another example\n",
    "strs = ['cat', 'dog', 'shatter', 'donut', 'at', 'todo', '']\n",
    "\n",
    "\n",
    "print(\"\\nOriginal strings:\")\n",
    "print(strs)\n",
    "\n",
    "\n",
    "print(\"Longest string in the list:\")\n",
    "\n",
    "\n",
    "print(test(strs))\n"
   ]
  },
  {
   "cell_type": "code",
   "execution_count": null,
   "id": "26425fa8-ef44-4785-a075-e7a9d552ba75",
   "metadata": {},
   "outputs": [],
   "source": []
  },
  {
   "cell_type": "markdown",
   "id": "5dbb799a-175f-4952-9f6f-95518d44427c",
   "metadata": {},
   "source": [
    "# Triangle coordinates finder"
   ]
  },
  {
   "cell_type": "code",
   "execution_count": 2,
   "id": "ca01ca12-b745-480b-b351-16005cf01585",
   "metadata": {},
   "outputs": [
    {
     "name": "stdout",
     "output_type": "stream",
     "text": [
      "Sides of the triangle: [3, 4, 5]\n",
      "Coordinates of the triangle are:\n",
      "[[0.0, 0.0], [3, 0.0], [3.0, 4.0]]\n",
      "\n",
      "Sides of the triangle: [5, 6, 7]\n",
      "Coordinates of a triangle with the said side lengths:\n",
      "[[0.0, 0.0], [5, 0.0], [3.8, 5.878775382679628]]\n"
     ]
    }
   ],
   "source": [
    "\n",
    "def test(sides):\n",
    "   \n",
    "    # Sort the side lengths in asc order as shortest is always the base\n",
    "    a, b, c = sorted(sides)\n",
    "    \n",
    "    # semi-perimeter of the triangle\n",
    "    s = sum(sides) / 2\n",
    "    \n",
    "    # Heron's formula for area of the triangle\n",
    "    area = (s * (s - a) * (s - b) * (s - c)) ** 0.5\n",
    "    \n",
    "    # height of the triangle\n",
    "    y = 2 * area / a\n",
    "    \n",
    "    # Pythagorean theorem\n",
    "    x = (c ** 2 - y ** 2) ** 0.5\n",
    "    \n",
    "    # coordinates of the vertices\n",
    "    return [[0.0, 0.0], [a, 0.0], [x, y]]\n",
    "\n",
    "\n",
    "sides = [3, 4, 5]\n",
    "\n",
    "\n",
    "print(\"Sides of the triangle:\", sides)\n",
    "\n",
    "\n",
    "print(\"Coordinates of the triangle are:\")\n",
    "\n",
    "\n",
    "print(test(sides))\n",
    "\n",
    "# Another example\n",
    "sides = [5, 6, 7]\n",
    "\n",
    "\n",
    "print(\"\\nSides of the triangle:\", sides)\n",
    "\n",
    "\n",
    "print(\"Coordinates of a triangle with the said side lengths:\")\n",
    "\n",
    "\n",
    "print(test(sides))\n"
   ]
  },
  {
   "cell_type": "markdown",
   "id": "f1fbaaa1-5512-4e00-a321-209d11bf2657",
   "metadata": {},
   "source": []
  },
  {
   "cell_type": "code",
   "execution_count": null,
   "id": "5472a087-3ed9-4137-8fc8-4b961a76d500",
   "metadata": {},
   "outputs": [],
   "source": []
  }
 ],
 "metadata": {
  "kernelspec": {
   "display_name": "Python 3 (ipykernel)",
   "language": "python",
   "name": "python3"
  },
  "language_info": {
   "codemirror_mode": {
    "name": "ipython",
    "version": 3
   },
   "file_extension": ".py",
   "mimetype": "text/x-python",
   "name": "python",
   "nbconvert_exporter": "python",
   "pygments_lexer": "ipython3",
   "version": "3.13.5"
  }
 },
 "nbformat": 4,
 "nbformat_minor": 5
}
