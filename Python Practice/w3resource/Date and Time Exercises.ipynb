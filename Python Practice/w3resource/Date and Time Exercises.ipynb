{
 "cells": [
  {
   "cell_type": "markdown",
   "id": "06ce48c9-5036-44f9-b5e2-449a7e01d78e",
   "metadata": {},
   "source": [
    "# Current Time Fetcher"
   ]
  },
  {
   "cell_type": "code",
   "execution_count": 1,
   "id": "aba01efa-c990-4cab-8e60-1e5c33c79c1f",
   "metadata": {},
   "outputs": [
    {
     "name": "stdout",
     "output_type": "stream",
     "text": [
      "14:51:36.000244\n"
     ]
    }
   ],
   "source": [
    "\n",
    "import datetime\n",
    "\n",
    "print(datetime.datetime.now().time())\n"
   ]
  },
  {
   "cell_type": "markdown",
   "id": "a7e14387-515e-4d47-8861-920d0cb193d5",
   "metadata": {},
   "source": []
  },
  {
   "cell_type": "markdown",
   "id": "17c49189-2734-46aa-bba1-7a56d10c483a",
   "metadata": {},
   "source": [
    "# Sundays Selector"
   ]
  },
  {
   "cell_type": "code",
   "execution_count": 2,
   "id": "7b51aab7-db9c-429f-b9f0-801750929ecd",
   "metadata": {},
   "outputs": [
    {
     "name": "stdout",
     "output_type": "stream",
     "text": [
      "2025-01-05\n",
      "2025-01-12\n",
      "2025-01-19\n",
      "2025-01-26\n",
      "2025-02-02\n",
      "2025-02-09\n",
      "2025-02-16\n",
      "2025-02-23\n",
      "2025-03-02\n",
      "2025-03-09\n",
      "2025-03-16\n",
      "2025-03-23\n",
      "2025-03-30\n",
      "2025-04-06\n",
      "2025-04-13\n",
      "2025-04-20\n",
      "2025-04-27\n",
      "2025-05-04\n",
      "2025-05-11\n",
      "2025-05-18\n",
      "2025-05-25\n",
      "2025-06-01\n",
      "2025-06-08\n",
      "2025-06-15\n",
      "2025-06-22\n",
      "2025-06-29\n",
      "2025-07-06\n",
      "2025-07-13\n",
      "2025-07-20\n",
      "2025-07-27\n",
      "2025-08-03\n",
      "2025-08-10\n",
      "2025-08-17\n",
      "2025-08-24\n",
      "2025-08-31\n",
      "2025-09-07\n",
      "2025-09-14\n",
      "2025-09-21\n",
      "2025-09-28\n",
      "2025-10-05\n",
      "2025-10-12\n",
      "2025-10-19\n",
      "2025-10-26\n",
      "2025-11-02\n",
      "2025-11-09\n",
      "2025-11-16\n",
      "2025-11-23\n",
      "2025-11-30\n",
      "2025-12-07\n",
      "2025-12-14\n",
      "2025-12-21\n",
      "2025-12-28\n"
     ]
    }
   ],
   "source": [
    "\n",
    "from datetime import date, timedelta\n",
    "\n",
    "def all_sundays(year):\n",
    "    \n",
    "    dt = date(year, 1, 1)\n",
    "    dt += timedelta(days=6 - dt.weekday())  \n",
    "   \n",
    "    while dt.year == year:\n",
    "        yield dt\n",
    "        dt += timedelta(days=7)\n",
    "          \n",
    "\n",
    "for s in all_sundays(2025):\n",
    "    print(s)\n"
   ]
  },
  {
   "cell_type": "code",
   "execution_count": null,
   "id": "9e14e2f5-38ff-43e2-ba4a-092981398572",
   "metadata": {},
   "outputs": [],
   "source": []
  },
  {
   "cell_type": "code",
   "execution_count": 3,
   "id": "e82f574c-c454-4348-8b0b-fea954795ada",
   "metadata": {},
   "outputs": [
    {
     "name": "stdout",
     "output_type": "stream",
     "text": [
      "Collecting pendulum\n",
      "  Downloading pendulum-3.1.0-cp313-cp313-win_amd64.whl.metadata (6.9 kB)\n",
      "Requirement already satisfied: python-dateutil>=2.6 in c:\\users\\mimanshamehta\\anaconda3\\lib\\site-packages (from pendulum) (2.9.0.post0)\n",
      "Requirement already satisfied: tzdata>=2020.1 in c:\\users\\mimanshamehta\\anaconda3\\lib\\site-packages (from pendulum) (2025.2)\n",
      "Requirement already satisfied: six>=1.5 in c:\\users\\mimanshamehta\\anaconda3\\lib\\site-packages (from python-dateutil>=2.6->pendulum) (1.17.0)\n",
      "Downloading pendulum-3.1.0-cp313-cp313-win_amd64.whl (260 kB)\n",
      "Installing collected packages: pendulum\n",
      "Successfully installed pendulum-3.1.0\n",
      "Note: you may need to restart the kernel to use updated packages.\n"
     ]
    }
   ],
   "source": [
    "pip install pendulum"
   ]
  },
  {
   "cell_type": "markdown",
   "id": "711fed44-c963-4680-a198-a5f8f6113c96",
   "metadata": {},
   "source": [
    "# Is it Weekday or Weekend?:"
   ]
  },
  {
   "cell_type": "code",
   "execution_count": 4,
   "id": "476a4176-74fa-40b0-a306-c722768a534c",
   "metadata": {},
   "outputs": [
    {
     "name": "stdout",
     "output_type": "stream",
     "text": [
      "Today is a weekday.\n"
     ]
    }
   ],
   "source": [
    "import pendulum\n",
    "\n",
    "current_datetime = pendulum.now()\n",
    "\n",
    "day_of_week = current_datetime.day_of_week\n",
    "\n",
    "is_weekday = day_of_week >= 1 and day_of_week <= 5\n",
    "\n",
    "is_weekend = day_of_week == 6 or day_of_week == 7\n",
    "\n",
    "\n",
    "if is_weekday:\n",
    "    print(\"Today is a weekday.\")\n",
    "elif is_weekend:\n",
    "    print(\"Today is a weekend day.\")\n",
    "else:\n",
    "    print(\"Error in day detection.\")\n"
   ]
  },
  {
   "cell_type": "markdown",
   "id": "b0b40402-9d04-4cbd-a95f-546bec62d352",
   "metadata": {},
   "source": []
  },
  {
   "cell_type": "markdown",
   "id": "84e84edf-6e73-44e8-b19f-6418da3dde85",
   "metadata": {},
   "source": [
    "# Last day of the Month:"
   ]
  },
  {
   "cell_type": "code",
   "execution_count": 7,
   "id": "12767323-27d0-4954-a9b7-5dddc2df461a",
   "metadata": {},
   "outputs": [
    {
     "name": "stdout",
     "output_type": "stream",
     "text": [
      "Last day of the current month: 2025-07-31 23:59:59.999999+05:30\n",
      "It falls on a: Thursday\n"
     ]
    }
   ],
   "source": [
    "import pendulum\n",
    "\n",
    "current_datetime = pendulum.now()\n",
    "\n",
    "last_day_of_month = current_datetime.end_of('month')\n",
    "day_name = last_day_of_month.format('dddd')\n",
    "\n",
    "print(\"Last day of the current month:\", last_day_of_month)\n",
    "print(\"It falls on a:\", day_name)\n"
   ]
  },
  {
   "cell_type": "markdown",
   "id": "ef985105-9d34-41a0-806f-8b1dccce6fa9",
   "metadata": {},
   "source": []
  },
  {
   "cell_type": "code",
   "execution_count": null,
   "id": "d08bf3db-06fd-4d88-b533-9a97c2288045",
   "metadata": {},
   "outputs": [],
   "source": []
  }
 ],
 "metadata": {
  "kernelspec": {
   "display_name": "Python 3 (ipykernel)",
   "language": "python",
   "name": "python3"
  },
  "language_info": {
   "codemirror_mode": {
    "name": "ipython",
    "version": 3
   },
   "file_extension": ".py",
   "mimetype": "text/x-python",
   "name": "python",
   "nbconvert_exporter": "python",
   "pygments_lexer": "ipython3",
   "version": "3.13.5"
  }
 },
 "nbformat": 4,
 "nbformat_minor": 5
}
