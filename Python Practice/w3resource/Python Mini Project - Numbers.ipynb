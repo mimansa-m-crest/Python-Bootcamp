{
 "cells": [
  {
   "cell_type": "markdown",
   "id": "d861bed3-c7b6-465a-9e7d-fc4851d6e4ac",
   "metadata": {},
   "source": [
    "# Create a Python project that will help to print colored text, bold, italic, faint, blink (slow/fast), on terminal window"
   ]
  },
  {
   "cell_type": "code",
   "execution_count": 15,
   "id": "5e1bfa31-b7c7-4583-abf6-37983cfac78e",
   "metadata": {},
   "outputs": [
    {
     "name": "stdout",
     "output_type": "stream",
     "text": [
      "\u001b[4mPython Project\u001b[0m\n",
      "\u001b[32mPython Project\u001b[0m\n",
      "\u001b[5mPython Project\u001b[0m\n",
      "\u001b[31mPython Project\u001b[0m\n"
     ]
    }
   ],
   "source": [
    "\n",
    "def ansi_color(n,s):\n",
    "    \n",
    "\tcode={\"bold\":1,\"faint\":2,\"italic\":3,\"underline\":4,\"blink_slow\":5,\"blink_fast\":6,\"negative\":7,\"conceal\":8,\"strike_th\":9,\n",
    "\t\"black\":30,\"red\":31,\"green\":32,\"yellow\":33,\"blue\":34,\"magenta\":35,\"cyan\":36,\"white\":37,\n",
    "\t\"b_black\":40,\"b_red\":41,\"b_green\":42,\"b_yellow\":43,\"b_blue\":44,\"b_magenda\":45,\"b_cyan\":46,\"b_white\":47,}\n",
    "    \n",
    "\ttry:\n",
    "\t\tnum=str(code[n])\n",
    "\t\tvalue=\"\\033[\"+num+\"m\"+s+\"\\033[0m\"\n",
    "\t\treturn value\n",
    "        \n",
    "\texcept:\n",
    "\t\tpass\n",
    "        \n",
    "def list_code():\n",
    "    \n",
    "\tcode={\"bold\":1,\"faint\":2,\"italic\":3,\"underline\":4,\"blink_slow\":5,\"blink_fast\":6,\"negative\":7,\"conceal\":8,\"strike_th\":9,\n",
    "\t\"black\":30,\"red\":31,\"green\":32,\"yellow\":33,\"blue\":34,\"magenda\":35,\"cyan\":36,\"white\":37,\n",
    "\t\"b_black\":40,\"b_red\":41,\"b_green\":42,\"b_yellow\":43,\"b_blue\":44,\"b_magenda\":45,\"b_cyan\":46,\"b_white\":47,}\n",
    "    \n",
    "\tfor i,j in code.items():\n",
    "\t\tprint (str(j)+\"\\t\"+i)\n",
    "\n",
    "print (ansi_color('underline',\"Python Project\"))\n",
    "print (ansi_color('green',\"Python Project\"))\n",
    "print (ansi_color('blink_slow',\"Python Project\"))\n",
    "print (ansi_color('red',\"Python Project\"))\n",
    "\n"
   ]
  },
  {
   "cell_type": "markdown",
   "id": "ac7c0d60-f0df-43ab-8a6b-edb1b942b0d1",
   "metadata": {},
   "source": []
  },
  {
   "cell_type": "code",
   "execution_count": null,
   "id": "89e44d7f-6157-49b8-885c-21eb595ab891",
   "metadata": {},
   "outputs": [],
   "source": []
  }
 ],
 "metadata": {
  "kernelspec": {
   "display_name": "Python 3 (ipykernel)",
   "language": "python",
   "name": "python3"
  },
  "language_info": {
   "codemirror_mode": {
    "name": "ipython",
    "version": 3
   },
   "file_extension": ".py",
   "mimetype": "text/x-python",
   "name": "python",
   "nbconvert_exporter": "python",
   "pygments_lexer": "ipython3",
   "version": "3.13.5"
  }
 },
 "nbformat": 4,
 "nbformat_minor": 5
}
