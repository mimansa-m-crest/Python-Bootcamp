{
 "cells": [
  {
   "cell_type": "markdown",
   "id": "087c9154-7ce6-4e56-9c35-c849067cc065",
   "metadata": {},
   "source": [
    "# File Metadata Fetcher"
   ]
  },
  {
   "cell_type": "code",
   "execution_count": 4,
   "id": "2a4ce4d4-8f14-489e-a239-25e9e2290a28",
   "metadata": {},
   "outputs": [
    {
     "name": "stdout",
     "output_type": "stream",
     "text": [
      "Path name(myfile.txt):\n",
      "Size: 115\n",
      "Permissions: 0o100666\n",
      "Owner: 0\n",
      "Device: 3956543599465147757\n",
      "Created: Fri Jul  4 17:13:00 2025\n",
      "Last modified: Wed Jul 23 15:28:36 2025\n",
      "Last accessed: Thu Jul 24 17:35:52 2025\n"
     ]
    }
   ],
   "source": [
    "import os\n",
    "import sys\n",
    "import time\n",
    "\n",
    "path = 'myfile.txt'\n",
    "stat_info = os.stat(path)\n",
    "\n",
    "\n",
    "print('Path name({}):'.format(path))\n",
    "print('Size:', stat_info.st_size)\n",
    "print('Permissions:', oct(stat_info.st_mode))\n",
    "print('Owner:', stat_info.st_uid)\n",
    "print('Device:', stat_info.st_dev)\n",
    "print('Created:', time.ctime(stat_info.st_ctime))\n",
    "print('Last modified:', time.ctime(stat_info.st_mtime))\n",
    "print('Last accessed:', time.ctime(stat_info.st_atime))"
   ]
  },
  {
   "cell_type": "markdown",
   "id": "3cdd90d9-80c0-43c4-9c98-cd46dc3ed672",
   "metadata": {},
   "source": []
  },
  {
   "cell_type": "markdown",
   "id": "d890033b-6c37-4aad-b9c9-0da72a33206a",
   "metadata": {},
   "source": [
    "# Sphere - Surface and Volume "
   ]
  },
  {
   "cell_type": "code",
   "execution_count": 8,
   "id": "3db9fea5-c3bf-4b2d-8a38-ec6346f666f7",
   "metadata": {},
   "outputs": [
    {
     "name": "stdin",
     "output_type": "stream",
     "text": [
      "Radius of sphere:  6\n"
     ]
    },
    {
     "name": "stdout",
     "output_type": "stream",
     "text": [
      "Surface Area is:  452.57142857142856\n",
      "Volume is:  905.1428571428571\n"
     ]
    }
   ],
   "source": [
    "pi=22/7\n",
    "\n",
    "radian = float(input('Radius of sphere: '))\n",
    "\n",
    "sur_area = 4 * pi * radian **2\n",
    "volume = (4/3) * (pi * radian ** 3)\n",
    "\n",
    "print(\"Surface Area is: \", sur_area)\n",
    "print(\"Volume is: \", volume)\n"
   ]
  },
  {
   "cell_type": "markdown",
   "id": "eb5fb71f-568e-4143-aecb-5e04b6342a31",
   "metadata": {},
   "source": []
  },
  {
   "cell_type": "markdown",
   "id": "f1aa4ea4-58b2-4e6d-a313-55d5f95b20e2",
   "metadata": {},
   "source": [
    "# Response Text, Content, and Raw Socket"
   ]
  },
  {
   "cell_type": "code",
   "execution_count": 16,
   "id": "c452d414-861b-4260-a562-7276429bf253",
   "metadata": {},
   "outputs": [
    {
     "name": "stdout",
     "output_type": "stream",
     "text": [
      "Response text of https://google.com/:\n",
      "<!doctype html><html itemscope=\"\" itemtype=\"http://schema.org/WebPage\" lang=\"en-IN\"><head><meta content=\"text/html; charset=UTF-8\" http-equiv=\"Content-Type\"><meta content=\"/images/branding/googleg/1x/googleg_standard_color_128dp.png\" itemprop=\"image\"><title>Google</title><script nonce=\"dqz26Hzs3-AxVMziwdsYgg\">(function(){var _g={kEI:'2DaDaL7kCKfa1sQP_q-40Qk',kEXPI:'0,202854,2,3497475,618,435,448529,90132,14112,34679,30022,360901,94242,195802,11106,5230575,5992078,56187514,14110,8944,13973,42257,6751,23879,9139,4599,328,6225,1116,63049,6748,8301,8205,3292,4134,30379,28334,48317,5895,352,4100,6631,8149,3122,3,2745,7714,5773,16796,10816,3050,2,421,13051,3261,4178,3,5,4,2255,2117,747,10619,11553,555,5683,72,3532,591,8395,226,4594,2203,1763,2731,1834,2,11,4583,9471,646,1903,2,4,1592,721,4,4,4811,1847,2,5,2,552,5612,2349,2489,1,3463,2,1323,2394,383,88,7,566,4,673,127,600,1033,946,6,626,715,1555,5,2584,982,3,1920,3,1446,5388,2646,103,4,1,321,1190,2245,665,1002,667,31,3,60,3040,1954,9,531,5,4597,482,965,3,2,2,2,1331,359,1,3262,412,882,4,111,1392,391,1,4,1200,2716,601,90,219,1347,2631,364,573,2489,1151,128,54,352,185,2,1,1379,32,104,578,1534,932,26,285,2,535,2514,131,42,676,401,153,422,1022,112,2,535,746,66,5,1,367,314,45,83,42,269,326,319,21,697,5,1410,274,6,32,11,6,530,454,2039,2195,251,1138,482,9,1,300,379,1132,220,3,663,786,4,465,172,38,18,486,271,2,691,121,4,9,737,161,396,147,448,6,844,520,493,2,639,3,376,222,203,247,3,12,1,79,1169,577,1767,3,3,408,290,155,12,29,107,791,309,1849,77,13,713,398,35,378,223,957,948,9,564,600,8,4,407,208,187,27,4,99,386,1,3,2,45,530,4,4,323,66,3,2,2,2,334,4,19,414,106,625,4,944,247,75,163,89,15,146,114,123,28,96,117,1524,232,88,34,231,54,551,31,191,353,205,3,286,479,277,60,29,7,5,1299,821,102,352,2,464,163,444,69,261,329,1327,7,4,322,347,1455,52,2066,20788262,416078,5,2253,739,4,2700,101,159,3,1308,1929,5254,2,1834,373,500,1300,3,1556,371,59,42,2762,389,113,3,49,2,520,149,58,141,3,1,484,186,253,122,8489787,27641,548199,1193859',kBL:'UbxU',kOPI:89978449};(function(){var a;((a=window.google)==null?0:a.stvsc)?google.kEI=_g.kEI:window.google=_g;}).call(this);})();(function(){google.sn='webhp';google.kHL='en-IN';})();(function(){\n",
      "var g=this||self;function k(){return window.google&&window.google.kOPI||null};var l,m=[];function n(a){for(var b;a&&(!a.getAttribute||!(b=a.getAttribute(\"eid\")));)a=a.parentNode;return b||l}function p(a){for(var b=null;a&&(!a.getAttribute||!(b=a.getAttribute(\"leid\")));)a=a.parentNode;return b}function q(a){/^http:/i.test(a)&&window.location.protocol===\"https:\"&&(google.ml&&google.ml(Error(\"a\"),!1,{src:a,glmm:1}),a=\"\");return a}\n",
      "function r(a,b,d,c,h){var e=\"\";b.search(\"&ei=\")===-1&&(e=\"&ei=\"+n(c),b.search(\"&lei=\")===-1&&(c=p(c))&&(e+=\"&lei=\"+c));var f=b.search(\"&cshid=\")===-1&&a!==\"slh\";c=\"&zx=\"+Date.now().toString();g._cshid&&f&&(c+=\"&cshid=\"+g._cshid);(d=d())&&(c+=\"&opi=\"+d);return\"/\"+(h||\"gen_204\")+\"?atyp=i&ct=\"+String(a)+\"&cad=\"+(b+e+c)};l=google.kEI;google.getEI=n;google.getLEI=p;google.ml=function(){return null};google.log=function(a,b,d,c,h,e){e=e===void 0?k:e;d||(d=r(a,b,e,c,h));if(d=q(d)){a=new Image;var f=m.length;m[f]=a;a.onerror=a.onload=a.onabort=function(){delete m[f]};a.src=d}};google.logUrl=function(a,b){b=b===void 0?k:b;return r(\"\",a,b)};}).call(this);(function(){google.y={};google.sy={};function e(a,b,c){if(a)var d=a.id;else{do d=Math.random();while(c[d])}c[d]=[a,b]}var f;(f=google).x||(f.x=function(a,b){e(a,b,google.y)});var g;(g=google).sx||(g.sx=function(a,b){e(a,b,google.sy)});google.lm=[];var h;(h=google).plm||(h.plm=function(a){google.lm.push.apply(google.lm,a)});google.lq=[];var k;(k=google).load||(k.load=function(a,b,c){google.lq.push([[a],b,c])});var l;(l=google).loadAll||(l.loadAll=function(a,b){google.lq.push([a,b])});google.bx=!1;var m;(m=google).lx||(m.lx=function(){});var n=[],p;(p=google).fce||(p.fce=function(a,b,c,d){n.push([a,b,c,d])});google.qce=n;google.adl=[];}).call(this);google.f={};(function(){\n",
      "document.documentElement.addEventListener(\"submit\",function(b){var a;if(a=b.target){var c=a.getAttribute(\"data-submitfalse\");a=c===\"1\"||c===\"q\"&&!a.elements.q.value?!0:!1}else a=!1;a&&(b.preventDefault(),b.stopPropagation())},!0);document.documentElement.addEventListener(\"click\",function(b){var a;a:{for(a=b.target;a&&a!==document.documentElement;a=a.parentElement)if(a.tagName===\"A\"){a=a.getAttribute(\"data-nohref\")===\"1\";break a}a=!1}a&&b.preventDefault()},!0);}).call(this);</script><style>#gbar,#guser{font-size:13px;padding-top:1px !important;}#gbar{height:22px}#guser{padding-bottom:7px !important;text-align:right}.gbh,.gbd{border-top:1px solid #c9d7f1;font-size:1px}.gbh{height:0;position:absolute;top:24px;width:100%}@media all{.gb1{height:22px;margin-right:.5em;vertical-align:top}#gbar{float:left}}a.gb1,a.gb4{text-decoration:underline !important}a.gb1,a.gb4{color:#00c !important}.gbi .gb4{color:#dd8e27 !important}.gbf .gb4{color:#900 !important}\n",
      "</style><style>body,td,a,p,.h{font-family:sans-serif}body{margin:0;overflow-y:scroll}#gog{padding:3px 8px 0}td{line-height:.8em}.gac_m td{line-height:17px}form{margin-bottom:20px}.h{color:#1967d2}em{font-weight:bold;font-style:normal}.lst{height:25px;width:496px}.gsfi,.lst{font:18px sans-serif}.gsfs{font:17px sans-serif}.ds{display:inline-box;display:inline-block;margin:3px 0 4px;margin-left:4px}input{font-family:inherit}body{background:#fff;color:#1f1f1f}a{color:#681da8;text-decoration:none}a:hover,a:active{text-decoration:underline}.fl a{color:#1967d2}a:visited{color:#681da8}.sblc{padding-top:5px}.sblc a{display:block;margin:2px 0;margin-left:13px;font-size:11px}.lsbb{background:#f8f9fa;border:solid 1px;border-color:#dadce0 #70757a #70757a #dadce0;height:30px}.lsbb{display:block}#WqQANb a{display:inline-block;margin:0 12px}.lsb{background:url(/images/nav_logo229.png) 0 -261px repeat-x;color:#1f1f1f;border:none;cursor:pointer;height:30px;margin:0;outline:0;font:15px sans-serif;vertical-align:top}.lsb:active{background:#dadce0}.lst:focus{outline:none}</style><script nonce=\"dqz26Hzs3-AxVMziwdsYgg\">(function(){window.google.erd={jsr:1,bv:2261,de:true,dpf:'Wm7gTU1NfF6nowPDE9LhV7YkM9rUI_-EVVSiVpuP43s'};\n",
      "var g=this||self;var k,l=(k=g.mei)!=null?k:1,m,p=(m=g.diel)!=null?m:0,q,r=(q=g.sdo)!=null?q:!0,t=0,u,w=google.erd,x=w.jsr;google.ml=function(a,b,d,n,e){e=e===void 0?2:e;b&&(u=a&&a.message);d===void 0&&(d={});d.cad=\"ple_\"+google.ple+\".aple_\"+google.aple;if(google.dl)return google.dl(a,e,d,!0),null;b=d;if(x<0){window.console&&console.error(a,b);if(x===-2)throw a;b=!1}else b=!a||!a.message||a.message===\"Error loading script\"||t>=l&&!n?!1:!0;if(!b)return null;t++;d=d||{};b=encodeURIComponent;var c=\"/gen_204?atyp=i&ei=\"+b(google.kEI);google.kEXPI&&(c+=\"&jexpid=\"+b(google.kEXPI));c+=\"&srcpg=\"+b(google.sn)+\"&jsr=\"+b(w.jsr)+\n",
      "\"&bver=\"+b(w.bv);w.dpf&&(c+=\"&dpf=\"+b(w.dpf));var f=a.lineNumber;f!==void 0&&(c+=\"&line=\"+f);var h=a.fileName;h&&(h.indexOf(\"-extension:/\")>0&&(e=3),c+=\"&script=\"+b(h),f&&h===window.location.href&&(f=document.documentElement.outerHTML.split(\"\\n\")[f],c+=\"&cad=\"+b(f?f.substring(0,300):\"No script found.\")));google.ple&&google.ple===1&&(e=2);c+=\"&jsel=\"+e;for(var v in d)c+=\"&\",c+=b(v),c+=\"=\",c+=b(d[v]);c=c+\"&emsg=\"+b(a.name+\": \"+a.message);c=c+\"&jsst=\"+b(a.stack||\"N/A\");c.length>=12288&&(c=c.substring(0,12288));a=c;n||google.log(0,\"\",a);return a};window.onerror=function(a,b,d,n,e){u!==a&&(a=e instanceof Error?e:Error(a),d===void 0||\"lineNumber\"in a||(a.lineNumber=d),b===void 0||\"fileName\"in a||(a.fileName=b),google.ml(a,!1,void 0,!1,a.name===\"SyntaxError\"||a.message.substring(0,11)===\"SyntaxError\"||a.message.indexOf(\"Script error\")!==-1?3:p));u=null;r&&t>=l&&(window.onerror=null)};})();</script></head><body bgcolor=\"#fff\"><script nonce=\"dqz26Hzs3-AxVMziwdsYgg\">(function(){var src='/images/nav_logo229.png';var iesg=false;document.body.onload = function(){window.n && window.n();if (document.images){new Image().src=src;}\n",
      "if (!iesg){document.f&&document.f.q.focus();document.gbqf&&document.gbqf.q.focus();}\n",
      "}\n",
      "})();</script><div id=\"mngb\"><div id=gbar><nobr><b class=gb1>Search</b> <a class=gb1 href=\"https://www.google.com/imghp?hl=en&tab=wi\">Images</a> <a class=gb1 href=\"https://maps.google.co.in/maps?hl=en&tab=wl\">Maps</a> <a class=gb1 href=\"https://play.google.com/?hl=en&tab=w8\">Play</a> <a class=gb1 href=\"https://www.youtube.com/?tab=w1\">YouTube</a> <a class=gb1 href=\"https://news.google.com/?tab=wn\">News</a> <a class=gb1 href=\"https://mail.google.com/mail/?tab=wm\">Gmail</a> <a class=gb1 href=\"https://drive.google.com/?tab=wo\">Drive</a> <a class=gb1 style=\"text-decoration:none\" href=\"https://www.google.co.in/intl/en/about/products?tab=wh\"><u>More</u> &raquo;</a></nobr></div><div id=guser width=100%><nobr><span id=gbn class=gbi></span><span id=gbf class=gbf></span><span id=gbe></span><a href=\"http://www.google.co.in/history/optout?hl=en\" class=gb4>Web History</a> | <a  href=\"/preferences?hl=en\" class=gb4>Settings</a> | <a target=_top id=gb_70 href=\"https://accounts.google.com/ServiceLogin?hl=en&passive=true&continue=https://www.google.com/&ec=GAZAAQ\" class=gb4>Sign in</a></nobr></div><div class=gbh style=left:0></div><div class=gbh style=right:0></div></div><center><br clear=\"all\" id=\"lgpd\"><div id=\"XjhHGf\"><img alt=\"Google\" height=\"92\" src=\"/images/branding/googlelogo/1x/googlelogo_white_background_color_272x92dp.png\" style=\"padding:28px 0 14px\" width=\"272\" id=\"hplogo\"><br><br></div><form action=\"/search\" name=\"f\"><table cellpadding=\"0\" cellspacing=\"0\"><tr valign=\"top\"><td width=\"25%\">&nbsp;</td><td align=\"center\" nowrap=\"\"><input name=\"ie\" value=\"ISO-8859-1\" type=\"hidden\"><input value=\"en-IN\" name=\"hl\" type=\"hidden\"><input name=\"source\" type=\"hidden\" value=\"hp\"><input name=\"biw\" type=\"hidden\"><input name=\"bih\" type=\"hidden\"><div class=\"ds\" style=\"height:32px;margin:4px 0\"><input class=\"lst\" style=\"margin:0;padding:5px 8px 0 6px;vertical-align:top;color:#1f1f1f\" autocomplete=\"off\" value=\"\" title=\"Google Search\" maxlength=\"2048\" name=\"q\" size=\"57\"></div><br style=\"line-height:0\"><span class=\"ds\"><span class=\"lsbb\"><input class=\"lsb\" value=\"Google Search\" name=\"btnG\" type=\"submit\"></span></span><span class=\"ds\"><span class=\"lsbb\"><input class=\"lsb\" id=\"tsuid_2DaDaL7kCKfa1sQP_q-40Qk_1\" value=\"I'm Feeling Lucky\" name=\"btnI\" type=\"submit\"><script nonce=\"dqz26Hzs3-AxVMziwdsYgg\">(function(){var id='tsuid_2DaDaL7kCKfa1sQP_q-40Qk_1';document.getElementById(id).onclick = function(){if (this.form.q.value){this.checked = 1;if (this.form.iflsig)this.form.iflsig.disabled = false;}\n",
      "else top.location='/doodles/';};})();</script><input value=\"AOw8s4IAAAAAaINE6Nu6ny4-iVczorVw4RM9qT_72Q4P\" name=\"iflsig\" type=\"hidden\"></span></span></td><td class=\"fl sblc\" align=\"left\" nowrap=\"\" width=\"25%\"><a href=\"/advanced_search?hl=en-IN&amp;authuser=0\">Advanced search</a></td></tr></table><input id=\"gbv\" name=\"gbv\" type=\"hidden\" value=\"1\"><script nonce=\"dqz26Hzs3-AxVMziwdsYgg\">(function(){var a,b=\"1\";if(document&&document.getElementById)if(typeof XMLHttpRequest!=\"undefined\")b=\"2\";else if(typeof ActiveXObject!=\"undefined\"){var c,d,e=[\"MSXML2.XMLHTTP.6.0\",\"MSXML2.XMLHTTP.3.0\",\"MSXML2.XMLHTTP\",\"Microsoft.XMLHTTP\"];for(c=0;d=e[c++];)try{new ActiveXObject(d),b=\"2\"}catch(h){}}a=b;if(a==\"2\"&&location.search.indexOf(\"&gbv=2\")==-1){var f=google.gbvu,g=document.getElementById(\"gbv\");g&&(g.value=a);f&&window.setTimeout(function(){location.href=f},0)};}).call(this);</script></form><div style=\"font-size:83%;min-height:3.5em\"><br><div id=\"gws-output-pages-elements-homepage_additional_languages__als\"><style>#gws-output-pages-elements-homepage_additional_languages__als{font-size:small;margin-bottom:24px}#SIvCob{color:#545454;display:inline-block;line-height:28px;}#SIvCob a{}.H6sW5{display:inline-block;margin:0 2px;white-space:nowrap}.z4hgWe{display:inline-block;margin:0 2px}</style><div id=\"SIvCob\">Google offered in:  <a href=\"https://www.google.com/setprefs?sig=0_Wkosquc22uUcWMHz2HLgpJFJDR0%3D&amp;hl=hi&amp;source=homepage&amp;sa=X&amp;ved=0ahUKEwi-sO7cwteOAxUnrZUCHf4XLpoQ2ZgBCAY\">&#2361;&#2367;&#2344;&#2381;&#2342;&#2368;</a>    <a href=\"https://www.google.com/setprefs?sig=0_Wkosquc22uUcWMHz2HLgpJFJDR0%3D&amp;hl=bn&amp;source=homepage&amp;sa=X&amp;ved=0ahUKEwi-sO7cwteOAxUnrZUCHf4XLpoQ2ZgBCAc\">&#2476;&#2494;&#2434;&#2482;&#2494;</a>    <a href=\"https://www.google.com/setprefs?sig=0_Wkosquc22uUcWMHz2HLgpJFJDR0%3D&amp;hl=te&amp;source=homepage&amp;sa=X&amp;ved=0ahUKEwi-sO7cwteOAxUnrZUCHf4XLpoQ2ZgBCAg\">&#3108;&#3142;&#3122;&#3137;&#3095;&#3137;</a>    <a href=\"https://www.google.com/setprefs?sig=0_Wkosquc22uUcWMHz2HLgpJFJDR0%3D&amp;hl=mr&amp;source=homepage&amp;sa=X&amp;ved=0ahUKEwi-sO7cwteOAxUnrZUCHf4XLpoQ2ZgBCAk\">&#2350;&#2352;&#2366;&#2336;&#2368;</a>    <a href=\"https://www.google.com/setprefs?sig=0_Wkosquc22uUcWMHz2HLgpJFJDR0%3D&amp;hl=ta&amp;source=homepage&amp;sa=X&amp;ved=0ahUKEwi-sO7cwteOAxUnrZUCHf4XLpoQ2ZgBCAo\">&#2980;&#2990;&#3007;&#2996;&#3021;</a>    <a href=\"https://www.google.com/setprefs?sig=0_Wkosquc22uUcWMHz2HLgpJFJDR0%3D&amp;hl=gu&amp;source=homepage&amp;sa=X&amp;ved=0ahUKEwi-sO7cwteOAxUnrZUCHf4XLpoQ2ZgBCAs\">&#2711;&#2753;&#2716;&#2736;&#2750;&#2724;&#2752;</a>    <a href=\"https://www.google.com/setprefs?sig=0_Wkosquc22uUcWMHz2HLgpJFJDR0%3D&amp;hl=kn&amp;source=homepage&amp;sa=X&amp;ved=0ahUKEwi-sO7cwteOAxUnrZUCHf4XLpoQ2ZgBCAw\">&#3221;&#3240;&#3277;&#3240;&#3233;</a>    <a href=\"https://www.google.com/setprefs?sig=0_Wkosquc22uUcWMHz2HLgpJFJDR0%3D&amp;hl=ml&amp;source=homepage&amp;sa=X&amp;ved=0ahUKEwi-sO7cwteOAxUnrZUCHf4XLpoQ2ZgBCA0\">&#3374;&#3378;&#3375;&#3390;&#3379;&#3330;</a>    <a href=\"https://www.google.com/setprefs?sig=0_Wkosquc22uUcWMHz2HLgpJFJDR0%3D&amp;hl=pa&amp;source=homepage&amp;sa=X&amp;ved=0ahUKEwi-sO7cwteOAxUnrZUCHf4XLpoQ2ZgBCA4\">&#2602;&#2672;&#2588;&#2622;&#2604;&#2624;</a>  </div></div></div><span id=\"footer\"><div style=\"font-size:10pt\"><div style=\"margin:19px auto;text-align:center\" id=\"WqQANb\"><a href=\"/intl/en/ads/\">Advertising</a><a href=\"http://www.google.co.in/services/\">Business Solutions</a><a href=\"/intl/en/about.html\">About Google</a><a href=\"https://www.google.com/setprefdomain?prefdom=IN&amp;prev=https://www.google.co.in/&amp;sig=K_DPvbr2-lqbPgLTBU9hgDVwlH-KI%3D\">Google.co.in</a></div></div><p style=\"font-size:8pt;color:#636363\">&copy; 2025 - <a href=\"/intl/en/policies/privacy/\">Privacy</a> - <a href=\"/intl/en/policies/terms/\">Terms</a></p></span></center><script nonce=\"dqz26Hzs3-AxVMziwdsYgg\">(function(){window.google.cdo={height:757,width:1440};(function(){var a=window.innerWidth,b=window.innerHeight;if(!a||!b){var c=window.document,d=c.compatMode==\"CSS1Compat\"?c.documentElement:c.body;a=d.clientWidth;b=d.clientHeight}if(a&&b&&(a!=google.cdo.width||b!=google.cdo.height)){var e=google,f=e.log,g=\"/client_204?&atyp=i&biw=\"+a+\"&bih=\"+b+\"&ei=\"+google.kEI,h=\"\",k=window.google&&window.google.kOPI||null;k&&(h+=\"&opi=\"+k);f.call(e,\"\",\"\",g+h)};}).call(this);})();(function(){google.xjs={basecomb:'/xjs/_/js/k\\x3dxjs.hp.en.9Cg_5YP-eSc.es5.O/ck\\x3dxjs.hp.nf2_WRDsznc.L.X.O/am\\x3dBAAAAABAAAAAAAAAAAAAAAAAAAAAAAAAAAAAIAARAgcAAADABAEAAAAAAAgAAAAAAAAACgAAwAgAQABCBBAAAAgQJAAAKACYZADjQACAAAFgBQIgB6B0AAAAAAggAAggAAAEABQAAACQAAAgAAAAAjgBAAAAMADC44AAAAAAAAACYgFAAAAAAAAAiEc/d\\x3d1/ed\\x3d1/dg\\x3d0/ujg\\x3d1/rs\\x3dACT90oGszucGh4hbK0TWqVyU04SbxFuzMw',basecss:'/xjs/_/ss/k\\x3dxjs.hp.nf2_WRDsznc.L.X.O/am\\x3dBAAAAABAAAAAAAAAAAAAAAAAAAAAAAAAAAAAIAARAgcAAADAAAEAAAAAAAAAAAAAAAAAAgAAgAgAQABCBBAAAAgQJAAAKACYBAADAAAAAAFgBQIgB6B0AAAAAAggAAggAAAEABQAAACQAAAgAAAAAhgBAAAAAAAAIAAAAAAAAAACIg/rs\\x3dACT90oGCKqcoDQrPJjipdDzWcJLmdy4Bcg',basejs:'/xjs/_/js/k\\x3dxjs.hp.en.9Cg_5YP-eSc.es5.O/am\\x3dAAAAAAAAAAAAAAAAAAAAAAAAAAAAAAAAAAAAAAAAAAAAAAAABAAAAAAAAAgAAAAAAAAACAAAQAgAQABCBBAAAAAAAAAAIAAAYADgQACAAAAAAAAABwAAAAAAAAAAAAgAAAAAAAAAAAAAAAAAAAAAADgAAAAAMADC44AAAAAAAAACYgFAAAAAAAAAiEc/dg\\x3d0/rs\\x3dACT90oE_7LTdNF_ZZnO8ujszEphs4RhHyg',excm:[]};})();(function(){var u='/xjs/_/js/k\\x3dxjs.hp.en.9Cg_5YP-eSc.es5.O/am\\x3dAAAAAAAAAAAAAAAAAAAAAAAAAAAAAAAAAAAAAAAAAAAAAAAABAAAAAAAAAgAAAAAAAAACAAAQAgAQABCBBAAAAAAAAAAIAAAYADgQACAAAAAAAAABwAAAAAAAAAAAAgAAAAAAAAAAAAAAAAAAAAAADgAAAAAMADC44AAAAAAAAACYgFAAAAAAAAAiEc/d\\x3d1/ed\\x3d1/dg\\x3d3/rs\\x3dACT90oE_7LTdNF_ZZnO8ujszEphs4RhHyg/m\\x3dsb_he,d';var st=1;var amd=1000;var mmd=0;var pod=true;var pop=true;var povp=false;var fp='';\n",
      "var e=this||self;function f(){var b,a,d;if(a=b=(a=window.google)==null?void 0:(d=a.ia)==null?void 0:d.r.B2Jtyd)a=b.m,a=a===1||a===5||a===6;return a&&b.cbfd!=null&&b.cbvi!=null?b:void 0};function g(){var b=[u];if(!google.dp){for(var a=0;a<b.length;a++){var d=b[a],c=document.createElement(\"link\");c.as=\"script\";c.href=d;c.rel=\"preload\";document.body.appendChild(c)}google.dp=!0}};google.ps===void 0&&(google.ps=[]);function h(){var b=u,a=function(){};google.lx=google.stvsc?a:function(){k(b);google.lx=a};google.bx||google.lx()}function l(b,a){a&&(b.src=a);fp&&google.caft&&google.caft(function(){b.fetchPriority=fp});var d=b.onload;b.onload=function(c){d&&d(c);google.ps=google.ps.filter(function(G){return b!==G})};google.ps.push(b);document.body.appendChild(b)}google.as=l;function k(b){google.timers&&google.timers.load&&google.tick&&google.tick(\"load\",\"xjsls\");var a=document.createElement(\"script\");a.onerror=function(){google.ple=1};a.onload=function(){google.ple=0};google.xjsus=void 0;l(a,b);google.aple=-1;google.dp=!0};function m(b){var a=b.getAttribute(\"jscontroller\");return(a===\"UBXHI\"||a===\"R3fhkb\"||a===\"TSZEqd\")&&b.hasAttribute(\"data-src\")}function n(){for(var b=document.getElementsByTagName(\"img\"),a=0,d=b.length;a<d;a++){var c=b[a];if(c.hasAttribute(\"data-lzy_\")&&Number(c.getAttribute(\"data-atf\"))&1&&!m(c))return!0}return!1}for(var p=document.getElementsByTagName(\"img\"),q=0,r=p.length;q<r;++q){var t=p[q];Number(t.getAttribute(\"data-atf\"))&1&&m(t)&&(t.src=t.getAttribute(\"data-src\"))};var w,x,y,z,A,B,C,D,E,F;function H(){google.xjsu=u;e._F_jsUrl=u;A=function(){h()};w=!1;x=(st===1||st===3)&&!!google.caft&&!n();y=f();z=(st===2||st===3)&&!!y&&!n();B=pod;C=pop;D=povp;E=pop&&document.prerendering||povp&&document.hidden;F=D?\"visibilitychange\":\"prerenderingchange\"}function I(){w||x||z||E||(A(),w=!0)}\n",
      "setTimeout(function(){google&&google.tick&&google.timers&&google.timers.load&&google.tick(\"load\",\"xjspls\");H();if(x||z||E){if(x){var b=function(){x=!1;I()};google.caft(b);window.setTimeout(b,amd)}z&&(b=function(){z=!1;I()},y.cbvi.push(b),window.setTimeout(b,mmd));if(E){var a=function(){(D?document.hidden:document.prerendering)||(E=!1,I(),document.removeEventListener(F,a))};document.addEventListener(F,a,{passive:!0})}if(B||C||D)w||g()}else A()},0);})();window._ = window._ || {};window._DumpException = _._DumpException = function(e){throw e;};window._s = window._s || {};_s._DumpException = _._DumpException;window._qs = window._qs || {};_qs._DumpException = _._DumpException;(function(){var t=[4,65536,0,0,0,0,0,71305216,1858,68354048,8192,131072,33554432,2621440,14417920,276828160,4132,99679008,17203200,952113574,25170624,135626756,704672256,16413,35653632,32801,20971584,603979776,2621440,539557888,19,813698048,32995,0,1454112,16,134217728,286];window._F_toggles = window._xjs_toggles = t;})();window._F_installCss = window._F_installCss || function(css){};(function(){google.jl={bfl:0,dw:false,eli:false,ine:false,ubm:false,uwp:true,vs:false};})();(function(){var pmc='{\\x22d\\x22:{},\\x22sb_he\\x22:{\\x22client\\x22:\\x22heirloom-hp\\x22,\\x22dh\\x22:true,\\x22ds\\x22:\\x22\\x22,\\x22host\\x22:\\x22google.com\\x22,\\x22jsonp\\x22:true,\\x22msgs\\x22:{\\x22cibl\\x22:\\x22Clear Search\\x22,\\x22dym\\x22:\\x22Did you mean:\\x22,\\x22lcky\\x22:\\x22I\\\\u0026#39;m Feeling Lucky\\x22,\\x22lml\\x22:\\x22Learn more\\x22,\\x22psrc\\x22:\\x22This search was removed from your \\\\u003Ca href\\x3d\\\\\\x22/history\\\\\\x22\\\\u003EWeb History\\\\u003C/a\\\\u003E\\x22,\\x22psrl\\x22:\\x22Remove\\x22,\\x22sbit\\x22:\\x22Search by image\\x22,\\x22srch\\x22:\\x22Google Search\\x22},\\x22ovr\\x22:{},\\x22pq\\x22:\\x22\\x22,\\x22rfs\\x22:[],\\x22stok\\x22:\\x22G-hsGcJWbG4wFQsVe4o1v80Obx4\\x22}}';google.pmc=JSON.parse(pmc);})();</script></body></html>\n",
      "<urllib3.response.HTTPResponse object at 0x0000022CB5AAB7C0>\n",
      "b'\\x1f\\x8b\\x08\\x00\\x00\\x00\\x00\\x00\\x00\\x03\\xed\\xbd\\t\\x97\\x1c'\n"
     ]
    }
   ],
   "source": [
    "import requests\n",
    "res = requests.get('https://www.google.com/')\n",
    "\n",
    "print(\"Response text of https://google.com/:\")\n",
    "print(res.text)\n",
    "\n",
    "\n",
    "\n",
    "\n",
    "r = requests.get('https://api.github.com/events', stream = True)\n",
    "print(r.raw)\n",
    "print(r.raw.read(15))\n"
   ]
  },
  {
   "cell_type": "markdown",
   "id": "dcfc8ba3-2b3a-4570-a013-fad1da75e21e",
   "metadata": {},
   "source": []
  },
  {
   "cell_type": "markdown",
   "id": "4edc50c0-3c81-4c85-bf80-ec3da6822e46",
   "metadata": {},
   "source": [
    "# SQLite Table Creation"
   ]
  },
  {
   "cell_type": "code",
   "execution_count": 12,
   "id": "28849794-28e3-475d-b95f-b45669d85081",
   "metadata": {},
   "outputs": [],
   "source": [
    "import sqlite3"
   ]
  },
  {
   "cell_type": "code",
   "execution_count": 14,
   "id": "cfc94b0a-84a9-4888-8131-26c87f9aec72",
   "metadata": {},
   "outputs": [
    {
     "name": "stdout",
     "output_type": "stream",
     "text": [
      "\n",
      " agent_master file has created\n",
      "\n",
      " The SQLITE connection is closed.\n"
     ]
    }
   ],
   "source": [
    "conn = sqlite3 . connect('mydatabase.db')\n",
    "\n",
    "cursor = conn . cursor()\n",
    "\n",
    "cursor . execute ( \"\"\"\n",
    "CREATE TABLE agent_master(agent_code char(6),\n",
    "agent_name char(40),working_area char(35),\n",
    "commission decimal(10,2),phone_no char(15) NULL);\n",
    "\"\"\" )\n",
    "\n",
    "print(\"\\n agent_master file has created\")\n",
    "\n",
    "conn . close()\n",
    "\n",
    "print(\"\\n The SQLITE connection is closed.\")"
   ]
  },
  {
   "cell_type": "markdown",
   "id": "fc225d28-7990-4d46-99b2-bbe18768742f",
   "metadata": {},
   "source": []
  },
  {
   "cell_type": "code",
   "execution_count": null,
   "id": "d49292d6-b63c-42e1-bf3b-2591ea1c3f02",
   "metadata": {},
   "outputs": [],
   "source": []
  }
 ],
 "metadata": {
  "kernelspec": {
   "display_name": "Python 3 (ipykernel)",
   "language": "python",
   "name": "python3"
  },
  "language_info": {
   "codemirror_mode": {
    "name": "ipython",
    "version": 3
   },
   "file_extension": ".py",
   "mimetype": "text/x-python",
   "name": "python",
   "nbconvert_exporter": "python",
   "pygments_lexer": "ipython3",
   "version": "3.13.5"
  }
 },
 "nbformat": 4,
 "nbformat_minor": 5
}
