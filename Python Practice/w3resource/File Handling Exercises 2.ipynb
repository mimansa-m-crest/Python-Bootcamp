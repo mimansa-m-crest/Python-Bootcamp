{
 "cells": [
  {
   "cell_type": "markdown",
   "id": "97126f8e-7ce2-41bd-bce4-8031a3394d7a",
   "metadata": {},
   "source": [
    "# File to Variable"
   ]
  },
  {
   "cell_type": "code",
   "execution_count": 2,
   "id": "09733f22-7f52-4301-99e6-c170fe746e59",
   "metadata": {},
   "outputs": [
    {
     "name": "stdout",
     "output_type": "stream",
     "text": [
      "['hi, this is the first module of python. Next module is OOP. have a good day.\\n', 'bye\\n', 'hi, hello how are you\\n', 'i am fine']\n"
     ]
    }
   ],
   "source": [
    "def file_read(fname):\n",
    "        with open (fname, \"r\") as myfile:\n",
    "                data=myfile.readlines()\n",
    "                print(data)\n",
    "file_read('myfile.txt')\n"
   ]
  },
  {
   "cell_type": "code",
   "execution_count": null,
   "id": "6636cabd-14dd-40af-88e4-55d35889c9d4",
   "metadata": {},
   "outputs": [],
   "source": []
  },
  {
   "cell_type": "markdown",
   "id": "65e38043-b507-46ae-83b6-b234a381370b",
   "metadata": {},
   "source": [
    "# Count Words in File"
   ]
  },
  {
   "cell_type": "code",
   "execution_count": 4,
   "id": "c891b7ef-dc69-4ad1-a2ec-512ed8d1b31f",
   "metadata": {},
   "outputs": [
    {
     "name": "stdout",
     "output_type": "stream",
     "text": [
      "22\n"
     ]
    }
   ],
   "source": [
    "def count_words(filepath):\n",
    "    with open(filepath) as f:\n",
    "        data = f.read()\n",
    "        data.replace(\",\",\" \")\n",
    "        return len(data.split(\" \"))\n",
    "\n",
    "print(count_words(\"myfile.txt\"))"
   ]
  },
  {
   "cell_type": "markdown",
   "id": "a374fb40-1a50-4a29-a586-0d478ab2b283",
   "metadata": {},
   "source": []
  },
  {
   "cell_type": "markdown",
   "id": "129cbb65-be87-42fe-9357-d4fc43b519a1",
   "metadata": {},
   "source": [
    "# CSV Clean Entries"
   ]
  },
  {
   "cell_type": "code",
   "execution_count": 7,
   "id": "bd65c495-59ea-4be7-a07a-0152435cc4f7",
   "metadata": {},
   "outputs": [
    {
     "name": "stdout",
     "output_type": "stream",
     "text": [
      "['country_id', 'country_name', 'region_id']\n",
      "['AR', 'Argentina', '2']\n",
      "['AU', 'Australia', '3']\n",
      "['BE', 'Belgium', '1']\n",
      "['BR', 'Brazil', '2']\n",
      "['CA', 'Canada', '2']\n"
     ]
    }
   ],
   "source": [
    "import csv\n",
    "\n",
    "csv.register_dialect('csv_dialect', delimiter = '|', skipinitialspace = True, quoting = csv.QUOTE_ALL)\n",
    "\n",
    "with open('temp.csv', 'r') as csvfile:\n",
    "    reader = csv.reader(csvfile, dialect = 'csv_dialect')\n",
    "    for row in reader:\n",
    "        print(row)"
   ]
  },
  {
   "cell_type": "markdown",
   "id": "39b1621a-1018-480a-bdd3-7f602a478060",
   "metadata": {},
   "source": []
  },
  {
   "cell_type": "code",
   "execution_count": null,
   "id": "3ca2cbaf-5373-4368-93af-10eaf4f305ba",
   "metadata": {},
   "outputs": [],
   "source": []
  }
 ],
 "metadata": {
  "kernelspec": {
   "display_name": "Python 3 (ipykernel)",
   "language": "python",
   "name": "python3"
  },
  "language_info": {
   "codemirror_mode": {
    "name": "ipython",
    "version": 3
   },
   "file_extension": ".py",
   "mimetype": "text/x-python",
   "name": "python",
   "nbconvert_exporter": "python",
   "pygments_lexer": "ipython3",
   "version": "3.13.5"
  }
 },
 "nbformat": 4,
 "nbformat_minor": 5
}
