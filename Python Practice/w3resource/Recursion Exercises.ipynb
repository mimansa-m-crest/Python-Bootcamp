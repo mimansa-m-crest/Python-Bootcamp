{
 "cells": [
  {
   "cell_type": "markdown",
   "id": "a9d6971e-ac5a-4b35-88f0-32789eac8b81",
   "metadata": {},
   "source": [
    "# Factorial using Recursion"
   ]
  },
  {
   "cell_type": "code",
   "execution_count": 4,
   "id": "e12d5008-65fb-463e-adea-cb8784c746df",
   "metadata": {},
   "outputs": [
    {
     "name": "stdout",
     "output_type": "stream",
     "text": [
      "120\n"
     ]
    }
   ],
   "source": [
    "\n",
    "def factorial(n):\n",
    "    \n",
    "    if n <= 1:\n",
    "        return 1\n",
    "    else:\n",
    "        return n * factorial(n - 1)\n",
    "\n",
    "\n",
    "print(factorial(5))\n"
   ]
  },
  {
   "cell_type": "markdown",
   "id": "171b4813-f1de-41d8-8342-2b9b44b73f4c",
   "metadata": {},
   "source": []
  },
  {
   "cell_type": "markdown",
   "id": "b72a7692-45cd-4faf-b1ad-f9f2d87620e5",
   "metadata": {},
   "source": [
    "# Sum of digits of an integer using Recursion"
   ]
  },
  {
   "cell_type": "code",
   "execution_count": 6,
   "id": "f076afd8-4955-4bfe-b6db-03a5e5528a46",
   "metadata": {},
   "outputs": [
    {
     "name": "stdout",
     "output_type": "stream",
     "text": [
      "12\n",
      "9\n"
     ]
    }
   ],
   "source": [
    "\n",
    "def sumDigits(n):\n",
    "    \n",
    "    if n == 0:\n",
    "        return 0\n",
    "    else:\n",
    "        return n % 10 + sumDigits(int(n / 10))\n",
    "\n",
    "\n",
    "print(sumDigits(345))\n",
    "\n",
    "print(sumDigits(45))\n"
   ]
  },
  {
   "cell_type": "markdown",
   "id": "e87a6019-a736-48f1-ab25-e69c48f96269",
   "metadata": {},
   "source": []
  },
  {
   "cell_type": "code",
   "execution_count": null,
   "id": "8e78ec6a-c75a-4add-b1e1-665220975aaf",
   "metadata": {},
   "outputs": [],
   "source": []
  }
 ],
 "metadata": {
  "kernelspec": {
   "display_name": "Python 3 (ipykernel)",
   "language": "python",
   "name": "python3"
  },
  "language_info": {
   "codemirror_mode": {
    "name": "ipython",
    "version": 3
   },
   "file_extension": ".py",
   "mimetype": "text/x-python",
   "name": "python",
   "nbconvert_exporter": "python",
   "pygments_lexer": "ipython3",
   "version": "3.13.5"
  }
 },
 "nbformat": 4,
 "nbformat_minor": 5
}
