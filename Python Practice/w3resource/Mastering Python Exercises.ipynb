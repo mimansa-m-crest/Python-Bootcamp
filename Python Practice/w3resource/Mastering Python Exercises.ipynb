{
 "cells": [
  {
   "cell_type": "markdown",
   "id": "556ff27b-094a-4a1a-8ea2-dd994c3c1568",
   "metadata": {},
   "source": [
    "# Replace all values in a list with the mean of the list."
   ]
  },
  {
   "cell_type": "code",
   "execution_count": 1,
   "id": "f51b900e-8253-4181-a4fe-5ec0750e06e8",
   "metadata": {},
   "outputs": [
    {
     "name": "stdout",
     "output_type": "stream",
     "text": [
      "[30.0, 30.0, 30.0, 30.0, 30.0]\n"
     ]
    }
   ],
   "source": [
    "lst = [10, 20, 30, 40, 50]\n",
    "mean_val = sum(lst) / len(lst)\n",
    "lst = [mean_val] * len(lst)\n",
    "print(lst)\n"
   ]
  },
  {
   "cell_type": "markdown",
   "id": "3a4fbe30-b866-4604-a58a-47ccc1382f84",
   "metadata": {},
   "source": []
  },
  {
   "cell_type": "markdown",
   "id": "d0017d12-d5e4-4137-9347-6921a73c14af",
   "metadata": {},
   "source": [
    "# Replace all even numbers in a list with the next odd number."
   ]
  },
  {
   "cell_type": "code",
   "execution_count": 3,
   "id": "b5ee19ce-a513-4d30-a7e7-1e5163419e5c",
   "metadata": {},
   "outputs": [
    {
     "name": "stdout",
     "output_type": "stream",
     "text": [
      "[3, 5, 9, 13, 15]\n"
     ]
    }
   ],
   "source": [
    "lst = [2, 5, 8, 12, 15]\n",
    "next_odd_lst = [x + 1 if x % 2 == 0 else x for x in lst]\n",
    "print(next_odd_lst)\n"
   ]
  },
  {
   "cell_type": "markdown",
   "id": "fc6802df-e195-49dd-80a1-9e9f84b46367",
   "metadata": {},
   "source": []
  },
  {
   "cell_type": "markdown",
   "id": "d6f25a63-a9ee-48ba-8a18-04acb5d27e64",
   "metadata": {},
   "source": [
    "# Remove duplicates from a list while preserving order"
   ]
  },
  {
   "cell_type": "code",
   "execution_count": 4,
   "id": "e582d62f-7c4a-4607-9026-5b97d141c887",
   "metadata": {},
   "outputs": [
    {
     "name": "stdout",
     "output_type": "stream",
     "text": [
      "[1, 2, 3, 4, 5]\n"
     ]
    }
   ],
   "source": [
    "lst = [1, 2, 2, 3, 4, 4, 5]\n",
    "seen = set()\n",
    "unique_lst = []\n",
    "\n",
    "for x in lst:\n",
    "    if x not in seen:\n",
    "        unique_lst.append(x)\n",
    "        seen.add(x)\n",
    "\n",
    "print(unique_lst)\n"
   ]
  },
  {
   "cell_type": "markdown",
   "id": "e2c62960-c049-4dc6-a4e0-56d93c75b265",
   "metadata": {},
   "source": []
  },
  {
   "cell_type": "markdown",
   "id": "85c6f275-70a7-4414-8557-0547bcd2136f",
   "metadata": {},
   "source": [
    "# Invert a dictionary"
   ]
  },
  {
   "cell_type": "code",
   "execution_count": 5,
   "id": "b6d5bd68-349e-49b5-8d2b-c91b74a10104",
   "metadata": {},
   "outputs": [
    {
     "name": "stdout",
     "output_type": "stream",
     "text": [
      "{1: 'a', 2: 'b', 3: 'c'}\n"
     ]
    }
   ],
   "source": [
    "d = {'a': 1, 'b': 2, 'c': 3}\n",
    "inverted_dict = {}\n",
    "\n",
    "for key, value in d.items():\n",
    "    inverted_dict[value] = key\n",
    "\n",
    "print(inverted_dict)\n"
   ]
  },
  {
   "cell_type": "markdown",
   "id": "1814bd7e-7b86-42be-b309-ca87c2aa3a93",
   "metadata": {},
   "source": []
  },
  {
   "cell_type": "code",
   "execution_count": null,
   "id": "31f12cb3-cf0b-4bbe-a9c4-2af51b07fd5b",
   "metadata": {},
   "outputs": [],
   "source": []
  }
 ],
 "metadata": {
  "kernelspec": {
   "display_name": "Python 3 (ipykernel)",
   "language": "python",
   "name": "python3"
  },
  "language_info": {
   "codemirror_mode": {
    "name": "ipython",
    "version": 3
   },
   "file_extension": ".py",
   "mimetype": "text/x-python",
   "name": "python",
   "nbconvert_exporter": "python",
   "pygments_lexer": "ipython3",
   "version": "3.13.5"
  }
 },
 "nbformat": 4,
 "nbformat_minor": 5
}
