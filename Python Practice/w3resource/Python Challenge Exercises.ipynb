{
 "cells": [
  {
   "cell_type": "markdown",
   "id": "97f4bad4-1bf4-4fbd-b7c7-df097ed0c390",
   "metadata": {},
   "source": [
    "# Check if a given positive integer is a power of three"
   ]
  },
  {
   "cell_type": "code",
   "execution_count": 2,
   "id": "c522b4fb-9321-49c0-a8bb-0c4e9c02455e",
   "metadata": {},
   "outputs": [
    {
     "name": "stdout",
     "output_type": "stream",
     "text": [
      "True\n",
      "True\n",
      "False\n"
     ]
    }
   ],
   "source": [
    "def is_Power_of_three(n):\n",
    "    while (n % 3 == 0):\n",
    "         n /= 3;         \n",
    "    return n == 1;\n",
    "\n",
    "print(is_Power_of_three(9))\n",
    "print(is_Power_of_three(81))\n",
    "print(is_Power_of_three(21))\n"
   ]
  },
  {
   "cell_type": "markdown",
   "id": "852ede1b-2dba-4b87-8260-fa9968d3fedb",
   "metadata": {},
   "source": []
  },
  {
   "cell_type": "markdown",
   "id": "4dbd617f-6669-4c49-b1f8-2c9ff5fa52fd",
   "metadata": {},
   "source": [
    "# Find two elements that appears once in a list "
   ]
  },
  {
   "cell_type": "code",
   "execution_count": 4,
   "id": "f5006752-4e3d-4aa1-adb6-427bdc8f056e",
   "metadata": {},
   "outputs": [
    {
     "name": "stdout",
     "output_type": "stream",
     "text": [
      "Unique numbers in arr1: [3, 5]\n",
      "Unique numbers in arr2: [0, 6]\n"
     ]
    }
   ],
   "source": [
    "from collections import Counter\n",
    "\n",
    "def two_numbers(arr):\n",
    "    \n",
    "    count = Counter(arr)\n",
    "    \n",
    "    # Return numbers that appear only once\n",
    "    return [num for num in count if count[num] == 1]\n",
    "\n",
    "\n",
    "arr1 = [1, 2, 1, 3, 2, 5]\n",
    "print(\"Unique numbers in arr1:\", two_numbers(arr1))  \n",
    "\n",
    "\n",
    "arr2 = [11, 5, 3, 7, 0, 5, 3, 6, 7, 11]\n",
    "print(\"Unique numbers in arr2:\", two_numbers(arr2))  \n"
   ]
  },
  {
   "cell_type": "markdown",
   "id": "fc58e9bd-a986-43e2-bc9b-e0f7a5430342",
   "metadata": {},
   "source": []
  },
  {
   "cell_type": "code",
   "execution_count": null,
   "id": "093488a2-cddc-4e53-ab1e-1c45e43a245a",
   "metadata": {},
   "outputs": [],
   "source": []
  }
 ],
 "metadata": {
  "kernelspec": {
   "display_name": "Python 3 (ipykernel)",
   "language": "python",
   "name": "python3"
  },
  "language_info": {
   "codemirror_mode": {
    "name": "ipython",
    "version": 3
   },
   "file_extension": ".py",
   "mimetype": "text/x-python",
   "name": "python",
   "nbconvert_exporter": "python",
   "pygments_lexer": "ipython3",
   "version": "3.13.5"
  }
 },
 "nbformat": 4,
 "nbformat_minor": 5
}
