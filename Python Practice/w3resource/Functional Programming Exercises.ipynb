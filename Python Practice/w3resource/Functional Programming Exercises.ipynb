{
 "cells": [
  {
   "cell_type": "markdown",
   "id": "38ed3025-b8b7-44f5-b796-b834fa546564",
   "metadata": {},
   "source": [
    "# Check if a number falls within a given range"
   ]
  },
  {
   "cell_type": "code",
   "execution_count": 2,
   "id": "c47ef59c-3882-4868-8597-299aacdabeb1",
   "metadata": {},
   "outputs": [
    {
     "name": "stdout",
     "output_type": "stream",
     "text": [
      "5 is in the range\n"
     ]
    }
   ],
   "source": [
    "\n",
    "def test_range(n):\n",
    "    \n",
    "    if n in range(3, 9):\n",
    "        \n",
    "        print(\"%s is in the range\" % str(n))\n",
    "    \n",
    "    else:\n",
    "        \n",
    "        print(\"The number is outside the given range.\")\n",
    "\n",
    "\n",
    "test_range(5)\n"
   ]
  },
  {
   "cell_type": "markdown",
   "id": "b770e5a7-8b6e-4a5f-b3a1-6abf1b263602",
   "metadata": {},
   "source": []
  },
  {
   "cell_type": "markdown",
   "id": "2562cb71-00cf-48ba-893f-51047aa01f93",
   "metadata": {},
   "source": [
    "# Tuple sorting Lambda"
   ]
  },
  {
   "cell_type": "code",
   "execution_count": 4,
   "id": "d231eafb-8d2a-4126-9838-387d016290a3",
   "metadata": {},
   "outputs": [
    {
     "name": "stdout",
     "output_type": "stream",
     "text": [
      "Original list of tuples:\n",
      "[('English', 88), ('Science', 90), ('Maths', 97), ('Social sciences', 82)]\n",
      "\n",
      "Sorting the List of Tuples:\n",
      "[('Social sciences', 82), ('English', 88), ('Science', 90), ('Maths', 97)]\n"
     ]
    }
   ],
   "source": [
    "\n",
    "subject_marks = [('English', 88), ('Science', 90), ('Maths', 97), ('Social sciences', 82)]\n",
    "\n",
    "\n",
    "print(\"Original list of tuples:\")\n",
    "print(subject_marks)\n",
    "\n",
    "\n",
    "subject_marks.sort(key=lambda x: x[1])  # x:x[1], means lamda as func chooses second element(index) of the tuple to sort\n",
    "\n",
    "\n",
    "print(\"\\nSorting the List of Tuples:\")\n",
    "print(subject_marks)\n"
   ]
  },
  {
   "cell_type": "markdown",
   "id": "67bddb9b-8ce0-4ed4-ba07-69289bdf82cc",
   "metadata": {},
   "source": []
  },
  {
   "cell_type": "markdown",
   "id": "7dc3a48b-893f-4f91-a4a3-f6a27cc3c65c",
   "metadata": {},
   "source": [
    "# Dict to List Map"
   ]
  },
  {
   "cell_type": "code",
   "execution_count": 7,
   "id": "881a38ba-b4e2-495d-ac1d-0d0dba7e0bbb",
   "metadata": {},
   "outputs": [
    {
     "name": "stdout",
     "output_type": "stream",
     "text": [
      "Original dictionary of lists:\n",
      "{'Science': [88, 89, 62, 95], 'Language': [77, 78, 84, 80]}\n",
      "\n",
      "\n",
      "Split said dictionary of lists into list of dictionaries:\n",
      "[{'Science': 88, 'Language': 77}, {'Science': 89, 'Language': 78}, {'Science': 62, 'Language': 84}, {'Science': 95, 'Language': 80}]\n"
     ]
    }
   ],
   "source": [
    "def list_of_dicts(marks):\n",
    "    keys = marks.keys()\n",
    "    values = zip(*marks.values())\n",
    "    return [dict(zip(keys, v)) for v in values]\n",
    "\n",
    "\n",
    "marks = {'Science': [88, 89, 62, 95], 'Language': [77, 78, 84, 80]}\n",
    "\n",
    "\n",
    "print(\"Original dictionary of lists:\")\n",
    "print(marks)\n",
    "\n",
    "\n",
    "print(\"\\n\")\n",
    "\n",
    "\n",
    "print(\"Split said dictionary of lists into list of dictionaries:\")\n",
    "\n",
    "print(list_of_dicts(marks))\n"
   ]
  },
  {
   "cell_type": "markdown",
   "id": "813529a4-54d6-43ba-a22d-c7649458665a",
   "metadata": {},
   "source": []
  },
  {
   "cell_type": "markdown",
   "id": "8faa13ed-3910-42ac-a45a-29621f354fd4",
   "metadata": {},
   "source": [
    "# Drop until Positive"
   ]
  },
  {
   "cell_type": "code",
   "execution_count": 9,
   "id": "d2c04af5-f997-43c8-800f-a44f600277cc",
   "metadata": {},
   "outputs": [
    {
     "name": "stdout",
     "output_type": "stream",
     "text": [
      "Original list:  [-1, -2, -3, 4, -10, 2, 0, 5, 12]\n",
      "Drops elements from the iterable when a positive number arises \n",
      " [4, -10, 2, 0, 5, 12]\n"
     ]
    }
   ],
   "source": [
    "import itertools as it\n",
    "\n",
    "def drop_while(nums):\n",
    "    return it.dropwhile(lambda x : x < 0, nums)\n",
    "\n",
    "nums = [-1,-2,-3,4,-10,2,0,5,12]\n",
    "\n",
    "print(\"Original list: \",nums)\n",
    "\n",
    "result = drop_while(nums)\n",
    "print(\"Drops elements from the iterable when a positive number arises \\n\",list(result))\n"
   ]
  },
  {
   "cell_type": "markdown",
   "id": "d6985c7e-96d2-4cf5-9dd2-e5e399a739ee",
   "metadata": {},
   "source": []
  },
  {
   "cell_type": "markdown",
   "id": "d7d5c849-1d56-44f1-b2e2-f1b0cc5724e3",
   "metadata": {},
   "source": [
    "# City Population Filter"
   ]
  },
  {
   "cell_type": "code",
   "execution_count": 13,
   "id": "50e1b4da-d99a-45d7-9f63-ab1c3ed783fb",
   "metadata": {},
   "outputs": [
    {
     "name": "stdout",
     "output_type": "stream",
     "text": [
      "list of city and population:\n",
      "[('New York', 8500000), ('Los Angeles', 4000000), ('Chicago', 2700000), ('Houston', 2300000), ('Phoenix', 1600000), ('Philadelphia', 1500000), ('San Antonio', 1500000)]\n",
      "\n",
      "Extract cities with a population greater than 2 million:\n",
      "[('New York', 8500000), ('Los Angeles', 4000000), ('Chicago', 2700000), ('Houston', 2300000)]\n"
     ]
    }
   ],
   "source": [
    "\n",
    "cities = [\n",
    "    (\"New York\", 8500000),\n",
    "    (\"Los Angeles\", 4000000),\n",
    "    (\"Chicago\", 2700000),\n",
    "    (\"Houston\", 2300000),\n",
    "    (\"Phoenix\", 1600000),\n",
    "    (\"Philadelphia\", 1500000),\n",
    "    (\"San Antonio\", 1500000),\n",
    "]\n",
    "\n",
    "print(\"list of city and population:\")\n",
    "print(cities)\n",
    "\n",
    "def has_population_greater_than_two_million(city_population):\n",
    "    return city_population[1] > 2000000\n",
    "\n",
    "\n",
    "million_plus_cities = list(filter(has_population_greater_than_two_million, cities))\n",
    "\n",
    "print(\"\\nExtract cities with a population greater than 2 million:\")\n",
    "\n",
    "print(million_plus_cities)\n"
   ]
  },
  {
   "cell_type": "markdown",
   "id": "0627e157-f0ab-4616-a7cb-874476d7a2a5",
   "metadata": {},
   "source": []
  },
  {
   "cell_type": "code",
   "execution_count": 14,
   "id": "d16568a1-3503-41e8-85c1-ca548bc66eb1",
   "metadata": {},
   "outputs": [],
   "source": [
    "#"
   ]
  },
  {
   "cell_type": "code",
   "execution_count": null,
   "id": "255a4b32-2207-4462-9f6c-df6d855d703b",
   "metadata": {},
   "outputs": [],
   "source": []
  }
 ],
 "metadata": {
  "kernelspec": {
   "display_name": "Python 3 (ipykernel)",
   "language": "python",
   "name": "python3"
  },
  "language_info": {
   "codemirror_mode": {
    "name": "ipython",
    "version": 3
   },
   "file_extension": ".py",
   "mimetype": "text/x-python",
   "name": "python",
   "nbconvert_exporter": "python",
   "pygments_lexer": "ipython3",
   "version": "3.13.5"
  }
 },
 "nbformat": 4,
 "nbformat_minor": 5
}
