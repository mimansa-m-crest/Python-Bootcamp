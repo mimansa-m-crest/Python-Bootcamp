{
 "cells": [
  {
   "cell_type": "markdown",
   "id": "8910d1b0-8b4f-4835-9bd5-cd6ef65c56d6",
   "metadata": {},
   "source": [
    "#  Multiple Threads creation"
   ]
  },
  {
   "cell_type": "code",
   "execution_count": 3,
   "id": "45a3986f-ed94-4183-97ed-24d635584cc6",
   "metadata": {},
   "outputs": [
    {
     "name": "stdout",
     "output_type": "stream",
     "text": [
      "current thread name:current thread name: Thread-11 (threadnames)\n",
      " Thread-10 (threadnames)\n",
      "current thread name: Thread-12 (threadnames)\n",
      "current thread name: Thread-13 (threadnames)\n",
      "current thread name: Thread-14 (threadnames)\n",
      "current thread name: Thread-15 (threadnames)\n",
      "current thread name: Thread-16 (threadnames)\n"
     ]
    }
   ],
   "source": [
    "import threading\n",
    "\n",
    "def threadnames():\n",
    "    print(\"current thread name:\", threading.current_thread().name)\n",
    "\n",
    "\n",
    "threads = []\n",
    "for i in range(7):\n",
    "    thread = threading.Thread(target = threadnames)\n",
    "    threads.append(thread)\n",
    "    thread.start()\n",
    "\n",
    "for thread in threads:\n",
    "    thread.join()"
   ]
  },
  {
   "cell_type": "markdown",
   "id": "f4de73ca-b89c-4ebb-9a29-00d001e51e44",
   "metadata": {},
   "source": []
  },
  {
   "cell_type": "markdown",
   "id": "c443259f-2f16-4b5c-b242-cb0df86576e2",
   "metadata": {},
   "source": [
    "# Concurrent HTTP Requests"
   ]
  },
  {
   "cell_type": "code",
   "execution_count": 5,
   "id": "79094816-ace6-408a-936e-95eb1b21e2b9",
   "metadata": {},
   "outputs": [
    {
     "name": "stdout",
     "output_type": "stream",
     "text": [
      "Response from https://www.python.org: 200\n",
      "Response from https://www.wikipedia.org: 200\n",
      "Response from https://www.facebook.com: 200\n",
      "Response from https://www.google.com: 200\n"
     ]
    }
   ],
   "source": [
    "import requests\n",
    "import threading\n",
    "\n",
    "def makerequests(url):\n",
    "    response = requests.get(url)\n",
    "    print(f\"Response from {url}: {response.status_code}\")\n",
    "\n",
    "\n",
    "\n",
    "urls = [\n",
    "    \"https://www.facebook.com\",\n",
    "    \"https://www.google.com\",\n",
    "    \"https://www.wikipedia.org\",\n",
    "    \"https://www.python.org\"\n",
    "]\n",
    "\n",
    "threads = []\n",
    "for url in urls:\n",
    "    thread = threading.Thread(target = makerequests, args = (url,))\n",
    "    thread.start()\n",
    "    threads.append(thread)\n",
    "\n",
    "\n",
    "for thread in threads:\n",
    "    thread.join()"
   ]
  },
  {
   "cell_type": "markdown",
   "id": "f3e8f105-2b04-43b1-8c4a-0a4519e10861",
   "metadata": {},
   "source": []
  },
  {
   "cell_type": "markdown",
   "id": "c2b0352d-b1c6-4e4e-9bf6-c47ee50246eb",
   "metadata": {},
   "source": [
    "# Multithreaded Factorial Calculator"
   ]
  },
  {
   "cell_type": "code",
   "execution_count": 19,
   "id": "b2191295-56f6-4d21-baf4-b28c55997387",
   "metadata": {},
   "outputs": [
    {
     "name": "stdout",
     "output_type": "stream",
     "text": [
      "\n",
      "Calculating factorial of 12 in thread Thread-42 (calculate_factorial)\n",
      "Factorial of 12 is 479001600 in thread Thread-42 (calculate_factorial)\n",
      "\n",
      "Calculating factorial of 12 in thread Thread-43 (calculate_factorial)\n",
      "Factorial of 12 is 479001600 in thread Thread-43 (calculate_factorial)\n"
     ]
    }
   ],
   "source": [
    "import threading\n",
    "import math\n",
    "\n",
    "def calculate_factorial(n):\n",
    "    print(f\"\\nCalculating factorial of {n} in thread {threading.current_thread().name}\")\n",
    "    result = math.factorial(n)\n",
    "    print(f\"Factorial of {n} is {result} in thread {threading.current_thread().name}\")\n",
    "\n",
    "n = 12\n",
    "\n",
    "\n",
    "threads = [threading.Thread(target=calculate_factorial, args=(n,)) for _ in range(2)]\n",
    "\n",
    "for t in threads:\n",
    "    t.start()\n",
    "for t in threads:\n",
    "    t.join()\n"
   ]
  },
  {
   "cell_type": "markdown",
   "id": "55cc9cf0-c4e4-4496-98bf-b001433e0516",
   "metadata": {},
   "source": []
  },
  {
   "cell_type": "code",
   "execution_count": null,
   "id": "5ff42150-7c12-4073-bec1-e820f5982bd1",
   "metadata": {},
   "outputs": [],
   "source": []
  }
 ],
 "metadata": {
  "kernelspec": {
   "display_name": "Python 3 (ipykernel)",
   "language": "python",
   "name": "python3"
  },
  "language_info": {
   "codemirror_mode": {
    "name": "ipython",
    "version": 3
   },
   "file_extension": ".py",
   "mimetype": "text/x-python",
   "name": "python",
   "nbconvert_exporter": "python",
   "pygments_lexer": "ipython3",
   "version": "3.13.5"
  }
 },
 "nbformat": 4,
 "nbformat_minor": 5
}
