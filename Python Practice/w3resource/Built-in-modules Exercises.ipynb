{
 "cells": [
  {
   "cell_type": "markdown",
   "id": "7e043973-76f7-45c8-a234-b34dab891c05",
   "metadata": {},
   "source": [
    "# Module - random - random alphabetical generation"
   ]
  },
  {
   "cell_type": "code",
   "execution_count": 9,
   "id": "705d66bb-7c80-4b72-a7fe-72491a2208f6",
   "metadata": {},
   "outputs": [
    {
     "name": "stdout",
     "output_type": "stream",
     "text": [
      "Generate a random alphabetical character:\n",
      "D\n",
      "\n",
      "Generate a random alphabetical string:\n",
      "ddhaNkonJFIenqXpAAlftcCOmiVwQvihJyJTybBskBkuKhXyUhTA\n",
      "\n",
      "Generate a random alphabetical string of a fixed length:\n",
      "QwwoPuEVTj\n"
     ]
    }
   ],
   "source": [
    "import random\n",
    "import string\n",
    "\n",
    "print(\"Generate a random alphabetical character:\")\n",
    "print(random.choice(string.ascii_letters))\n",
    "\n",
    "print(\"\\nGenerate a random alphabetical string:\")\n",
    "max_length = 250\n",
    "str1 = \"\"\n",
    "for i in range(random.randint(1, max_length)):\n",
    "    str1 += random.choice(string.ascii_letters)\n",
    "print(str1)\n",
    "\n",
    "print(\"\\nGenerate a random alphabetical string of a fixed length:\")\n",
    "str2 = \"\"\n",
    "for i in range(10):\n",
    "    str2 += random.choice(string.ascii_letters)\n",
    "print(str2)\n"
   ]
  },
  {
   "cell_type": "markdown",
   "id": "032bbeb7-6b06-4d2a-9856-641ca5415229",
   "metadata": {},
   "source": []
  },
  {
   "cell_type": "markdown",
   "id": "8a9018c1-f2d3-4a90-971f-f1ec9aad552b",
   "metadata": {},
   "source": [
    "# User-Defined Method Checker"
   ]
  },
  {
   "cell_type": "code",
   "execution_count": 11,
   "id": "2f526cf5-9a01-4896-a785-a427256dbda8",
   "metadata": {},
   "outputs": [
    {
     "name": "stdout",
     "output_type": "stream",
     "text": [
      "True\n",
      "True\n",
      "False\n",
      "False\n",
      "False\n"
     ]
    }
   ],
   "source": [
    "import types\n",
    "class C:\n",
    "    def x():\n",
    "        return 1\n",
    "    def y():\n",
    "        return 1    \n",
    "        \n",
    "def b():\n",
    "    return 2\n",
    "\n",
    "print(isinstance(C().x, types.MethodType))\n",
    "print(isinstance(C().y, types.MethodType))\n",
    "print(isinstance(b, types.MethodType))\n",
    "print(isinstance(max, types.MethodType))\n",
    "print(isinstance(abs, types.MethodType))\n"
   ]
  },
  {
   "cell_type": "markdown",
   "id": "c25dde4f-f477-4474-9cc3-19fddda43d06",
   "metadata": {},
   "source": []
  },
  {
   "cell_type": "markdown",
   "id": "8f15db08-5022-4f57-9c87-aa0fa8dc5c48",
   "metadata": {},
   "source": [
    "# Shallow Copy of Dictionary"
   ]
  },
  {
   "cell_type": "code",
   "execution_count": 13,
   "id": "0bbe686e-3beb-4a1f-aecb-bca247bd6045",
   "metadata": {},
   "outputs": [
    {
     "name": "stdout",
     "output_type": "stream",
     "text": [
      "Original dictionary:  {'a': 1, 'b': 2, 'cc': {'c': 3}}\n",
      "\n",
      "Copy of the said list:\n",
      "{'a': 1, 'b': 2, 'cc': {'c': 3}}\n",
      "\n",
      "Change the value of an element of the original dictionary:\n",
      "{'a': 1, 'b': 2, 'cc': {'c': 10}}\n",
      "\n",
      "Second dictionary:\n",
      "{'a': 1, 'b': 2, 'cc': {'c': 10}}\n",
      "\n",
      "Original dictionary :\n",
      "{'x': 1, 'y': 2, 'zz': {'z': 3}}\n",
      "\n",
      "Copy of the said list:\n",
      "{'x': 1, 'y': 2, 'zz': {'z': 3}}\n",
      "\n",
      "Change the value of an element of the original dictionary:\n",
      "\n",
      "First dictionary:\n",
      "{'x': 1, 'y': 2, 'zz': {'z': 10}}\n",
      "\n",
      "Second dictionary (copy):\n",
      "{'x': 1, 'y': 2, 'zz': {'z': 10}}\n"
     ]
    }
   ],
   "source": [
    "import copy\n",
    "nums_x = {\"a\":1, \"b\":2, 'cc':{\"c\":3}}\n",
    "print(\"Original dictionary: \", nums_x)\n",
    "\n",
    "nums_y = copy.copy(nums_x)\n",
    "print(\"\\nCopy of the said list:\")\n",
    "print(nums_y)\n",
    "\n",
    "print(\"\\nChange the value of an element of the original dictionary:\")\n",
    "nums_x[\"cc\"][\"c\"] = 10\n",
    "print(nums_x)\n",
    "\n",
    "print(\"\\nSecond dictionary:\")\n",
    "print(nums_y)\n",
    "\n",
    "nums = {\"x\":1, \"y\":2, 'zz':{\"z\":3}}\n",
    "nums_copy = copy.copy(nums)\n",
    "print(\"\\nOriginal dictionary :\")\n",
    "print(nums)\n",
    "\n",
    "print(\"\\nCopy of the said list:\")\n",
    "print(nums_copy)\n",
    "\n",
    "print(\"\\nChange the value of an element of the original dictionary:\")\n",
    "nums[\"zz\"][\"z\"] = 10\n",
    "print(\"\\nFirst dictionary:\")\n",
    "print(nums)\n",
    "\n",
    "print(\"\\nSecond dictionary (copy):\")\n",
    "print(nums_copy)\n"
   ]
  },
  {
   "cell_type": "markdown",
   "id": "52d27174-1e2f-4af5-92f9-c90f49f01c35",
   "metadata": {},
   "source": []
  },
  {
   "cell_type": "code",
   "execution_count": null,
   "id": "14ae0ed8-35b7-4840-8649-27d262396d00",
   "metadata": {},
   "outputs": [],
   "source": []
  }
 ],
 "metadata": {
  "kernelspec": {
   "display_name": "Python 3 (ipykernel)",
   "language": "python",
   "name": "python3"
  },
  "language_info": {
   "codemirror_mode": {
    "name": "ipython",
    "version": 3
   },
   "file_extension": ".py",
   "mimetype": "text/x-python",
   "name": "python",
   "nbconvert_exporter": "python",
   "pygments_lexer": "ipython3",
   "version": "3.13.5"
  }
 },
 "nbformat": 4,
 "nbformat_minor": 5
}
