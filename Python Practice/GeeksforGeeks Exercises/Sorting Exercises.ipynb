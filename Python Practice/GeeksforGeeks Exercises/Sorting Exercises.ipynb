{
 "cells": [
  {
   "cell_type": "markdown",
   "id": "722a5c50-6eec-4fcd-b6a5-27abc0755cf6",
   "metadata": {},
   "source": [
    "# Bubble sort"
   ]
  },
  {
   "cell_type": "code",
   "execution_count": 3,
   "id": "95807e86-4539-4e6f-bdd0-8179cf061b83",
   "metadata": {},
   "outputs": [
    {
     "name": "stdout",
     "output_type": "stream",
     "text": [
      "Sorted array is: [11, 12, 22, 25, 64]\n"
     ]
    }
   ],
   "source": [
    "def bubblesort(arr):\n",
    "    n = len(arr)\n",
    "\n",
    "    for i in range(n):\n",
    "\n",
    "        for j in range(0, n - i - 1):\n",
    "\n",
    "            if arr[j] > arr[j+1]:\n",
    "                arr[j], arr[j+1] = arr[j+1], arr[j]\n",
    "\n",
    "arr = [64, 25, 12, 22, 11]\n",
    "bubblesort(arr)\n",
    "print(\"Sorted array is:\", arr)"
   ]
  },
  {
   "cell_type": "markdown",
   "id": "bcbffcf7-1d4f-4cf0-bf5f-acdea940786b",
   "metadata": {},
   "source": []
  },
  {
   "cell_type": "markdown",
   "id": "9661aaff-a0e9-45da-9c5a-0c8fe9482e97",
   "metadata": {},
   "source": [
    "# Quick sort"
   ]
  },
  {
   "cell_type": "code",
   "execution_count": 7,
   "id": "5d80f54b-7eb2-4bcc-8c34-a0ad0bb6f7e9",
   "metadata": {},
   "outputs": [
    {
     "name": "stdout",
     "output_type": "stream",
     "text": [
      "Sorted array is: [5, 6, 11, 12, 15, 22]\n"
     ]
    }
   ],
   "source": [
    "def quicksort(arr):\n",
    "    if len(arr) <= 1:\n",
    "        return arr\n",
    "\n",
    "    pivot = arr[0]\n",
    "    left = [x for x in arr[1:] if x < pivot]\n",
    "    right = [x for x in arr[1:] if x >= pivot]\n",
    "\n",
    "    return quicksort(left) + [pivot] + quicksort(right)\n",
    "\n",
    "\n",
    "arr = [11,12,22,15,5,6]\n",
    "sorted_arr = quicksort(arr)\n",
    "print(\"Sorted array is:\", sorted_arr)"
   ]
  },
  {
   "cell_type": "markdown",
   "id": "383d19ab-5205-41cb-98b6-21f11cfa493d",
   "metadata": {},
   "source": []
  },
  {
   "cell_type": "markdown",
   "id": "13154aed-62a0-4c7c-b455-0d2182a2d9b2",
   "metadata": {},
   "source": [
    "# Insertion sort"
   ]
  },
  {
   "cell_type": "code",
   "execution_count": 6,
   "id": "3f366c19-21f5-46e5-8ab9-8bd66aeaff1c",
   "metadata": {},
   "outputs": [
    {
     "name": "stdout",
     "output_type": "stream",
     "text": [
      "Original array: [12, 11, 22, 15, 5, 6]\n",
      "Sorted array: [5, 6, 11, 12, 15, 22]\n"
     ]
    }
   ],
   "source": [
    "def insertionsort(arr):\n",
    "\n",
    "    for i in range(1, len(arr)):\n",
    "        key = arr[i]\n",
    "        j = i - 1\n",
    "\n",
    "\n",
    "        while j >= 0 and arr[j] > key:\n",
    "            arr[j + 1] = arr[j]\n",
    "            j -= 1 \n",
    "\n",
    "        arr[j + 1] = key\n",
    "\n",
    "\n",
    "arr = [12, 11, 22, 15, 5, 6]\n",
    "print(\"Original array:\", arr)\n",
    "\n",
    "insertionsort(arr)\n",
    "print(\"Sorted array:\", arr)"
   ]
  },
  {
   "cell_type": "markdown",
   "id": "6180efc2-c189-4805-983e-9af91d966252",
   "metadata": {},
   "source": []
  },
  {
   "cell_type": "markdown",
   "id": "f3eae232-f569-456d-8f8b-a26023eae53e",
   "metadata": {},
   "source": [
    "# Selection sort"
   ]
  },
  {
   "cell_type": "code",
   "execution_count": 12,
   "id": "4ad11197-c4d1-4577-8330-7fefab50f219",
   "metadata": {},
   "outputs": [
    {
     "name": "stdout",
     "output_type": "stream",
     "text": [
      "Original array: [64, 25, 12, 22, 11]\n",
      "Sorted array: [11, 12, 22, 25, 64]\n"
     ]
    }
   ],
   "source": [
    "def selectionsort(arr):\n",
    "    n = len(arr)\n",
    "\n",
    "    for i in range(n):\n",
    "        min_idx = i\n",
    "\n",
    "        for j in range(i + 1, n):\n",
    "            if arr[j] < arr[min_idx]:\n",
    "                min_idx = j\n",
    "\n",
    "        arr[i], arr[min_idx] = arr[min_idx], arr[i]\n",
    "\n",
    "\n",
    "arr = [64, 25, 12, 22, 11]\n",
    "print(\"Original array:\", arr)\n",
    "\n",
    "selectionsort(arr)\n",
    "print(\"Sorted array:\", arr)\n"
   ]
  },
  {
   "cell_type": "markdown",
   "id": "9c138bc5-5d06-4ab7-a7f3-dc2c691276b2",
   "metadata": {},
   "source": []
  },
  {
   "cell_type": "markdown",
   "id": "3a618b9f-f12b-4a9d-a7c9-9a48ba7f0aa2",
   "metadata": {},
   "source": [
    "# Heap sort"
   ]
  },
  {
   "cell_type": "code",
   "execution_count": 13,
   "id": "e6f1e96b-11a4-440d-a37a-3703ebae7858",
   "metadata": {},
   "outputs": [
    {
     "name": "stdout",
     "output_type": "stream",
     "text": [
      "Original array: [12, 11, 13, 5, 6, 7]\n",
      "Sorted array: [5, 6, 7, 11, 12, 13]\n"
     ]
    }
   ],
   "source": [
    "def heapsort(arr):\n",
    "    def heapify(n,i):\n",
    "        largest = i\n",
    "        l, r = 2*i + 1, 2*i + 2\n",
    "        if l < n and arr[l] > arr[largest]:\n",
    "            largest = l\n",
    "        if r < n and arr[r] > arr[largest]:\n",
    "            largest = r\n",
    "        if largest != i:\n",
    "            arr[i], arr[largest] = arr[largest], arr[i]\n",
    "            heapify(n,largest)\n",
    "\n",
    "    n = len(arr)\n",
    "    for i in range(n//2 - 1, -1, -1):\n",
    "        heapify(n,i)\n",
    "    for i in range(n - 1, 0, -1):\n",
    "        arr[0], arr[i] = arr[i], arr[0]\n",
    "        heapify(i,0)\n",
    "\n",
    "arr = [12, 11, 13, 5, 6, 7]\n",
    "print(\"Original array:\", arr)\n",
    "\n",
    "heapsort(arr)\n",
    "print(\"Sorted array:\", arr)\n"
   ]
  },
  {
   "cell_type": "markdown",
   "id": "559d1f2f-eec5-408f-9f98-5679285b910a",
   "metadata": {},
   "source": []
  },
  {
   "cell_type": "code",
   "execution_count": null,
   "id": "1830a7be-5ad6-4603-989e-e3974e576d18",
   "metadata": {},
   "outputs": [],
   "source": []
  }
 ],
 "metadata": {
  "kernelspec": {
   "display_name": "Python 3 (ipykernel)",
   "language": "python",
   "name": "python3"
  },
  "language_info": {
   "codemirror_mode": {
    "name": "ipython",
    "version": 3
   },
   "file_extension": ".py",
   "mimetype": "text/x-python",
   "name": "python",
   "nbconvert_exporter": "python",
   "pygments_lexer": "ipython3",
   "version": "3.13.5"
  }
 },
 "nbformat": 4,
 "nbformat_minor": 5
}
