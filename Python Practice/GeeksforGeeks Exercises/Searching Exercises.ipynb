{
 "cells": [
  {
   "cell_type": "markdown",
   "id": "ef2bf411-2fd7-4bc6-bee6-b45ef02631e6",
   "metadata": {},
   "source": [
    "# Linear search"
   ]
  },
  {
   "cell_type": "code",
   "execution_count": 1,
   "id": "ff478880-955a-4c8c-aca1-30b0a8905681",
   "metadata": {},
   "outputs": [
    {
     "name": "stdout",
     "output_type": "stream",
     "text": [
      "Element found at index: 4\n"
     ]
    }
   ],
   "source": [
    "def linear_search(arr,target):\n",
    "    for index in range(len(arr)):\n",
    "        if arr[index] == target:\n",
    "            return index\n",
    "    return -1\n",
    "\n",
    "\n",
    "arr = [11,22,5,6,15,12]\n",
    "target = 15\n",
    "\n",
    "result = linear_search(arr,target)\n",
    "\n",
    "if result != -1:\n",
    "    print(f\"Element found at index: {result}\")\n",
    "else:\n",
    "    print(\"Element not found in the array\")\n"
   ]
  },
  {
   "cell_type": "markdown",
   "id": "f803b53a-e9b8-4f3e-b511-a0ad140fc75a",
   "metadata": {},
   "source": []
  },
  {
   "cell_type": "markdown",
   "id": "0dd208fc-3a73-43a0-ada4-2644d813f587",
   "metadata": {},
   "source": [
    "# Binary search - iterative"
   ]
  },
  {
   "cell_type": "code",
   "execution_count": 2,
   "id": "e06f171a-5bab-4a7e-a6ea-48f96f0576e8",
   "metadata": {},
   "outputs": [
    {
     "name": "stdout",
     "output_type": "stream",
     "text": [
      "the index of the target is : 4\n"
     ]
    }
   ],
   "source": [
    "def binary_search(arr,target):\n",
    "    low, high = 0, len(arr) - 1\n",
    "\n",
    "    while low <= high:\n",
    "        mid = (low + high)// 2\n",
    "\n",
    "        if arr[mid] == target:\n",
    "            return mid\n",
    "        elif arr[mid] < target:\n",
    "            low = mid + 1\n",
    "        else:\n",
    "            high = mid - 1\n",
    "\n",
    "    return -1\n",
    "\n",
    "arr = [1, 3, 5, 7, 9, 11, 13, 15]\n",
    "target = 9\n",
    "\n",
    "print(\"the index of the target is :\", binary_search(arr, target))\n"
   ]
  },
  {
   "cell_type": "markdown",
   "id": "480f7213-6780-4a4a-a4f5-14105b604e14",
   "metadata": {},
   "source": []
  },
  {
   "cell_type": "markdown",
   "id": "ebe90a94-8416-458c-b1f1-e5dde4d51588",
   "metadata": {},
   "source": [
    "# Binary search - recursive"
   ]
  },
  {
   "cell_type": "code",
   "execution_count": 3,
   "id": "b6b72b9b-8eb2-4d20-877b-fde89ac066ef",
   "metadata": {},
   "outputs": [
    {
     "name": "stdout",
     "output_type": "stream",
     "text": [
      "the index of the target is : 5\n"
     ]
    }
   ],
   "source": [
    "def binary_search(arr,target,low,high):\n",
    "\n",
    "    if low > high:\n",
    "        return -1\n",
    "    mid = (low + high)// 2\n",
    "    if arr[mid] == target:\n",
    "        return mid\n",
    "    elif arr[mid] < target:\n",
    "        return binary_search(arr, target, mid+1, high)\n",
    "    else:\n",
    "        return binary_search(arr, target, mid-1, low)\n",
    "\n",
    "arr = [11, 22, 12, 5, 6, 15]\n",
    "target = 15\n",
    "\n",
    "print(\"the index of the target is :\", binary_search(arr, target, 0, len(arr) - 1))"
   ]
  },
  {
   "cell_type": "markdown",
   "id": "a6b4b026-56f6-41f4-9db3-8331f53f9b06",
   "metadata": {},
   "source": []
  },
  {
   "cell_type": "markdown",
   "id": "357885a8-caa4-4911-8102-15a2fa4f0c1b",
   "metadata": {},
   "source": [
    "# Anagram substring search"
   ]
  },
  {
   "cell_type": "code",
   "execution_count": 4,
   "id": "9780a049-4e1c-46bf-b2f2-20c4d3720193",
   "metadata": {},
   "outputs": [
    {
     "name": "stdout",
     "output_type": "stream",
     "text": [
      "found at index: 0\n",
      "found at index: 5\n",
      "found at index: 6\n"
     ]
    }
   ],
   "source": [
    "from collections import Counter\n",
    "\n",
    "def search_anagrams(pat,txt):\n",
    "    m,n = len(pat), len(txt)\n",
    "    if m > n:\n",
    "        return\n",
    "\n",
    "    countp = Counter(pat)\n",
    "    countw = Counter(txt[:m])\n",
    "\n",
    "    for i in range(n-m+1):\n",
    "        if countp == countw:\n",
    "            print(\"found at index:\", i)\n",
    "\n",
    "        if i + m < n:\n",
    "            countw[txt[i]] -= 1\n",
    "            if countw[txt[i]] == 0:\n",
    "                del countw[txt[i]]\n",
    "\n",
    "            countw[txt[i+m]] += 1\n",
    " \n",
    "\n",
    "\n",
    "\n",
    "search_anagrams(\"ABCD\", \"BACDGABCDA\")"
   ]
  },
  {
   "cell_type": "markdown",
   "id": "95d1e7f9-c38a-41b2-88f0-ae2b421c59ed",
   "metadata": {},
   "source": []
  },
  {
   "cell_type": "markdown",
   "id": "2e90210c-2664-4041-af61-87e64d2e4778",
   "metadata": {},
   "source": [
    "# KMP algorithm for pattern searching"
   ]
  },
  {
   "cell_type": "code",
   "execution_count": 2,
   "id": "9547c7cf-3b02-48c0-b316-2e4cba967020",
   "metadata": {},
   "outputs": [
    {
     "name": "stdout",
     "output_type": "stream",
     "text": [
      "Found pattern at index: 10\n"
     ]
    }
   ],
   "source": [
    "def kmp_search(pat, txt):\n",
    "    m = len(pat)\n",
    "    n = len(txt)\n",
    "    lps = [0]*m\n",
    "    i = 0\n",
    "    j = 0\n",
    "    computeLPSArray(pat, m , lps)\n",
    "\n",
    "    while i < n:\n",
    "        if pat[j] == txt[i]:\n",
    "            i += 1\n",
    "            j += 1\n",
    "        if j == m:\n",
    "            print(\"Found pattern at index:\", str(i-j))\n",
    "            j = lps[j - 1]\n",
    "        elif i < n and pat[j] != txt[i]:\n",
    "            if j != 0:\n",
    "                j = lps[j - 1]\n",
    "            else:\n",
    "                i += 1\n",
    "            \n",
    "\n",
    "\n",
    "def computeLPSArray(pat, m, lps):\n",
    "    len = 0\n",
    "    lps[0] = 0\n",
    "    i = 1\n",
    "\n",
    "    while i < m:\n",
    "        if pat[i] == pat[len]:\n",
    "            len += 1\n",
    "            lps[i] = len\n",
    "            i += 1\n",
    "        else:\n",
    "            if len != 0:\n",
    "                len = lps[len - 1]\n",
    "            else:\n",
    "                lps[i] = 0\n",
    "                i += 1\n",
    "\n",
    "\n",
    "txt = \"ABABDABACDABABCABAB\"\n",
    "pat = \"ABABCABAB\"\n",
    "kmp_search(pat,txt)\n",
    "                "
   ]
  },
  {
   "cell_type": "markdown",
   "id": "0753fc69-7a9e-4ed3-b839-127aa5c8de39",
   "metadata": {},
   "source": []
  },
  {
   "cell_type": "markdown",
   "id": "a7e766c1-63b3-407e-8e83-010a6888d248",
   "metadata": {},
   "source": [
    "# Rabin karp algorithm"
   ]
  },
  {
   "cell_type": "code",
   "execution_count": 3,
   "id": "f8d4f845-a8d7-41bd-af17-5b042c4e6255",
   "metadata": {},
   "outputs": [
    {
     "name": "stdout",
     "output_type": "stream",
     "text": [
      "Pattern found at index 3\n"
     ]
    }
   ],
   "source": [
    "def rabinkarp(pat,txt,q = 101):\n",
    "    d = 256\n",
    "    m = len(pat)\n",
    "    n = len(txt)\n",
    "    h = pow(d, m-1) % q\n",
    "    p = 0\n",
    "    t = 0\n",
    "\n",
    "    for i in range(m):\n",
    "        p = (d * p + ord(pat[i])) % q\n",
    "        t = (d * t + ord(txt[i])) % q\n",
    "\n",
    "    for i in range(n - m + 1):\n",
    "        if p == t:\n",
    "            if txt[i:i+m] == pat:\n",
    "                print(f\"Pattern found at index {i}\")\n",
    "\n",
    "        if i < n - m:\n",
    "            t = (d * (t - ord(txt[i]) * h) + ord(txt[i + m])) % q\n",
    "\n",
    "            if t < 0:\n",
    "                t = t+q\n",
    "\n",
    "\n",
    "txt = \"ABCCDDAEFG\"\n",
    "pat = \"CDD\"\n",
    "rabinkarp(pat, txt)\n",
    "      "
   ]
  },
  {
   "cell_type": "code",
   "execution_count": null,
   "id": "f6becb53-5c29-4099-b824-f0993592015a",
   "metadata": {},
   "outputs": [],
   "source": []
  }
 ],
 "metadata": {
  "kernelspec": {
   "display_name": "Python 3 (ipykernel)",
   "language": "python",
   "name": "python3"
  },
  "language_info": {
   "codemirror_mode": {
    "name": "ipython",
    "version": 3
   },
   "file_extension": ".py",
   "mimetype": "text/x-python",
   "name": "python",
   "nbconvert_exporter": "python",
   "pygments_lexer": "ipython3",
   "version": "3.13.5"
  }
 },
 "nbformat": 4,
 "nbformat_minor": 5
}
