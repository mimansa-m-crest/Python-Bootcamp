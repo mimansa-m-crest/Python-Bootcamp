{
 "cells": [
  {
   "cell_type": "markdown",
   "id": "035864f0-c03c-4509-abf5-5e8a4fb0ffa2",
   "metadata": {},
   "source": [
    "# Search an element in a Circular Linked List"
   ]
  },
  {
   "cell_type": "code",
   "execution_count": 9,
   "id": "3b5081c4-73d8-4ff1-bc3c-ddfcf1d6c9d2",
   "metadata": {},
   "outputs": [
    {
     "name": "stdout",
     "output_type": "stream",
     "text": [
      "True\n",
      "False\n"
     ]
    }
   ],
   "source": [
    "class node:\n",
    "    \n",
    "    def __init__(self, data):\n",
    "        self.data = data\n",
    "        self.next = None\n",
    "\n",
    "class circularlinkedlist:\n",
    "    def __init__(self):\n",
    "        self.head = None\n",
    "\n",
    "    def insert(self, data):\n",
    "        new = node(data)\n",
    "        \n",
    "        if not self.head:\n",
    "            self.head = new\n",
    "            new.next = self.head\n",
    "        else:\n",
    "            temp = self.head\n",
    "            while temp.next != self.head:\n",
    "                temp = temp.next\n",
    "           \n",
    "            temp.next = new\n",
    "            new.next = self.head\n",
    "\n",
    "    def search(self, key):\n",
    "        if not self.head:\n",
    "            return False\n",
    "       \n",
    "        temp = self.head\n",
    "        while True:\n",
    "            if temp.data == key:\n",
    "                return True\n",
    "           \n",
    "            temp = temp.next\n",
    "            if temp == self.head:\n",
    "                break\n",
    "        return False\n",
    "\n",
    "\n",
    "cll = circularlinkedlist()\n",
    "for val in [3,5,6,12,15,8]:\n",
    "    cll.insert(val)\n",
    "\n",
    "print(cll.search(15))  \n",
    "print(cll.search(11)) \n"
   ]
  },
  {
   "cell_type": "markdown",
   "id": "c15d6d97-a4d6-437c-ad49-1b88a2413f93",
   "metadata": {},
   "source": []
  },
  {
   "cell_type": "markdown",
   "id": "82c0bac1-da46-4fb8-a3dc-308020e7d62f",
   "metadata": {},
   "source": [
    "# Pretty print a linked list"
   ]
  },
  {
   "cell_type": "code",
   "execution_count": 4,
   "id": "9ff781b4-1641-4819-88aa-e6677ffa2933",
   "metadata": {},
   "outputs": [
    {
     "name": "stdout",
     "output_type": "stream",
     "text": [
      "[11 , 15 , 22 , 5 , 6]\n"
     ]
    }
   ],
   "source": [
    "class node:\n",
    "\n",
    "    def __init__(self, val = None):\n",
    "        self.val = val\n",
    "        self.next = None\n",
    "\n",
    "class Linkedlist:\n",
    "    \n",
    "    def __init__(self,head = None):\n",
    "        self.head = head\n",
    "\n",
    "    def __str__(self):\n",
    "        vals = []\n",
    "        curr = self.head\n",
    "\n",
    "        while curr:\n",
    "            vals.append(str(curr.val))\n",
    "            curr = curr.next\n",
    "        return \"[\" + \" , \".join(vals) + \"]\"\n",
    "\n",
    "\n",
    "if __name__ == \"__main__\" :\n",
    "    node1 = node(11)\n",
    "    node2 = node(15)\n",
    "    node3 = node(22)\n",
    "    node4 = node(5)\n",
    "    node5 = node(6)\n",
    "    node1.next = node2\n",
    "    node2.next = node3\n",
    "    node3.next = node4\n",
    "    node4.next = node5\n",
    "\n",
    "    ll = Linkedlist(node1)\n",
    "    print(ll)"
   ]
  },
  {
   "cell_type": "markdown",
   "id": "2922d705-ccd6-488b-922e-2dda48b3ccc2",
   "metadata": {},
   "source": []
  },
  {
   "cell_type": "markdown",
   "id": "415dc161-bc41-47ba-a257-f2ce0ad11d8b",
   "metadata": {},
   "source": [
    "# Stack using Doubly linked list"
   ]
  },
  {
   "cell_type": "code",
   "execution_count": 7,
   "id": "d3839982-9afe-4494-af32-7eff7046f98a",
   "metadata": {},
   "outputs": [
    {
     "name": "stdout",
     "output_type": "stream",
     "text": [
      "stack operations using doubly linked list:\n",
      "stack elements:22 -> 5 -> 6 -> 15 -> 11 -> None\n",
      "top element: 22\n",
      "size of stack: 5\n",
      "stack elements:6 -> 15 -> 11 -> None\n",
      "stack is empty: False\n"
     ]
    }
   ],
   "source": [
    "class node:\n",
    "\n",
    "    def __init__(self,data):\n",
    "        self.data = data\n",
    "        self.next = self.prev = None\n",
    "\n",
    "class Stack:\n",
    "\n",
    "    def __init__(self):\n",
    "        self.head = None\n",
    "\n",
    "    def push(self,data):\n",
    "        new_node = node(data)\n",
    "\n",
    "        if self.head:\n",
    "            self.head.prev = new_node\n",
    "            new_node.next = self.head\n",
    "\n",
    "        self.head = new_node\n",
    "\n",
    "    def pop(self):\n",
    "        if not self.head:\n",
    "            return None\n",
    "        temp = self.head.data\n",
    "        self.head = self.head.next\n",
    "        \n",
    "        if self.head:\n",
    "            self.head.prev = None\n",
    "        return None\n",
    "\n",
    "    def top(self):\n",
    "        return self.head.data if self.head else None\n",
    "\n",
    "    def size(self):\n",
    "        count , temp = 0, self.head\n",
    "\n",
    "        while temp:\n",
    "            count += 1\n",
    "            temp = temp.next\n",
    "        return count\n",
    "\n",
    "    def isEmpty(self):\n",
    "        return self.head is None\n",
    "\n",
    "    def printstack(self):\n",
    "        print(\"stack elements:\", end = \"\" \"\")\n",
    "        temp = self.head\n",
    "        while temp:\n",
    "            print(temp.data, end = \" -> \")\n",
    "            temp = temp.next\n",
    "        print(None)\n",
    "\n",
    "if __name__ == \"__main__\":\n",
    "    stack = Stack()\n",
    "    print(\"stack operations using doubly linked list:\")\n",
    "\n",
    "    for val in [11,15,6,5,22]:\n",
    "        stack.push(val)\n",
    "\n",
    "    stack.printstack()\n",
    "    print(\"top element:\", stack.top())\n",
    "    print(\"size of stack:\", stack.size())\n",
    "\n",
    "    stack.pop()\n",
    "    stack.pop()\n",
    "    stack.printstack()\n",
    "    print(\"stack is empty:\", stack.isEmpty())\n",
    "            \n",
    "            "
   ]
  },
  {
   "cell_type": "markdown",
   "id": "2f7dac9b-1a47-42f7-a647-5180c6987d3b",
   "metadata": {},
   "source": []
  },
  {
   "cell_type": "markdown",
   "id": "865fa400-38db-498a-8fd5-3694b71c2336",
   "metadata": {},
   "source": [
    "# Queue using doubly linked list"
   ]
  },
  {
   "cell_type": "code",
   "execution_count": 12,
   "id": "a7f4baa5-90da-4c86-957a-250fc0a40431",
   "metadata": {},
   "outputs": [
    {
     "name": "stdout",
     "output_type": "stream",
     "text": [
      "queue operatons using linkd list:\n",
      "queue elements 11 -> 22 -> 5 -> 6 -> 15 -> 12 -> None\n",
      "first element: 11\n",
      "size: 6\n",
      "after applying dequeue():\n",
      "queue elements 22 -> 5 -> 6 -> 15 -> 12 -> None\n",
      "queue is empty: False\n"
     ]
    }
   ],
   "source": [
    "class node:\n",
    "\n",
    "    def __init__(self,data):\n",
    "        self.data = data\n",
    "        self.next = self.prev = None\n",
    "\n",
    "class queue:\n",
    "\n",
    "    def __init__(self):\n",
    "        self.head = self.tail = None\n",
    "\n",
    "    def enqueue(self,data):\n",
    "        new_node = node(data)\n",
    "        if not self.tail:\n",
    "            self.head = self.tail = new_node\n",
    "        else:\n",
    "            self.tail.next = new_node\n",
    "            new_node.prev = self.tail\n",
    "            self.tail = new_node\n",
    "\n",
    "    def dequeue(self):\n",
    "        if not self.head:\n",
    "            return None\n",
    "        data = self.head.data\n",
    "        self.head = self.head.next\n",
    "\n",
    "        if self.head:\n",
    "            self.head.prev = None\n",
    "        else:\n",
    "            self.tail = None\n",
    "        return data\n",
    "\n",
    "\n",
    "    def first(self):\n",
    "        return self.head.data if self.head else None\n",
    "\n",
    "    def size(self):\n",
    "        count, temp = 0, self.head\n",
    "        while temp:\n",
    "            count += 1\n",
    "            temp = temp.next\n",
    "        return count\n",
    "\n",
    "    def isEmpty(self):\n",
    "        return self.head is None\n",
    "\n",
    "    def printqueue(self):\n",
    "        print(\"queue elements\", end = \" \")\n",
    "        temp = self.head\n",
    "\n",
    "        while temp:\n",
    "            print(temp.data, end = \" -> \")\n",
    "            temp = temp.next\n",
    "        print(\"None\")\n",
    "\n",
    "if __name__ == \"__main__\":\n",
    "    queue = queue()\n",
    "    print(\"queue operatons using linkd list:\")\n",
    "\n",
    "    for val in [11,22,5,6,15,12]:\n",
    "        queue.enqueue(val)\n",
    "\n",
    "    queue.printqueue()\n",
    "    print(\"first element:\", queue.first())\n",
    "    print(\"size:\", queue.size())\n",
    "\n",
    "    queue.dequeue()\n",
    "    print(\"after applying dequeue():\")\n",
    "    queue.printqueue()\n",
    "    print(\"queue is empty:\", queue.isEmpty())"
   ]
  },
  {
   "cell_type": "markdown",
   "id": "86d3114e-0e70-46fa-992d-ae15a1b4bd30",
   "metadata": {},
   "source": []
  },
  {
   "cell_type": "markdown",
   "id": "27614f5f-a027-41c2-a47e-7759341db9b7",
   "metadata": {},
   "source": [
    "# Find middle element of a linked list"
   ]
  },
  {
   "cell_type": "code",
   "execution_count": 15,
   "id": "969c782d-da0e-4fd1-9bb2-4827792f6384",
   "metadata": {},
   "outputs": [
    {
     "name": "stdout",
     "output_type": "stream",
     "text": [
      "11 -> 22 -> 15 -> 12 -> 6 -> None\n",
      "Middle element: 15\n"
     ]
    }
   ],
   "source": [
    "class Node:\n",
    "    \n",
    "    def __init__(self, data, next=None):\n",
    "        self.data = data\n",
    "        self.next = next\n",
    "\n",
    "def find_middle(head):\n",
    "    slow = fast = head\n",
    "    \n",
    "    while fast and fast.next:\n",
    "        slow, fast = slow.next, fast.next.next\n",
    "    return slow.data if slow else None\n",
    "\n",
    "\n",
    "head = Node(11)\n",
    "head.next = Node(22)\n",
    "head.next.next = Node(15)\n",
    "head.next.next.next = Node(12)\n",
    "head.next.next.next.next = Node(6)\n",
    "\n",
    "\n",
    "curr = head\n",
    "while curr:\n",
    "    print(curr.data, end=\" -> \")\n",
    "    curr = curr.next\n",
    "print(\"None\")\n",
    "\n",
    "\n",
    "print(\"Middle element:\", find_middle(head))\n"
   ]
  },
  {
   "cell_type": "markdown",
   "id": "cfb2418c-e42a-4eba-a664-9c96e1054eb1",
   "metadata": {},
   "source": []
  },
  {
   "cell_type": "code",
   "execution_count": null,
   "id": "4ad8fbf8-538c-4a31-8cf0-89f439e676b9",
   "metadata": {},
   "outputs": [],
   "source": []
  }
 ],
 "metadata": {
  "kernelspec": {
   "display_name": "Python 3 (ipykernel)",
   "language": "python",
   "name": "python3"
  },
  "language_info": {
   "codemirror_mode": {
    "name": "ipython",
    "version": 3
   },
   "file_extension": ".py",
   "mimetype": "text/x-python",
   "name": "python",
   "nbconvert_exporter": "python",
   "pygments_lexer": "ipython3",
   "version": "3.13.5"
  }
 },
 "nbformat": 4,
 "nbformat_minor": 5
}
