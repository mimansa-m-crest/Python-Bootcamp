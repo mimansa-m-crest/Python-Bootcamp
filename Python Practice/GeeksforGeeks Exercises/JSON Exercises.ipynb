{
 "cells": [
  {
   "cell_type": "markdown",
   "id": "5a9a8d72-c556-42de-b1cd-d8ecdfe96fe4",
   "metadata": {},
   "source": [
    "# Convert class object to JSON"
   ]
  },
  {
   "cell_type": "code",
   "execution_count": 1,
   "id": "ad4d3a5a-d516-4e3c-a15c-f9d8dedd23d9",
   "metadata": {},
   "outputs": [
    {
     "name": "stdout",
     "output_type": "stream",
     "text": [
      "{\"name\": \"Alice\", \"age\": 30}\n"
     ]
    }
   ],
   "source": [
    "import json\n",
    "\n",
    "class Person:\n",
    "    def __init__(self, name, age):\n",
    "        self.name = name\n",
    "        self.age = age\n",
    "\n",
    "p1 = Person(\"Alice\", 30)\n",
    "\n",
    "\n",
    "res = json.dumps(p1.__dict__)\n",
    "print(res)"
   ]
  },
  {
   "cell_type": "markdown",
   "id": "6d0a00f4-6766-4d60-b745-074f30a9a2cf",
   "metadata": {},
   "source": []
  },
  {
   "cell_type": "markdown",
   "id": "de30a4dd-2709-411e-a7ba-a09e245fd507",
   "metadata": {},
   "source": [
    "# Convert JSON data into a custom python object"
   ]
  },
  {
   "cell_type": "code",
   "execution_count": 3,
   "id": "5faccf00-5a28-4535-8f3d-2d8f45609183",
   "metadata": {},
   "outputs": [
    {
     "name": "stdout",
     "output_type": "stream",
     "text": [
      "Mim 1 Surat\n"
     ]
    }
   ],
   "source": [
    "import json\n",
    "from collections import namedtuple\n",
    "\n",
    "\n",
    "data = '{\"name\": \"Mim\", \"id\": 1, \"location\": \"Surat\"}'\n",
    "\n",
    "# convert JSON into a namedtuple object\n",
    "x = json.loads(data, object_hook=lambda d: namedtuple('X', d.keys())(*d.values()))\n",
    "\n",
    "\n",
    "print(x.name, x.id, x.location)"
   ]
  },
  {
   "cell_type": "markdown",
   "id": "0f370708-0329-48ab-b071-af163bad5442",
   "metadata": {},
   "source": []
  },
  {
   "cell_type": "markdown",
   "id": "79e4c862-bb02-48be-a56f-2a19b4b94aaf",
   "metadata": {},
   "source": [
    "# Flattening JSON objects"
   ]
  },
  {
   "cell_type": "code",
   "execution_count": 7,
   "id": "d51f6d7d-3511-4ee5-92be-2451e9631eb7",
   "metadata": {},
   "outputs": [
    {
     "name": "stdout",
     "output_type": "stream",
     "text": [
      "Requirement already satisfied: flatten-json in c:\\users\\mimanshamehta\\anaconda3\\lib\\site-packages (0.1.14)\n",
      "Requirement already satisfied: six in c:\\users\\mimanshamehta\\anaconda3\\lib\\site-packages (from flatten-json) (1.17.0)\n",
      "Note: you may need to restart the kernel to use updated packages.\n"
     ]
    }
   ],
   "source": [
    "pip install flatten-json\n"
   ]
  },
  {
   "cell_type": "code",
   "execution_count": 8,
   "id": "5b2c4b54-fcf5-4fb1-8da0-dbeb44473e2b",
   "metadata": {},
   "outputs": [
    {
     "name": "stdout",
     "output_type": "stream",
     "text": [
      "{\n",
      "  \"user_name\": \"Mim\",\n",
      "  \"user_location_city\": \"New York\",\n",
      "  \"user_location_zip\": \"10001\",\n",
      "  \"is_active\": true,\n",
      "  \"roles_0\": \"admin\",\n",
      "  \"roles_1\": \"PM\"\n",
      "}\n"
     ]
    }
   ],
   "source": [
    "from flatten_json import flatten\n",
    "import json\n",
    "\n",
    "\n",
    "nested_json = {\n",
    "    \"user\": {\n",
    "        \"name\": \"Mim\",\n",
    "        \"location\": {\n",
    "            \"city\": \"New York\",\n",
    "            \"zip\": \"10001\"\n",
    "        }\n",
    "    },\n",
    "    \"is_active\": True,\n",
    "    \"roles\": [\"admin\", \"PM\"]\n",
    "}\n",
    "\n",
    "\n",
    "flat_json = flatten(nested_json)\n",
    "\n",
    "\n",
    "print(json.dumps(flat_json, indent=2))\n"
   ]
  },
  {
   "cell_type": "markdown",
   "id": "33e0aa57-3204-4f79-9f62-cc78108df6e0",
   "metadata": {},
   "source": []
  },
  {
   "cell_type": "markdown",
   "id": "5588fb17-071e-457a-9a50-c84954bc932c",
   "metadata": {},
   "source": [
    "# Convert CSV to JSON "
   ]
  },
  {
   "cell_type": "code",
   "execution_count": 9,
   "id": "c5510c95-e1d0-4a97-8d53-14511867fc25",
   "metadata": {},
   "outputs": [],
   "source": [
    "import csv\n",
    "import json\n",
    "\n",
    "with open('example.csv', mode='r', newline='', encoding='utf-8') as csvfile:\n",
    "    data = list(csv.DictReader(csvfile))\n",
    "\n",
    "with open('output.json', mode='w', encoding='utf-8') as jsonfile:\n",
    "    json.dump(data, jsonfile, indent=4)"
   ]
  },
  {
   "cell_type": "markdown",
   "id": "5e2192b7-70d7-4965-a4b2-36e2264197fc",
   "metadata": {},
   "source": []
  },
  {
   "cell_type": "code",
   "execution_count": null,
   "id": "47bd6809-e419-44f8-aaf8-55941ad40baf",
   "metadata": {},
   "outputs": [],
   "source": []
  }
 ],
 "metadata": {
  "kernelspec": {
   "display_name": "Python 3 (ipykernel)",
   "language": "python",
   "name": "python3"
  },
  "language_info": {
   "codemirror_mode": {
    "name": "ipython",
    "version": 3
   },
   "file_extension": ".py",
   "mimetype": "text/x-python",
   "name": "python",
   "nbconvert_exporter": "python",
   "pygments_lexer": "ipython3",
   "version": "3.13.5"
  }
 },
 "nbformat": 4,
 "nbformat_minor": 5
}
