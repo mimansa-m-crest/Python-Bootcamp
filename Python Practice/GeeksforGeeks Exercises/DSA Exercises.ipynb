{
 "cells": [
  {
   "cell_type": "markdown",
   "id": "61bb0b43-b03b-4cd9-8f0a-613852dc165e",
   "metadata": {},
   "source": [
    "# Reverse a stack"
   ]
  },
  {
   "cell_type": "code",
   "execution_count": 2,
   "id": "7ca54a58-7c6b-4f68-b0a9-67978f6d36e6",
   "metadata": {},
   "outputs": [
    {
     "name": "stdout",
     "output_type": "stream",
     "text": [
      "Original stack: [1, 2, 3, 4, 5]\n",
      "Reversed stack: [5, 4, 3, 2, 1]\n"
     ]
    }
   ],
   "source": [
    "def insert_at_bottom(stack,item):\n",
    "    if not stack:\n",
    "        stack.append(item)\n",
    "    else:\n",
    "        top = stack.pop()\n",
    "        insert_at_bottom(stack,item)\n",
    "        stack.append(top)\n",
    "\n",
    "def reverse_stack(stack):\n",
    "    if stack:\n",
    "        top = stack.pop()\n",
    "        reverse_stack(stack)\n",
    "        insert_at_bottom(stack,top)\n",
    "\n",
    "\n",
    "stack = [1, 2, 3, 4, 5]\n",
    "print(\"Original stack:\", stack)\n",
    "\n",
    "reverse_stack(stack)\n",
    "print(\"Reversed stack:\", stack)"
   ]
  },
  {
   "cell_type": "markdown",
   "id": "a3827311-f8d9-484d-8464-fa3547507388",
   "metadata": {},
   "source": []
  },
  {
   "cell_type": "markdown",
   "id": "d27b936a-96be-4c62-b70f-1a9f2dbf2d20",
   "metadata": {},
   "source": [
    "# Multithreaded priority queue "
   ]
  },
  {
   "cell_type": "code",
   "execution_count": 1,
   "id": "5df38e04-7a04-47ad-9a3c-79b7f08c6ad4",
   "metadata": {},
   "outputs": [
    {
     "name": "stdout",
     "output_type": "stream",
     "text": [
      "Thread-1 processing AThread-2 processing B\n",
      "Thread-3 processing C\n",
      "\n",
      "Thread-2 processing D\n",
      "Thread-1 processing E\n",
      "All tasks completed.\n"
     ]
    }
   ],
   "source": [
    "import threading\n",
    "import queue\n",
    "import time\n",
    "\n",
    "work_queue = queue.Queue()\n",
    "exit_flag = False\n",
    "\n",
    "def worker():\n",
    "    while not exit_flag:\n",
    "        try:\n",
    "            task = work_queue.get(timeout = 1)\n",
    "            print(f\"{threading.current_thread().name} processing {task}\")\n",
    "            time.sleep(0.5)\n",
    "            work_queue.task_done()\n",
    "        except queue.Empty:\n",
    "            continue\n",
    "\n",
    "threads = []\n",
    "for i in range(3):\n",
    "    t = threading.Thread(target = worker, name = f\"Thread-{i+1}\")\n",
    "    t.start()\n",
    "    threads.append(t)\n",
    "\n",
    "for item in [\"A\", \"B\", \"C\", \"D\", \"E\"]:\n",
    "    work_queue.put(item)\n",
    "\n",
    "work_queue.join()\n",
    "exit_flag = True\n",
    "\n",
    "for t in threads:\n",
    "    t.join()\n",
    "\n",
    "print(\"All tasks completed.\")"
   ]
  },
  {
   "cell_type": "markdown",
   "id": "82aa7bf9-42bc-4762-868d-07b0b7adebb3",
   "metadata": {},
   "source": []
  },
  {
   "cell_type": "markdown",
   "id": "bba328e5-879e-4d7e-ba5f-6010d1283628",
   "metadata": {},
   "source": [
    "# Check whether the given string is Palindrome using stack"
   ]
  },
  {
   "cell_type": "code",
   "execution_count": 4,
   "id": "283d2248-246e-4651-8677-f6332295954a",
   "metadata": {},
   "outputs": [
    {
     "name": "stdin",
     "output_type": "stream",
     "text": [
      "Enter a string: radar\n"
     ]
    },
    {
     "name": "stdout",
     "output_type": "stream",
     "text": [
      "The string is palindrome\n"
     ]
    }
   ],
   "source": [
    "def is_palindrome(s):\n",
    "    stack = []\n",
    "\n",
    "    for char in s:\n",
    "        stack.append(char)\n",
    "\n",
    "    for char in s:\n",
    "        if char != stack.pop():\n",
    "            return False\n",
    "    return True\n",
    "\n",
    "\n",
    "string = input(\"Enter a string:\").lower().replace(\" \",\" \")\n",
    "if is_palindrome(string):\n",
    "    print(\"The string is palindrome\")\n",
    "else:\n",
    "    print(\"The string is not a palindrome\")\n",
    "\n"
   ]
  },
  {
   "cell_type": "markdown",
   "id": "692dcd10-d9a5-4798-bf2a-a72b30e65851",
   "metadata": {},
   "source": []
  },
  {
   "cell_type": "markdown",
   "id": "4c614908-fb06-4eaf-b18b-9df819f8771b",
   "metadata": {},
   "source": [
    "# Calculate the edge cover of a Graph"
   ]
  },
  {
   "cell_type": "code",
   "execution_count": 7,
   "id": "9a08928c-e9cd-4c91-9f5c-8ae2d9f1b9a3",
   "metadata": {},
   "outputs": [
    {
     "name": "stdout",
     "output_type": "stream",
     "text": [
      "\n",
      " Minimum edges needed: 3\n",
      " Edge Cover: [('A', 'B'), ('A', 'C'), ('C', 'D'), ('D', 'E')]\n"
     ]
    }
   ],
   "source": [
    "import math\n",
    "\n",
    "def edge_cover(graph):\n",
    "    covered, cover = set(),[]\n",
    "    used = set()\n",
    "\n",
    "    for u in graph:\n",
    "        for v in graph[u]:\n",
    "            edge = tuple(sorted((u,v)))\n",
    "            if edge in used:\n",
    "                continue\n",
    "            if u not in covered or v not in covered:\n",
    "                cover.append(edge)\n",
    "                covered |= {u,v}\n",
    "                used.add(edge)\n",
    "    return cover\n",
    "\n",
    "\n",
    "\n",
    "graph = {\n",
    "    'A': ['B', 'C'],\n",
    "    'B': ['A', 'C'],\n",
    "    'C': ['A', 'B', 'D'],\n",
    "    'D': ['C', 'E'],\n",
    "    'E': ['D']\n",
    "}\n",
    "\n",
    "cover_edges = edge_cover(graph)\n",
    "\n",
    "print(f\"\\n Minimum edges needed: {math.ceil(len(graph)/2)}\")\n",
    "print(\" Edge Cover:\", cover_edges)"
   ]
  },
  {
   "cell_type": "markdown",
   "id": "54dca918-7088-4889-92fb-e43af5352ec4",
   "metadata": {},
   "source": []
  },
  {
   "cell_type": "markdown",
   "id": "d601fc94-6ce5-4858-bbb2-d7085cc1699f",
   "metadata": {},
   "source": [
    "#  N Queen problem "
   ]
  },
  {
   "cell_type": "code",
   "execution_count": 14,
   "id": "99d3a682-3c9a-42a6-a4b9-6290b91a3ef2",
   "metadata": {},
   "outputs": [
    {
     "name": "stdout",
     "output_type": "stream",
     "text": [
      " Total solutions for 4-Queens: 2\n",
      "\n",
      "Solution 1:\n",
      ". Q . .\n",
      ". . . Q\n",
      "Q . . .\n",
      ". . Q .\n",
      "Solution 2:\n",
      ". . Q .\n",
      "Q . . .\n",
      ". . . Q\n",
      ". Q . .\n"
     ]
    }
   ],
   "source": [
    "def printboard(board):\n",
    "    for row in board:\n",
    "        print(\" \".join(\"Q\"if col else \".\" for col in row))\n",
    "\n",
    "def issafe(board,row,col,n):\n",
    "    for i in range(row):\n",
    "        if board[i][col]:\n",
    "            return False\n",
    "\n",
    "    for i,j in zip(range(row - 1, -1, -1), range(col - 1, -1, -1)):\n",
    "        if board[i][j]:\n",
    "            return False\n",
    "\n",
    "    for i,j in zip(range(row - 1, -1, -1), range(col + 1, n)):\n",
    "        if board[i][j]:\n",
    "           return False\n",
    "\n",
    "    return True\n",
    "\n",
    "def solve_n_queens(board,row,n,solutions):\n",
    "    if row == n:\n",
    "       solutions.append([row[:] for row in board])\n",
    "       return\n",
    "\n",
    "    for col in range(n):\n",
    "        if issafe(board, row, col, n):\n",
    "            board[row][col] = 1  \n",
    "            solve_n_queens(board, row + 1, n, solutions)\n",
    "            board[row][col] = 0 \n",
    "\n",
    "\n",
    "def n_queens(n):\n",
    "    board = [[0] * n for _ in range(n)]\n",
    "    solutions = []\n",
    "    solve_n_queens(board, 0, n, solutions)\n",
    "    return solutions\n",
    "\n",
    "N = 4\n",
    "results = n_queens(N)\n",
    "print(f\" Total solutions for {N}-Queens: {len(results)}\\n\")\n",
    "\n",
    "for i, sol in enumerate(results, 1):\n",
    "    print(f\"Solution {i}:\")\n",
    "    printboard(sol)\n",
    "\n"
   ]
  },
  {
   "cell_type": "markdown",
   "id": "78707c15-bf1a-45b5-893a-570283cb2c09",
   "metadata": {},
   "source": []
  },
  {
   "cell_type": "code",
   "execution_count": null,
   "id": "62b0d0a9-4375-42a9-96d3-c30fe1da36b1",
   "metadata": {},
   "outputs": [],
   "source": []
  }
 ],
 "metadata": {
  "kernelspec": {
   "display_name": "Python 3 (ipykernel)",
   "language": "python",
   "name": "python3"
  },
  "language_info": {
   "codemirror_mode": {
    "name": "ipython",
    "version": 3
   },
   "file_extension": ".py",
   "mimetype": "text/x-python",
   "name": "python",
   "nbconvert_exporter": "python",
   "pygments_lexer": "ipython3",
   "version": "3.13.5"
  }
 },
 "nbformat": 4,
 "nbformat_minor": 5
}
