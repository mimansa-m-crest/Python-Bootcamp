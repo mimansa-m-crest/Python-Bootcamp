{
 "cells": [
  {
   "cell_type": "markdown",
   "id": "14eed90a-cd7a-47d8-b39f-226491195705",
   "metadata": {},
   "source": [
    "# Read content from one file and write it into another file\n"
   ]
  },
  {
   "cell_type": "code",
   "execution_count": 2,
   "id": "e2c70fee-b431-4225-9efd-622a17ed6c16",
   "metadata": {},
   "outputs": [
    {
     "name": "stdout",
     "output_type": "stream",
     "text": [
      " Content copied successfully.\n"
     ]
    }
   ],
   "source": [
    "with open(\"source.txt\", \"r\") as source_file, open(\"destination.txt\", \"w\") as dest_file:\n",
    "    for line in source_file:\n",
    "        dest_file.write(line)\n",
    "\n",
    "print(\" Content copied successfully.\")\n"
   ]
  },
  {
   "cell_type": "markdown",
   "id": "35b97ad4-a4eb-4b10-8d9b-55faf9a72464",
   "metadata": {},
   "source": []
  },
  {
   "cell_type": "markdown",
   "id": "eed760d3-080d-4aa3-a1d3-92c29e26fa4c",
   "metadata": {},
   "source": [
    "# Write a dictionary to a file"
   ]
  },
  {
   "cell_type": "code",
   "execution_count": 3,
   "id": "ff2c27c5-ad61-4370-aba9-860a816a49ff",
   "metadata": {},
   "outputs": [],
   "source": [
    "import json\n",
    "\n",
    "d = {'Name': \"Mim\",'Age': 21 }\n",
    "\n",
    "\n",
    "with open('data.json', 'w') as f:\n",
    "    json.dump(d, f)"
   ]
  },
  {
   "cell_type": "code",
   "execution_count": null,
   "id": "1c4589b9-89fa-4b17-98b3-67734649c8e7",
   "metadata": {},
   "outputs": [],
   "source": []
  },
  {
   "cell_type": "markdown",
   "id": "dc253dca-a6f1-4a33-b6fb-9477ec0723c9",
   "metadata": {},
   "source": [
    "# Check file size"
   ]
  },
  {
   "cell_type": "code",
   "execution_count": 4,
   "id": "0e2c6a41-e7e9-49fd-8ccd-8ff0b9beb5d2",
   "metadata": {},
   "outputs": [
    {
     "name": "stdout",
     "output_type": "stream",
     "text": [
      "44\n"
     ]
    }
   ],
   "source": [
    "import os\n",
    "\n",
    "sz = os.path.getsize(\"destination.txt\")\n",
    "\n",
    "print(sz)"
   ]
  },
  {
   "cell_type": "code",
   "execution_count": null,
   "id": "a7fcf7da-0575-4288-b60c-8e8632170f7c",
   "metadata": {},
   "outputs": [],
   "source": []
  },
  {
   "cell_type": "markdown",
   "id": "2d0e1919-2760-460d-b851-2d110126e8e0",
   "metadata": {},
   "source": [
    "# Find the most repeated word in a text file"
   ]
  },
  {
   "cell_type": "code",
   "execution_count": 7,
   "id": "758a8428-a5a3-408a-9a1c-fa66205cd862",
   "metadata": {},
   "outputs": [
    {
     "name": "stdout",
     "output_type": "stream",
     "text": [
      "Most repeated word: 'hi' (appeared 2 times)\n"
     ]
    }
   ],
   "source": [
    "from collections import Counter\n",
    "import re\n",
    "\n",
    "def most_repeated_word(filename):\n",
    "    with open(filename, 'r') as file:\n",
    "        text = file.read().lower()  \n",
    "\n",
    "    \n",
    "    words = re.findall(r'\\b\\w+\\b', text)\n",
    "\n",
    "    \n",
    "    word_counts = Counter(words)\n",
    "\n",
    "    \n",
    "    most_common = word_counts.most_common(1)[0]\n",
    "    return most_common\n",
    "\n",
    "\n",
    "filename = \"myfile.txt\"\n",
    "word, count = most_repeated_word(filename)\n",
    "print(f\"Most repeated word: '{word}' (appeared {count} times)\")\n"
   ]
  },
  {
   "cell_type": "markdown",
   "id": "4a6e1412-4661-4c77-991a-c12da4977583",
   "metadata": {},
   "source": []
  },
  {
   "cell_type": "markdown",
   "id": "3245502e-e6b1-4c09-8eb3-893d02161ba3",
   "metadata": {},
   "source": [
    "# Read specific lines from a file"
   ]
  },
  {
   "cell_type": "code",
   "execution_count": 10,
   "id": "07cc1962-f33c-4971-bf22-4ae2d282b040",
   "metadata": {},
   "outputs": [
    {
     "name": "stdout",
     "output_type": "stream",
     "text": [
      "second line\n",
      "i am fine\n",
      "first three lines\n",
      "['hi, this is the first module of python. Next module is OOP. have a good day.\\n', 'bye\\n', 'hi, hello how are you\\n']\n"
     ]
    }
   ],
   "source": [
    "file = open('myfile.txt')\n",
    "\n",
    "content = file.readlines()\n",
    "\n",
    "# read 10th line from the file\n",
    "print(\"second line\")\n",
    "print(content[3])\n",
    "\n",
    "# print first 3 lines of file\n",
    "print(\"first three lines\")\n",
    "print(content[0:3])"
   ]
  },
  {
   "cell_type": "markdown",
   "id": "32009eba-7eb7-46f2-ab6d-557f170c3c1b",
   "metadata": {},
   "source": []
  }
 ],
 "metadata": {
  "kernelspec": {
   "display_name": "Python 3 (ipykernel)",
   "language": "python",
   "name": "python3"
  },
  "language_info": {
   "codemirror_mode": {
    "name": "ipython",
    "version": 3
   },
   "file_extension": ".py",
   "mimetype": "text/x-python",
   "name": "python",
   "nbconvert_exporter": "python",
   "pygments_lexer": "ipython3",
   "version": "3.13.5"
  }
 },
 "nbformat": 4,
 "nbformat_minor": 5
}
