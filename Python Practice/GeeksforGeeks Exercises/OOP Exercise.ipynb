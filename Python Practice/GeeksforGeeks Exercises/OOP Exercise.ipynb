{
 "cells": [
  {
   "cell_type": "markdown",
   "id": "4a362636-9f67-4f89-a406-17bc7899a17f",
   "metadata": {},
   "source": [
    "# Build Flashcards"
   ]
  },
  {
   "cell_type": "code",
   "execution_count": 8,
   "id": "64193fad-d5ca-4c90-a297-f5e7a463c749",
   "metadata": {},
   "outputs": [
    {
     "name": "stdout",
     "output_type": "stream",
     "text": [
      "Welcome to Flashcard Game\n"
     ]
    },
    {
     "name": "stdin",
     "output_type": "stream",
     "text": [
      "Enter a word that you want to add to the flashcard: Mimansa\n",
      "Enter the meaning of the word: Critical thinking\n",
      "Enter 0 if you want to add another flashcard 0\n",
      "Enter a word that you want to add to the flashcard: Sakhi\n",
      "Enter the meaning of the word: Friend\n",
      "Enter 0 if you want to add another flashcard 0\n",
      "Enter a word that you want to add to the flashcard: Adhar\n",
      "Enter the meaning of the word: Radha\n",
      "Enter 0 if you want to add another flashcard 1\n"
     ]
    },
    {
     "name": "stdout",
     "output_type": "stream",
     "text": [
      "\n",
      " Your Flashcards\n",
      "> Mimansa (Critical thinking)\n",
      "> Sakhi (Friend)\n",
      "> Adhar (Radha)\n"
     ]
    }
   ],
   "source": [
    "class flashcard:\n",
    "    def __init__(self, word, meaning):\n",
    "        self.word = word\n",
    "        self.meaning = meaning\n",
    "\n",
    "    def __str__(self):\n",
    "        return self.word + ' ('+ self.meaning +')'\n",
    "\n",
    "flash = []\n",
    "\n",
    "print('Welcome to Flashcard Game')\n",
    "\n",
    "while(True):\n",
    "\n",
    "    word = input('Enter a word that you want to add to the flashcard:')\n",
    "    meaning = input('Enter the meaning of the word:')\n",
    "\n",
    "    flash.append(flashcard(word,meaning))\n",
    "    option = int(input('Enter 0 if you want to add another flashcard'))\n",
    "\n",
    "    if (option):\n",
    "        break\n",
    "\n",
    "print(\"\\n Your Flashcards\")\n",
    "\n",
    "for i in flash:\n",
    "    print(\">\", i)\n",
    "\n",
    "    \n"
   ]
  },
  {
   "cell_type": "markdown",
   "id": "5ccc6b24-3761-452e-abea-fa6cdb4f4e2c",
   "metadata": {},
   "source": []
  },
  {
   "cell_type": "code",
   "execution_count": 13,
   "id": "1a5e07b0-1022-40c7-8709-ecd305c9b015",
   "metadata": {},
   "outputs": [
    {
     "name": "stdout",
     "output_type": "stream",
     "text": [
      "Welcome to Fruit Quiz\n",
      "What is the color of Dragon Fruit\n"
     ]
    },
    {
     "name": "stdin",
     "output_type": "stream",
     "text": [
      " Pink\n"
     ]
    },
    {
     "name": "stdout",
     "output_type": "stream",
     "text": [
      "Corect Answer\n"
     ]
    },
    {
     "name": "stdin",
     "output_type": "stream",
     "text": [
      "Enter 0 if you want to play again: 0\n"
     ]
    },
    {
     "name": "stdout",
     "output_type": "stream",
     "text": [
      "What is the color of Dragon Fruit\n"
     ]
    },
    {
     "name": "stdin",
     "output_type": "stream",
     "text": [
      " Pink\n"
     ]
    },
    {
     "name": "stdout",
     "output_type": "stream",
     "text": [
      "Corect Answer\n"
     ]
    },
    {
     "name": "stdin",
     "output_type": "stream",
     "text": [
      "Enter 0 if you want to play again: 0\n"
     ]
    },
    {
     "name": "stdout",
     "output_type": "stream",
     "text": [
      "What is the color of Grapes\n"
     ]
    },
    {
     "name": "stdin",
     "output_type": "stream",
     "text": [
      " Green\n"
     ]
    },
    {
     "name": "stdout",
     "output_type": "stream",
     "text": [
      "Corect Answer\n"
     ]
    },
    {
     "name": "stdin",
     "output_type": "stream",
     "text": [
      "Enter 0 if you want to play again: 1\n"
     ]
    }
   ],
   "source": [
    "import random\n",
    "\n",
    "class flashcard:\n",
    "\n",
    "    def __init__(self):\n",
    "\n",
    "        self.fruits = { 'Apple' : 'Red',\n",
    "                        'Mango' : 'Yellow',\n",
    "                        'Grapes' : 'Green',\n",
    "                        'Orange' : 'Orange',\n",
    "                        'Dragon Fruit' : 'Pink',\n",
    "                        'Blueberry': 'Blue'}\n",
    "\n",
    "    def quiz(self):\n",
    "        while(True):\n",
    "\n",
    "            fruit,color = random.choice(list(self.fruits.items()))\n",
    "\n",
    "            print(\"What is the color of {}\".format(fruit))\n",
    "            user_answer = input()\n",
    "\n",
    "            if (user_answer == color):\n",
    "                print(\"Corect Answer\")\n",
    "            else:\n",
    "                print(\"Wrong Answer\")\n",
    "\n",
    "            option = int(input(\"Enter 0 if you want to play again:\"))\n",
    "            if (option):\n",
    "                break\n",
    "\n",
    "print(\"Welcome to Fruit Quiz\")\n",
    "fc = flashcard()\n",
    "fc.quiz()"
   ]
  },
  {
   "cell_type": "markdown",
   "id": "6fc363e3-d3ed-4428-8bcf-d6aa33becbff",
   "metadata": {},
   "source": []
  },
  {
   "cell_type": "markdown",
   "id": "16fb986b-79ed-41c7-863b-48579a72cb59",
   "metadata": {},
   "source": [
    "# Shuffle a Deck of Cards"
   ]
  },
  {
   "cell_type": "code",
   "execution_count": 14,
   "id": "1f2c91f2-b667-4b36-86a7-dfcbf044807f",
   "metadata": {},
   "outputs": [
    {
     "name": "stdout",
     "output_type": "stream",
     "text": [
      "\n",
      "Player 1 Cards:\n",
      " A of Hearts, 2 of Hearts, 3 of Hearts, 4 of Hearts, 5 of Hearts, 6 of Hearts, 7 of Hearts, 8 of Hearts, 9 of Hearts, 10 of Hearts, J of Hearts, Q of Hearts, K of Hearts, A of Diamonds, 2 of Diamonds, 3 of Diamonds, 4 of Diamonds, 5 of Diamonds, 6 of Diamonds, 7 of Diamonds, 8 of Diamonds, 9 of Diamonds, 10 of Diamonds, J of Diamonds, Q of Diamonds, K of Diamonds, A of Clubs, 2 of Clubs, 3 of Clubs, 4 of Clubs, 5 of Clubs, 6 of Clubs, 7 of Clubs, 8 of Clubs, 9 of Clubs, 10 of Clubs, J of Clubs, Q of Clubs, K of Clubs, A of Spades, 2 of Spades, 3 of Spades, 4 of Spades, 5 of Spades, 6 of Spades, 7 of Spades, 8 of Spades, 9 of Spades, 10 of Spades, J of Spades, Q of Spades, K of Spades\n",
      "\n",
      "Player 2 Cards (Shuffled):\n",
      " A of Hearts, 7 of Clubs, 9 of Clubs, Q of Clubs, 10 of Diamonds, 5 of Diamonds, 4 of Spades, 8 of Diamonds, 5 of Clubs, J of Diamonds, J of Clubs, K of Diamonds, 10 of Spades, K of Spades, 3 of Clubs, 3 of Diamonds, 2 of Hearts, J of Spades, 10 of Hearts, 2 of Diamonds, 6 of Hearts, 8 of Spades, 6 of Diamonds, K of Clubs, 6 of Spades, J of Hearts, 4 of Clubs, 7 of Diamonds, 4 of Hearts, 2 of Clubs, 6 of Clubs, 3 of Spades, 2 of Spades, 7 of Spades, A of Diamonds, A of Clubs, 8 of Clubs, 5 of Hearts, A of Spades, 4 of Diamonds, 9 of Diamonds, 7 of Hearts, 9 of Spades, 8 of Hearts, K of Hearts, Q of Spades, Q of Hearts, 9 of Hearts, 3 of Hearts, 10 of Clubs, 5 of Spades, Q of Diamonds\n",
      "\n",
      " Removing a card from the deck: Q of Diamonds\n",
      "Removing another card from the deck: 5 of Spades\n"
     ]
    }
   ],
   "source": [
    "from random import shuffle\n",
    "\n",
    "# Base class for cards\n",
    "class Cards:\n",
    "    SUITS = ['Hearts', 'Diamonds', 'Clubs', 'Spades']\n",
    "    VALUES = ['A', '2', '3', '4', '5', '6', '7', '8', '9', '10', 'J', 'Q', 'K']\n",
    "\n",
    "\n",
    "class Deck(Cards):\n",
    "    def __init__(self):\n",
    "        super().__init__()  # used in Inheritance\n",
    "        self.cards = [f\"{value} of {suit}\" for suit in self.SUITS for value in self.VALUES]\n",
    "\n",
    "    def pop_card(self):\n",
    "        if not self.cards:\n",
    "            return \"No cards left to pop.\"\n",
    "        return self.cards.pop()\n",
    "\n",
    "    def __str__(self):\n",
    "        return ', '.join(self.cards)\n",
    "\n",
    "\n",
    "class ShuffledDeck(Deck):\n",
    "    def __init__(self):\n",
    "        super().__init__()\n",
    "\n",
    "    def shuffle_deck(self):\n",
    "        if len(self.cards) < 52:\n",
    "            return \"Cannot shuffle: deck is incomplete.\"\n",
    "        shuffle(self.cards)\n",
    "        return self.cards\n",
    "\n",
    "    def pop_card(self):\n",
    "        if not self.cards:\n",
    "            return \"No cards left to pop.\"\n",
    "        return self.cards.pop()\n",
    "\n",
    "\n",
    "if __name__ == \"__main__\":   # runs file directly\n",
    "    \n",
    "    # Player 1 - unshuffled deck\n",
    "    player1_deck = Deck()\n",
    "    print(\"\\nPlayer 1 Cards:\\n\", player1_deck)\n",
    "\n",
    "    # Player 2 - shuffled deck\n",
    "    player2_deck = ShuffledDeck()\n",
    "    player2_deck.shuffle_deck()\n",
    "    print(\"\\nPlayer 2 Cards (Shuffled):\\n\", player2_deck)\n",
    "\n",
    "\n",
    "    print(\"\\n Removing a card from the deck:\", player2_deck.pop_card())   # Popping cards from shuffled deck\n",
    "    print(\"Removing another card from the deck:\", player2_deck.pop_card())\n"
   ]
  },
  {
   "cell_type": "markdown",
   "id": "1d7c2b72-ba5b-43bf-86df-cae3b25fb378",
   "metadata": {},
   "source": []
  },
  {
   "cell_type": "markdown",
   "id": "df531c63-10d7-4755-b07e-3ff0ef6fb69e",
   "metadata": {},
   "source": [
    "# Student Management System"
   ]
  },
  {
   "cell_type": "code",
   "execution_count": 16,
   "id": "4b995182-f75e-459f-9359-fa22aaf2610e",
   "metadata": {},
   "outputs": [
    {
     "name": "stdout",
     "output_type": "stream",
     "text": [
      "\n",
      " List of Students:\n",
      "Name: A, Roll No: 1, Marks1: 100, Marks2: 100\n",
      "Name: B, Roll No: 2, Marks1: 90, Marks2: 90\n",
      "Name: C, Roll No: 3, Marks1: 80, Marks2: 80\n",
      "\n",
      "Searching for Roll No 2:\n",
      "Name: B, Roll No: 2, Marks1: 90, Marks2: 90\n",
      "\n",
      " Deleting Roll No 2:\n",
      "Deleted student with Roll No: 2\n",
      "Name: A, Roll No: 1, Marks1: 100, Marks2: 100\n",
      "Name: C, Roll No: 3, Marks1: 80, Marks2: 80\n",
      "\n",
      "Updating Roll No 3 to 2:\n",
      "Student updated.\n",
      "Name: A, Roll No: 1, Marks1: 100, Marks2: 100\n",
      "Name: C, Roll No: 2, Marks1: 80, Marks2: 80\n",
      "\n",
      "Thank you!\n"
     ]
    }
   ],
   "source": [
    "class Student:\n",
    "    def __init__(self, name, rollno, m1, m2):\n",
    "        self.name = name\n",
    "        self.rollno = rollno\n",
    "        self.m1 = m1\n",
    "        self.m2 = m2\n",
    "\n",
    "    def display(self):\n",
    "        print(f\"Name: {self.name}, Roll No: {self.rollno}, Marks1: {self.m1}, Marks2: {self.m2}\")\n",
    "\n",
    "\n",
    "class StudentManager:\n",
    "    def __init__(self):\n",
    "        self.students = []\n",
    "\n",
    "    def accept(self, name, rollno, m1, m2):\n",
    "        student = Student(name, rollno, m1, m2)\n",
    "        self.students.append(student)\n",
    "\n",
    "    def display_all(self):\n",
    "        if not self.students:\n",
    "            print(\"No student records.\\n\")\n",
    "        for student in self.students:\n",
    "            student.display()\n",
    "        print()\n",
    "\n",
    "    def search(self, rollno):\n",
    "        for student in self.students:\n",
    "            if student.rollno == rollno:\n",
    "                return student\n",
    "        return None\n",
    "\n",
    "    def delete(self, rollno):\n",
    "        student = self.search(rollno)\n",
    "        if student:\n",
    "            self.students.remove(student)\n",
    "            print(f\"Deleted student with Roll No: {rollno}\")\n",
    "        else:\n",
    "            print(\"Student not found.\")\n",
    "\n",
    "    def update(self, rollno, new_rollno=None):\n",
    "        student = self.search(rollno)\n",
    "        if student:\n",
    "            student.rollno = new_rollno or student.rollno\n",
    "            print(\"Student updated.\")\n",
    "        else:\n",
    "            print(\"Student not found.\")\n",
    "\n",
    "\n",
    "\n",
    "manager = StudentManager()\n",
    "\n",
    "# Accept students\n",
    "manager.accept(\"A\", 1, 100, 100)\n",
    "manager.accept(\"B\", 2, 90, 90)\n",
    "manager.accept(\"C\", 3, 80, 80)\n",
    "\n",
    "# Display all students\n",
    "print(\"\\n List of Students:\")\n",
    "manager.display_all()\n",
    "\n",
    "# Search\n",
    "print(\"Searching for Roll No 2:\")\n",
    "student = manager.search(2)\n",
    "if student:\n",
    "    student.display()\n",
    "else:\n",
    "    print(\"Student not found.\")\n",
    "\n",
    "# Delete\n",
    "print(\"\\n Deleting Roll No 2:\")\n",
    "manager.delete(2)\n",
    "manager.display_all()\n",
    "\n",
    "# Update\n",
    "print(\"Updating Roll No 3 to 2:\")\n",
    "manager.update(3, 2)\n",
    "manager.display_all()\n",
    "\n",
    "print(\"Thank you!\")\n"
   ]
  },
  {
   "cell_type": "markdown",
   "id": "20a141fb-9331-4a22-86a6-1aa683aebcef",
   "metadata": {},
   "source": []
  },
  {
   "cell_type": "markdown",
   "id": "a63da327-f67e-47d4-9b56-1f2b66c7a11a",
   "metadata": {},
   "source": [
    "# Create a list of object in python class"
   ]
  },
  {
   "cell_type": "code",
   "execution_count": 17,
   "id": "9f66b986-2cb8-475d-995e-80b65085ae03",
   "metadata": {},
   "outputs": [
    {
     "name": "stdout",
     "output_type": "stream",
     "text": [
      "Meet 2\n",
      "Deepisha 40\n",
      "Rohan 44\n",
      "Veer 67\n"
     ]
    }
   ],
   "source": [
    "class Geeks:\n",
    "    def __init__(self, name, roll):\n",
    "        self.name = name\n",
    "        self.roll = roll\n",
    "\n",
    "\n",
    "a = [Geeks(name, roll) for name, roll in [('Meet', 2), ('Deepisha', 40), ('Rohan', 44), ('Veer', 67)]]\n",
    "\n",
    "for obj in a:\n",
    "    print(obj.name, obj.roll, sep=' ')"
   ]
  },
  {
   "cell_type": "code",
   "execution_count": 22,
   "id": "bb4d12e3-1543-4d84-adf8-5e7b989d0d37",
   "metadata": {},
   "outputs": [
    {
     "name": "stdout",
     "output_type": "stream",
     "text": [
      "Akash2\n",
      "Meet3\n",
      "Mim6\n"
     ]
    }
   ],
   "source": [
    "# Another way to write this code\n",
    "\n",
    "class Geeks:\n",
    "    def __init__(self,name,roll):\n",
    "        self.name = name\n",
    "        self.roll = roll\n",
    "\n",
    "a = []\n",
    "a.extend([Geeks('Akash', 2), Geeks('Meet', 3), Geeks('Mim', 6)])\n",
    "\n",
    "for obj in a:\n",
    "   print(obj.name, obj.roll, sep = '')"
   ]
  },
  {
   "cell_type": "code",
   "execution_count": null,
   "id": "52a5440c-e867-475c-91f4-ce7287f5d407",
   "metadata": {},
   "outputs": [],
   "source": []
  }
 ],
 "metadata": {
  "kernelspec": {
   "display_name": "Python 3 (ipykernel)",
   "language": "python",
   "name": "python3"
  },
  "language_info": {
   "codemirror_mode": {
    "name": "ipython",
    "version": 3
   },
   "file_extension": ".py",
   "mimetype": "text/x-python",
   "name": "python",
   "nbconvert_exporter": "python",
   "pygments_lexer": "ipython3",
   "version": "3.13.5"
  }
 },
 "nbformat": 4,
 "nbformat_minor": 5
}
