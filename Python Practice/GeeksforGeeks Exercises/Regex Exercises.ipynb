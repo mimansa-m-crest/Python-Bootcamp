{
 "cells": [
  {
   "cell_type": "markdown",
   "id": "289a35e8-91e9-4c46-9206-47127aac90ac",
   "metadata": {},
   "source": [
    "# Find IP Address using regex"
   ]
  },
  {
   "cell_type": "code",
   "execution_count": 2,
   "id": "0c844ac9-a890-485d-a322-7f026794c63b",
   "metadata": {},
   "outputs": [],
   "source": [
    "import re"
   ]
  },
  {
   "cell_type": "code",
   "execution_count": 7,
   "id": "15b77f0c-790b-4e0d-996a-6b4ff755009b",
   "metadata": {},
   "outputs": [
    {
     "name": "stdout",
     "output_type": "stream",
     "text": [
      "IPv4\n",
      "IPv6\n",
      "Neither\n"
     ]
    }
   ],
   "source": [
    "\n",
    "\n",
    "ipv4 = '''^(25[0-5]|2[0-4][0-9]|[0-1]?[0-9][0-9]?)\\.( \n",
    "            25[0-5]|2[0-4][0-9]|[0-1]?[0-9][0-9]?)\\.( \n",
    "            25[0-5]|2[0-4][0-9]|[0-1]?[0-9][0-9]?)\\.( \n",
    "            25[0-5]|2[0-4][0-9]|[0-1]?[0-9][0-9]?)$'''\n",
    "\n",
    "\n",
    "ipv6 = '''(([0-9a-fA-F]{1,4}:){7,7}[0-9a-fA-F]{1,4}|\n",
    "        ([0-9a-fA-F]{1,4}:){1,7}:|([0-9a-fA-F]{1,4}:)\n",
    "        {1,6}:[0-9a-fA-F]{1,4}|([0-9a-fA-F]{1,4}:){1\n",
    "        ,5}(:[0-9a-fA-F]{1,4}){1,2}|([0-9a-fA-F]{1,4}\n",
    "        :){1,4}(:[0-9a-fA-F]{1,4}){1,3}|([0-9a-fA-F]{\n",
    "        1,4}:){1,3}(:[0-9a-fA-F]{1,4}){1,4}|([0-9a-fA\n",
    "        -F]{1,4}:){1,2}(:[0-9a-fA-F]{1,4}){1,5}|[0-9a\n",
    "        -fA-F]{1,4}:((:[0-9a-fA-F]{1,4}){1,6})|:((:[0\n",
    "        -9a-fA-F]{1,4}){1,7}|:)|fe80:(:[0-9a-fA-F]{0,\n",
    "        4}){0,4}%[0-9a-zA-Z]{1,}|::(ffff(:0{1,4}){0,1}\n",
    "        :){0,1}((25[0-5]|(2[0-4]|1{0,1}[0-9]){0,1}[0-9\n",
    "        ])\\.){3,3}(25[0-5]|(2[0-4]|1{0,1}[0-9]){0,1}[0\n",
    "        -9])|([0-9a-fA-F]{1,4}:){1,4}:((25[0-5]|(2[0-4]\n",
    "        |1{0,1}[0-9]){0,1}[0-9])\\.){3,3}(25[0-5]|(2[0-4]\n",
    "        |1{0,1}[0-9]){0,1}[0-9]))'''\n",
    "\n",
    " \n",
    "def find(Ip):  \n",
    "  \n",
    "   \n",
    "    if re.search(ipv4, Ip):\n",
    "        print(\"IPv4\")\n",
    "    elif re.search(ipv6, Ip):\n",
    "        print(\"IPv6\")\n",
    "    else:\n",
    "        print(\"Neither\")\n",
    "\n",
    "  \n",
    "if __name__ == '__main__' :  \n",
    "      \n",
    "\n",
    "    Ip = \"192.0.2.126\"\n",
    "    find(Ip) \n",
    "  \n",
    "    Ip = \"3001:0da8:75a3:0000:0000:8a2e:0370:7334\"\n",
    "    find(Ip) \n",
    "  \n",
    "    Ip = \"36.12.08.20.52\"\n",
    "    find(Ip)"
   ]
  },
  {
   "cell_type": "markdown",
   "id": "d1d5dffc-1baa-4381-b4ab-76d9f49452e8",
   "metadata": {},
   "source": []
  },
  {
   "cell_type": "markdown",
   "id": "73808f7a-7126-4ff2-b8cd-d6b5daff58e4",
   "metadata": {},
   "source": [
    "# Find indices of Overlapping substrings"
   ]
  },
  {
   "cell_type": "code",
   "execution_count": 2,
   "id": "c4890612-9b03-4f1b-af6b-e5368df409a9",
   "metadata": {},
   "outputs": [
    {
     "name": "stdout",
     "output_type": "stream",
     "text": [
      "Indices of overlapping substrings: [0, 12]\n"
     ]
    }
   ],
   "source": [
    "def find_overlapping_indices(text, pattern):\n",
    "    \n",
    "    indices = []\n",
    "    start = 0\n",
    "    \n",
    "    while start <= len(text) - len(pattern):\n",
    "        pos = text.find(pattern, start)\n",
    "        \n",
    "        if pos == -1:\n",
    "            break\n",
    "            \n",
    "        indices.append(pos)\n",
    "        start = pos + 1 \n",
    "    \n",
    "    return indices\n",
    "\n",
    "\n",
    "text = \"abcacabacaccabcabacbac\"\n",
    "pattern = \"abc\"\n",
    "\n",
    "result = find_overlapping_indices(text, pattern)\n",
    "print(\"Indices of overlapping substrings:\", result)\n"
   ]
  },
  {
   "cell_type": "markdown",
   "id": "3299612d-8bda-432e-8f81-b812f881f282",
   "metadata": {},
   "source": []
  },
  {
   "cell_type": "markdown",
   "id": "64181c51-6fbd-458c-a3b0-8384df3f74f7",
   "metadata": {},
   "source": [
    "# Extract strings between HTML Tags"
   ]
  },
  {
   "cell_type": "code",
   "execution_count": 3,
   "id": "5baee123-60a2-453b-b1e3-e6d3282128b7",
   "metadata": {},
   "outputs": [],
   "source": [
    "import re"
   ]
  },
  {
   "cell_type": "code",
   "execution_count": 7,
   "id": "d04f26d5-0afd-4f4e-9354-3f8a639efe1c",
   "metadata": {},
   "outputs": [
    {
     "name": "stdout",
     "output_type": "stream",
     "text": [
      "The original string<b> Hi </b> how is it <b> mim </b>. Are you <b> driving Porsche? </b>.\n",
      " The string extracted : [' Hi ', ' mim ', ' driving Porsche? ']\n"
     ]
    }
   ],
   "source": [
    "test_str = '<b> Hi </b> how is it <b> mim </b>. Are you <b> driving Porsche? </b>.'\n",
    "\n",
    "print('The original string' + str(test_str))\n",
    "\n",
    "tag = 'b'\n",
    "\n",
    "reg_str = \"<\" + tag + \">(.*?)</\" + tag + \">\"\n",
    "\n",
    "res = re.findall(reg_str,test_str)\n",
    "\n",
    "print(\" The string extracted : \" + str(res))"
   ]
  },
  {
   "cell_type": "markdown",
   "id": "9b51b3aa-db39-42f8-9010-16f80214bbfe",
   "metadata": {},
   "source": []
  },
  {
   "cell_type": "markdown",
   "id": "6bfd9fc6-6caa-46c2-885d-da7f7201db15",
   "metadata": {},
   "source": [
    "# Check if string contain only defined characters"
   ]
  },
  {
   "cell_type": "code",
   "execution_count": 12,
   "id": "1207db1d-b45b-44f7-820e-1d54617d7672",
   "metadata": {},
   "outputs": [
    {
     "name": "stdout",
     "output_type": "stream",
     "text": [
      "Valid String\n",
      "Invalid String\n"
     ]
    }
   ],
   "source": [
    "\n",
    "import re\n",
    "\n",
    "def check(str, pattern):\n",
    "    \n",
    "    if re.search(pattern, str):\n",
    "        print(\"Valid String\")\n",
    "    else:\n",
    "        print(\"Invalid String\")\n",
    "\n",
    "pattern = re.compile('^[1234]+$')\n",
    "\n",
    "check('2134', pattern)\n",
    "check('349', pattern)"
   ]
  },
  {
   "cell_type": "markdown",
   "id": "91f2d431-c635-4884-ab07-f035ea20c0db",
   "metadata": {},
   "source": []
  },
  {
   "cell_type": "markdown",
   "id": "bc085f88-7b67-415e-abaf-559dccf7ad7f",
   "metadata": {},
   "source": [
    "#  Find files having a particular extension"
   ]
  },
  {
   "cell_type": "code",
   "execution_count": 13,
   "id": "162c4ad0-3ae1-4164-ab60-329ba0a8d345",
   "metadata": {},
   "outputs": [
    {
     "name": "stdout",
     "output_type": "stream",
     "text": [
      "The file name is: leo.xml\n"
     ]
    }
   ],
   "source": [
    "import re\n",
    "\n",
    "filenames = ['music.html', 'leo.xml', 'max.jpg', 'porsche.txt']\n",
    "\n",
    "for file in filenames:\n",
    "    match = re.search(\"\\.xml$\", file)\n",
    "\n",
    "    if match:\n",
    "        print('The file name is:', file)\n",
    "\n",
    "        "
   ]
  },
  {
   "cell_type": "code",
   "execution_count": null,
   "id": "6ab6a015-0502-454a-9d78-de8d109b15ea",
   "metadata": {},
   "outputs": [],
   "source": []
  }
 ],
 "metadata": {
  "kernelspec": {
   "display_name": "Python 3 (ipykernel)",
   "language": "python",
   "name": "python3"
  },
  "language_info": {
   "codemirror_mode": {
    "name": "ipython",
    "version": 3
   },
   "file_extension": ".py",
   "mimetype": "text/x-python",
   "name": "python",
   "nbconvert_exporter": "python",
   "pygments_lexer": "ipython3",
   "version": "3.13.5"
  }
 },
 "nbformat": 4,
 "nbformat_minor": 5
}
