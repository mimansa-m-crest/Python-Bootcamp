{
 "cells": [
  {
   "cell_type": "code",
   "execution_count": 1,
   "id": "fa0c16b3-fd0d-4fa0-94c7-e04444d5dc8c",
   "metadata": {},
   "outputs": [
    {
     "name": "stdout",
     "output_type": "stream",
     "text": [
      "The original list : [[5, 8, 9], [2, 0, 9], [5, 4, 2], [2, 3, 9]]\n",
      "The Assigned Matrix : {5: [2, 0, 9], 8: [5, 4, 2], 9: [2, 3, 9]}\n"
     ]
    }
   ],
   "source": [
    "\n",
    "# Assigning Subsequent Rows to Matrix first row elements\n",
    "\n",
    "test_list = [[5, 8, 9], [2, 0, 9], [5, 4, 2], [2, 3, 9]]\n",
    "\n",
    "\n",
    "print(\"The original list : \" + str(test_list))\n",
    "\n",
    "res = dict(zip(test_list[0], test_list[1:]))\n",
    "\n",
    "\n",
    "print(\"The Assigned Matrix : \" + str(res))"
   ]
  },
  {
   "cell_type": "code",
   "execution_count": 3,
   "id": "8f146031-4dda-49a8-b884-3d45a7e11ea4",
   "metadata": {},
   "outputs": [
    {
     "name": "stdout",
     "output_type": "stream",
     "text": [
      "Print elements of first matrix\n",
      "[[1 2]\n",
      " [3 4]]\n",
      "Print elements of second matrix\n",
      "[[4 5]\n",
      " [6 7]]\n",
      "Addition of two matrix\n",
      "[[ 5  7]\n",
      " [ 9 11]]\n"
     ]
    }
   ],
   "source": [
    "import numpy as np\n",
    "\n",
    "A = np.array([[1, 2], [3, 4]])\n",
    "\n",
    "B = np.array([[4, 5], [6, 7]])\n",
    "\n",
    "print(\"Print elements of first matrix\")\n",
    "print(A)\n",
    "print(\"Print elements of second matrix\")\n",
    "print(B)\n",
    "\n",
    "# adding two matrix\n",
    "print(\"Addition of two matrix\")\n",
    "print(np.add(A,B))"
   ]
  },
  {
   "cell_type": "code",
   "execution_count": 5,
   "id": "505282b2-fb64-4b1f-b9da-e93901f10570",
   "metadata": {},
   "outputs": [
    {
     "name": "stdout",
     "output_type": "stream",
     "text": [
      "1 [1, 1]\n",
      "2 [2]\n",
      "3 [3, 3, 3]\n"
     ]
    }
   ],
   "source": [
    "from itertools import groupby\n",
    "\n",
    "test_list = [1, 1, 2, 3, 3, 3]\n",
    "for key, group in groupby(test_list):\n",
    "    print(key, list(group))\n"
   ]
  },
  {
   "cell_type": "code",
   "execution_count": 6,
   "id": "d5112d2a-d851-428c-9000-44a73d32e838",
   "metadata": {},
   "outputs": [
    {
     "name": "stdout",
     "output_type": "stream",
     "text": [
      "[[('Gfg', 3, 1)], [('best', 1, 2)]]\n"
     ]
    }
   ],
   "source": [
    "test_list = [[('Gfg', 3)], [('best', 1)]]\n",
    "list1 = [1, 2]\n",
    "\n",
    "\n",
    "res = [[tup + (list1[i],) for tup in sublist] for i, sublist in enumerate(test_list)]\n",
    "\n",
    "print(res)\n"
   ]
  },
  {
   "cell_type": "code",
   "execution_count": 3,
   "id": "43678c45-5e64-4bec-90f0-53128c023507",
   "metadata": {},
   "outputs": [
    {
     "name": "stdout",
     "output_type": "stream",
     "text": [
      "1 2 3 4\n",
      "8 7 6 5\n",
      "9 10 11 12\n",
      "16 15 14 13\n"
     ]
    }
   ],
   "source": [
    "def generate_matrix(n):\n",
    "    num = 1\n",
    "    matrix = []\n",
    "\n",
    "    # Fill the matrix row by row\n",
    "    for i in range(n):\n",
    "        row = []\n",
    "        for j in range(n):\n",
    "            row.append(num)\n",
    "            num += 1\n",
    "        # Reverse every odd-indexed row (only if n is even)\n",
    "        if n % 2 == 0 and i % 2 == 1:\n",
    "            row.reverse()\n",
    "        matrix.append(row)\n",
    "\n",
    "    # Print the matrix\n",
    "    for row in matrix:\n",
    "        print(*row)\n",
    "\n",
    "# Example usage\n",
    "n = 4\n",
    "generate_matrix(n)\n"
   ]
  },
  {
   "cell_type": "code",
   "execution_count": null,
   "id": "0b6fe8e2-e9d5-48c2-9609-97abea3fdd3e",
   "metadata": {},
   "outputs": [],
   "source": []
  }
 ],
 "metadata": {
  "kernelspec": {
   "display_name": "Python 3 (ipykernel)",
   "language": "python",
   "name": "python3"
  },
  "language_info": {
   "codemirror_mode": {
    "name": "ipython",
    "version": 3
   },
   "file_extension": ".py",
   "mimetype": "text/x-python",
   "name": "python",
   "nbconvert_exporter": "python",
   "pygments_lexer": "ipython3",
   "version": "3.13.5"
  }
 },
 "nbformat": 4,
 "nbformat_minor": 5
}
