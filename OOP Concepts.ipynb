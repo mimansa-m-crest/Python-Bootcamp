{
 "cells": [
  {
   "cell_type": "code",
   "execution_count": 20,
   "id": "0c5c8cc5-8432-4cff-9180-af4ff125c574",
   "metadata": {},
   "outputs": [],
   "source": [
    "class dog():\n",
    "\n",
    "    species = 'mammal'\n",
    "    def __init__(self, breed, name, spots):\n",
    "\n",
    "     self.breed = breed\n",
    "     self.name = name\n",
    "     self.spots = spots\n",
    "\n",
    "    def bark(self):\n",
    "        print('woof! I am {}'.format(self.name))\n",
    "        \n",
    "    "
   ]
  },
  {
   "cell_type": "code",
   "execution_count": 21,
   "id": "7d0623f7-a929-44c1-a79c-965c89b75912",
   "metadata": {},
   "outputs": [],
   "source": [
    "my_dog = dog(breed = 'golden', name = 'leo', spots = False)"
   ]
  },
  {
   "cell_type": "code",
   "execution_count": 22,
   "id": "f7578dc5-c294-47dc-9548-76ac5a970765",
   "metadata": {},
   "outputs": [
    {
     "data": {
      "text/plain": [
       "__main__.dog"
      ]
     },
     "execution_count": 22,
     "metadata": {},
     "output_type": "execute_result"
    }
   ],
   "source": [
    "type(my_dog)"
   ]
  },
  {
   "cell_type": "code",
   "execution_count": 23,
   "id": "fdb7ee33-4e04-4385-bd90-2f62dd02bbc1",
   "metadata": {},
   "outputs": [
    {
     "data": {
      "text/plain": [
       "'golden'"
      ]
     },
     "execution_count": 23,
     "metadata": {},
     "output_type": "execute_result"
    }
   ],
   "source": [
    "my_dog.breed"
   ]
  },
  {
   "cell_type": "code",
   "execution_count": 24,
   "id": "ddc55e22-f6bd-45fe-9de3-e26e6cc7c9e4",
   "metadata": {},
   "outputs": [
    {
     "data": {
      "text/plain": [
       "'leo'"
      ]
     },
     "execution_count": 24,
     "metadata": {},
     "output_type": "execute_result"
    }
   ],
   "source": [
    "my_dog.name"
   ]
  },
  {
   "cell_type": "code",
   "execution_count": 25,
   "id": "9d3418ee-1a48-4787-8253-4c36579c5b5a",
   "metadata": {},
   "outputs": [
    {
     "data": {
      "text/plain": [
       "'mammal'"
      ]
     },
     "execution_count": 25,
     "metadata": {},
     "output_type": "execute_result"
    }
   ],
   "source": [
    "my_dog.species"
   ]
  },
  {
   "cell_type": "code",
   "execution_count": 26,
   "id": "966d3aef-5064-4554-b619-e20573ca4044",
   "metadata": {},
   "outputs": [
    {
     "name": "stdout",
     "output_type": "stream",
     "text": [
      "woof! I am leo\n"
     ]
    }
   ],
   "source": [
    "my_dog.bark()"
   ]
  },
  {
   "cell_type": "code",
   "execution_count": 34,
   "id": "c8db706a-d1eb-4779-889f-46d31b8493a2",
   "metadata": {},
   "outputs": [],
   "source": [
    "class circle():\n",
    "    pi = 3.14\n",
    "    def __init__(self, radius = 1):\n",
    "         self.radius = radius\n",
    "         self.area = radius * radius * self.pi\n",
    "\n",
    "    def get_area(self):\n",
    "        return self.radius * self.radius * self.pi"
   ]
  },
  {
   "cell_type": "code",
   "execution_count": 38,
   "id": "653e53a1-914f-4562-8eae-9edc500b3dc5",
   "metadata": {},
   "outputs": [],
   "source": [
    "my_circle = circle(2)"
   ]
  },
  {
   "cell_type": "code",
   "execution_count": 39,
   "id": "379406f6-e2d9-4f61-8889-0cd68d17c44e",
   "metadata": {},
   "outputs": [
    {
     "data": {
      "text/plain": [
       "12.56"
      ]
     },
     "execution_count": 39,
     "metadata": {},
     "output_type": "execute_result"
    }
   ],
   "source": [
    "my_circle.get_area()"
   ]
  },
  {
   "cell_type": "markdown",
   "id": "3915ab3f-31e9-411b-bf16-0ebe2be65777",
   "metadata": {},
   "source": [
    "# Inheritance"
   ]
  },
  {
   "cell_type": "code",
   "execution_count": 40,
   "id": "238c7310-88d7-4146-be4f-260ef55cedee",
   "metadata": {},
   "outputs": [],
   "source": [
    "# base class\n",
    "\n",
    "class animal():\n",
    "\n",
    "    def __init__(self):\n",
    "        print(\"Animal created\")\n",
    "\n",
    "    def who_am_i(self):\n",
    "        print(\" I am an animal\")\n",
    "\n",
    "    def eat(self):\n",
    "        print(\"I am eating\")"
   ]
  },
  {
   "cell_type": "code",
   "execution_count": 41,
   "id": "6f6f8e3c-d988-4cdd-acae-3a1fa5d20de7",
   "metadata": {},
   "outputs": [],
   "source": [
    "class dog(animal):  #animal is inherited to this class as mot of the char looks same\n",
    "\n",
    "    def __init__(self):\n",
    "        animal.__init__(self)  \n",
    "        print(\"Dog created\")\n",
    "\n",
    "    def eat(self):\n",
    "        print(\"I am a dog and eating\")\n",
    "\n",
    "    def bark(self):\n",
    "        print(\"Woof!\")"
   ]
  },
  {
   "cell_type": "code",
   "execution_count": 42,
   "id": "433942f8-51be-49e6-aa05-30a949580990",
   "metadata": {},
   "outputs": [
    {
     "name": "stdout",
     "output_type": "stream",
     "text": [
      "Animal created\n",
      "Dog created\n"
     ]
    }
   ],
   "source": [
    "my_dog = dog()"
   ]
  },
  {
   "cell_type": "code",
   "execution_count": 43,
   "id": "610f0e29-8acf-4cb4-b7ef-b7985a8a4489",
   "metadata": {},
   "outputs": [
    {
     "name": "stdout",
     "output_type": "stream",
     "text": [
      "I am a dog and eating\n"
     ]
    }
   ],
   "source": [
    "my_dog.eat()"
   ]
  },
  {
   "cell_type": "markdown",
   "id": "723b5dc0-3dee-48a7-9861-19f3359562aa",
   "metadata": {},
   "source": [
    "# Polymorhism"
   ]
  },
  {
   "cell_type": "code",
   "execution_count": 44,
   "id": "0b463ead-a6a0-46d8-a33c-cf458925d19f",
   "metadata": {},
   "outputs": [],
   "source": [
    "class dog():\n",
    "\n",
    "    def __init__(self,name):\n",
    "        self.name = name\n",
    "\n",
    "    def speak(self):\n",
    "        return self.name + \" says woof!\"\n",
    "        "
   ]
  },
  {
   "cell_type": "code",
   "execution_count": 45,
   "id": "64670e96-1b47-4039-b31a-966f9fd4b366",
   "metadata": {},
   "outputs": [],
   "source": [
    "class cat():\n",
    "\n",
    "    def __init__(self,name):\n",
    "        self.name = name\n",
    "\n",
    "    def speak(self):\n",
    "        return self.name + \" says meow!\"\n",
    "        "
   ]
  },
  {
   "cell_type": "code",
   "execution_count": 46,
   "id": "f0eb1330-4d93-4fbf-a132-b6a78f2ba46f",
   "metadata": {},
   "outputs": [],
   "source": [
    "nico = dog(\"nico\")"
   ]
  },
  {
   "cell_type": "code",
   "execution_count": 47,
   "id": "32c443f6-cb25-4f64-8a63-2c7eb6d8a854",
   "metadata": {},
   "outputs": [],
   "source": [
    "leo = cat(\"leo\")"
   ]
  },
  {
   "cell_type": "code",
   "execution_count": 48,
   "id": "0a50a856-9442-42de-a0ff-03f704105851",
   "metadata": {},
   "outputs": [
    {
     "data": {
      "text/plain": [
       "'nico says woof!'"
      ]
     },
     "execution_count": 48,
     "metadata": {},
     "output_type": "execute_result"
    }
   ],
   "source": [
    "nico.speak()"
   ]
  },
  {
   "cell_type": "code",
   "execution_count": 49,
   "id": "7700adb6-f7c1-4b59-b9fb-5a8ad11ef98e",
   "metadata": {},
   "outputs": [
    {
     "data": {
      "text/plain": [
       "'leo says meow!'"
      ]
     },
     "execution_count": 49,
     "metadata": {},
     "output_type": "execute_result"
    }
   ],
   "source": [
    "leo.speak()"
   ]
  },
  {
   "cell_type": "code",
   "execution_count": 50,
   "id": "c90e589b-7a42-406d-bd8c-9177fe5bb523",
   "metadata": {},
   "outputs": [
    {
     "name": "stdout",
     "output_type": "stream",
     "text": [
      "<class '__main__.dog'>\n",
      "nico says woof!\n",
      "<class '__main__.cat'>\n",
      "leo says meow!\n"
     ]
    }
   ],
   "source": [
    "for pet in [nico,leo]:\n",
    "    print(type(pet))\n",
    "    print(pet.speak())"
   ]
  },
  {
   "cell_type": "markdown",
   "id": "7dd7e93f-fad4-45cf-aba4-ef139d45e542",
   "metadata": {},
   "source": [
    "# Assignment Test"
   ]
  },
  {
   "cell_type": "code",
   "execution_count": 53,
   "id": "caae0e3c-0133-47a8-bfab-898633e11fcf",
   "metadata": {},
   "outputs": [],
   "source": [
    "class line(object):\n",
    "    \n",
    "    def __init__(self,coor1,coor2):\n",
    "        self.coor1 = coor1\n",
    "        self.coor2 = coor2\n",
    "    \n",
    "    def distance(self):\n",
    "        x1,y1 = self.coor1\n",
    "        x2,y2 = self.coor2\n",
    "        return ((x2-x1)**2 + (y2-y1)**2)**0.5\n",
    "    \n",
    "    def slope(self):\n",
    "        x1,y1 = self.coor1\n",
    "        x2,y2 = self.coor2\n",
    "        return (y2-y1)/(x2-x1)"
   ]
  },
  {
   "cell_type": "code",
   "execution_count": 54,
   "id": "6691555a-cf1d-4ff9-925b-f1a3bac8928b",
   "metadata": {},
   "outputs": [],
   "source": [
    "coor1 = (3,10)\n",
    "coor2 = (2,8)\n",
    "\n",
    "li = line(coor1, coor2)"
   ]
  },
  {
   "cell_type": "code",
   "execution_count": 55,
   "id": "42e071b6-e032-456f-9693-52df51176c8e",
   "metadata": {},
   "outputs": [
    {
     "data": {
      "text/plain": [
       "2.23606797749979"
      ]
     },
     "execution_count": 55,
     "metadata": {},
     "output_type": "execute_result"
    }
   ],
   "source": [
    "li.distance()"
   ]
  },
  {
   "cell_type": "code",
   "execution_count": 56,
   "id": "cb6d8ed2-897d-4e83-bb50-8fff38f46b8d",
   "metadata": {},
   "outputs": [
    {
     "data": {
      "text/plain": [
       "2.0"
      ]
     },
     "execution_count": 56,
     "metadata": {},
     "output_type": "execute_result"
    }
   ],
   "source": [
    "li.slope()"
   ]
  },
  {
   "cell_type": "code",
   "execution_count": 58,
   "id": "e07cfbff-d429-4ffc-8ca9-4d886baafe99",
   "metadata": {},
   "outputs": [],
   "source": [
    "class cylinder:\n",
    "    \n",
    "    def __init__(self,height=1,radius=1):\n",
    "        self.height = height\n",
    "        self.radius = radius\n",
    "        \n",
    "    def volume(self):\n",
    "        return self.height*3.14*(self.radius)**2"
   ]
  },
  {
   "cell_type": "code",
   "execution_count": 59,
   "id": "6f2512f2-7e90-4d13-9a0c-520bb9b552f0",
   "metadata": {},
   "outputs": [],
   "source": [
    "c = cylinder(3,4)"
   ]
  },
  {
   "cell_type": "code",
   "execution_count": 60,
   "id": "654709c7-ce06-41ac-b5a7-9e0569fa7620",
   "metadata": {},
   "outputs": [
    {
     "data": {
      "text/plain": [
       "150.72"
      ]
     },
     "execution_count": 60,
     "metadata": {},
     "output_type": "execute_result"
    }
   ],
   "source": [
    "c.volume()"
   ]
  },
  {
   "cell_type": "markdown",
   "id": "951d061e-981f-49a7-814e-cc2897218a14",
   "metadata": {},
   "source": [
    "# Challenge problem"
   ]
  },
  {
   "cell_type": "code",
   "execution_count": 14,
   "id": "78760460-4f29-4e71-ab9e-acfc94e54165",
   "metadata": {},
   "outputs": [],
   "source": [
    "class Account:\n",
    "\n",
    "    def __init__(self, owner, balance=0):\n",
    "        self.owner = owner\n",
    "        self.balance = balance\n",
    "\n",
    "    def __str__(self):\n",
    "        return f'Account owner: {self.owner}\\nAccount balance: ${self.balance}'\n",
    "\n",
    "    def deposit(self, dep_amt):\n",
    "        self.balance += dep_amt\n",
    "        print('Deposit Accepted')\n",
    "\n",
    "    def withdrawal(self,wit_amt):\n",
    "        if self.balance >= wit_amt:\n",
    "            self.balance -= wit_amt\n",
    "            print('Withdrawal Accepted')\n",
    "        else:\n",
    "            print('Funds Unavailable')\n",
    "        "
   ]
  },
  {
   "cell_type": "code",
   "execution_count": 15,
   "id": "9898fcea-e24c-4a26-8dff-1e2d3a211e3a",
   "metadata": {},
   "outputs": [],
   "source": [
    "acc1 = Account(\"Mim\", 100)"
   ]
  },
  {
   "cell_type": "code",
   "execution_count": 16,
   "id": "3e0ef418-3dff-442e-94d2-ae0c014b90b0",
   "metadata": {},
   "outputs": [
    {
     "name": "stdout",
     "output_type": "stream",
     "text": [
      "Account owner: Mim\n",
      "Account balance: $100\n"
     ]
    }
   ],
   "source": [
    "print(acc1)"
   ]
  },
  {
   "cell_type": "code",
   "execution_count": 18,
   "id": "00ffcead-3a7e-479c-a354-2ef2836e0763",
   "metadata": {},
   "outputs": [
    {
     "name": "stdout",
     "output_type": "stream",
     "text": [
      "Deposit Accepted\n"
     ]
    }
   ],
   "source": [
    "acc1.deposit(500)"
   ]
  },
  {
   "cell_type": "code",
   "execution_count": 19,
   "id": "8a2aab9f-bab3-4d0b-83e3-494ef3f08b88",
   "metadata": {},
   "outputs": [
    {
     "name": "stdout",
     "output_type": "stream",
     "text": [
      "Withdrawal Accepted\n"
     ]
    }
   ],
   "source": [
    "acc1.withdrawal(200)"
   ]
  },
  {
   "cell_type": "code",
   "execution_count": 21,
   "id": "00ca39e1-5e0e-4c9f-8148-0a608082e5e3",
   "metadata": {},
   "outputs": [
    {
     "name": "stdout",
     "output_type": "stream",
     "text": [
      "Funds Unavailable\n"
     ]
    }
   ],
   "source": [
    "acc1.withdrawal(1000)"
   ]
  },
  {
   "cell_type": "code",
   "execution_count": null,
   "id": "8db3ec06-6d66-4980-91ef-4eab94127971",
   "metadata": {},
   "outputs": [],
   "source": []
  }
 ],
 "metadata": {
  "kernelspec": {
   "display_name": "Python 3 (ipykernel)",
   "language": "python",
   "name": "python3"
  },
  "language_info": {
   "codemirror_mode": {
    "name": "ipython",
    "version": 3
   },
   "file_extension": ".py",
   "mimetype": "text/x-python",
   "name": "python",
   "nbconvert_exporter": "python",
   "pygments_lexer": "ipython3",
   "version": "3.13.5"
  }
 },
 "nbformat": 4,
 "nbformat_minor": 5
}
